{
 "cells": [
  {
   "cell_type": "code",
   "execution_count": 1,
   "metadata": {},
   "outputs": [
    {
     "name": "stderr",
     "output_type": "stream",
     "text": [
      "/home/alexi/miniconda3/envs/xMD/lib/python3.10/site-packages/tqdm/auto.py:21: TqdmWarning: IProgress not found. Please update jupyter and ipywidgets. See https://ipywidgets.readthedocs.io/en/stable/user_install.html\n",
      "  from .autonotebook import tqdm as notebook_tqdm\n",
      "/home/alexi/miniconda3/envs/xMD/lib/python3.10/site-packages/Bio/Application/__init__.py:40: BiopythonDeprecationWarning: The Bio.Application modules and modules relying on it have been deprecated.\n",
      "\n",
      "Due to the on going maintenance burden of keeping command line application\n",
      "wrappers up to date, we have decided to deprecate and eventually remove these\n",
      "modules.\n",
      "\n",
      "We instead now recommend building your command line and invoking it directly\n",
      "with the subprocess module.\n",
      "  warnings.warn(\n"
     ]
    },
    {
     "name": "stdout",
     "output_type": "stream",
     "text": [
      "/home/alexi/Documents/xMD\n",
      "config\n",
      "topology/BPTI\n"
     ]
    }
   ],
   "source": [
    "# BPTI Gen Vel analysis\n",
    "import MDAnalysis as mda\n",
    "import numpy as np\n",
    "from MDAnalysis.analysis import align, rms,pca\n",
    "import copy\n",
    "\n",
    "# import pca from scikit-learn\n",
    "\n",
    "from sklearn.decomposition import PCA\n",
    "# import tsne\n",
    "from sklearn.manifold import TSNE\n",
    "\n",
    "# xMD testing\n",
    "import pandas as pd\n",
    "import os\n",
    "from xMD.xMD import xMD\n",
    "from xMD.MD_Settings import GROMACS_Settings\n",
    "\n",
    "settings = GROMACS_Settings()\n",
    "\n",
    "\n",
    "amber14sb_ff_path = os.path.join(os.getcwd())\n",
    "\n",
    "# Set the GMXLIB environment variable\n",
    "os.environ[\"GMXLIB\"] = amber14sb_ff_path\n",
    "\n",
    "\n",
    "\n",
    "settings = GROMACS_Settings()\n",
    "settings.suffix = \"APO_amber99\"\n",
    "# settings.search = \"APO\"\n",
    "\n",
    "print(settings.config)\n",
    "\n",
    "settings.topology = os.path.join(settings.topology,\"BPTI\")\n",
    "print(settings.topology)\n",
    "# make sure to turn on MPI for HPC \n",
    "settings.gmx_mpi_on = False\n",
    "\n"
   ]
  },
  {
   "cell_type": "code",
   "execution_count": 2,
   "metadata": {},
   "outputs": [],
   "source": [
    "def load_cattraj_to_mda(cattraj, top_path:str):\n",
    "    \n",
    "    if top_path is None:\n",
    "        top_path = cattraj.replace(\".xtc\", \".pdb\")\n",
    "\n",
    "    u = mda.Universe(top_path, cattraj)\n",
    "\n",
    "\n",
    "    return u\n",
    "\n",
    "\n",
    "def mda_to_df(u: mda.Universe, pdbcode:str, name:str):\n",
    "\n",
    "    df = pd.DataFrame(columns=[\"pdbcode\", \"name\", \"frame\", \"rmsd\"])\n",
    "\n",
    "    # Reference for RMSD (first frame)\n",
    "    ref = u.copy()\n",
    "    ref.trajectory[0]\n",
    "\n",
    "    # Calculate RMSD\n",
    "    rmsd_analysis = rms.RMSD(u, ref, select=\"name CA\")\n",
    "    rmsd_analysis.run()\n",
    "\n",
    "\n",
    "    # Populate DataFrame\n",
    "    for i, frame in enumerate(u.trajectory):\n",
    "        frame_rmsd = rmsd_analysis.rmsd[i, 2]  # RMSD value\n",
    "        df_to_add = pd.DataFrame([[pdbcode, name, i, frame_rmsd, 0, 0]], columns=df.columns)\n",
    "        df = pd.concat([df, df_to_add], ignore_index=True)\n",
    "    \n",
    "    return df"
   ]
  },
  {
   "cell_type": "code",
   "execution_count": 3,
   "metadata": {},
   "outputs": [],
   "source": [
    "def run_multi_analysis(pdbcode:str, names:list, reps:int):\n",
    "\n",
    "    df = pd.DataFrame(columns=[\"pdbcode\", \"name\", \"frame\", \"rmsd\", \"rep\"])\n",
    "\n",
    "    paths = []\n",
    "\n",
    "    for name in names:\n",
    "        for rep in range(1,reps+1):\n",
    "            print(f\"Running {name} rep {rep}\")\n",
    "            \n",
    "            md = xMD(settings, name, pdbcode, rep)\n",
    "            \n",
    "            data_dir = md.generate_path_structure()\n",
    "            viz_dir = data_dir.replace(\"data\", \"visualisation\")\n",
    "\n",
    "            rep_dir = \"R_\" + str(rep)\n",
    "\n",
    "\n",
    "            cat_traj_name = \"_\".join([md.settings.suffix,\n",
    "                                        md.settings.pdbcode,\n",
    "                                        str(rep)]) + \"-nojump\" + \".xtc\"\n",
    "\n",
    "            cat_traj_path = os.path.join(data_dir, rep_dir, cat_traj_name)\n",
    "            paths.append(cat_traj_path)\n",
    "            top_name = cat_traj_name.replace(\".xtc\", \".pdb\")\n",
    "            top_path = os.path.join(data_dir, rep_dir, top_name)\n",
    "\n",
    "            u = load_cattraj_to_mda(cat_traj_path, top_path)\n",
    "            \n",
    "            df_to_add = mda_to_df(u, pdbcode, name)\n",
    "            \n",
    "    print(df.head())\n",
    "    print(df.tail())\n",
    "\n",
    "    dim_u = mda.Universe(top_path, *paths)\n",
    "    \n",
    "    coordinates = np.zeros((dim_u.trajectory.n_frames, dim_u.atoms.n_atoms, 3))\n",
    "    for i, frame in enumerate(dim_u.trajectory):\n",
    "        coordinates[i] = frame.positions\n",
    "    n_frames = coordinates.shape[0]\n",
    "    n_atoms = coordinates.shape[1]\n",
    "    coordinates = coordinates.reshape(n_frames, n_atoms * 3)\n",
    "\n",
    "\n",
    "    print(coordinates.shape)\n",
    "\n",
    "\n",
    "    pca = PCA(n_components=2)\n",
    "    pca_results = pca.fit_transform(coordinates)\n",
    "\n",
    "    # Add the PCA results to the DataFrame\n",
    "    # Ensure df has the same number of rows as there are frames in the MD trajectory\n",
    "    df[\"PCA1\"] = pca_results[:, 0]\n",
    "    df[\"PCA2\"] = pca_results[:, 1]\n",
    "\n",
    "    tsne = TSNE(n_components=2)\n",
    "\n",
    "    tsne_results = tsne.fit_transform(coordinates)\n",
    "\n",
    "    df[\"tSNE1\"] = tsne_results[:, 0]\n",
    "    df[\"tSNE2\"] = tsne_results[:, 1]    \n",
    "\n",
    "\n",
    "    return df\n"
   ]
  },
  {
   "cell_type": "code",
   "execution_count": 12,
   "metadata": {},
   "outputs": [
    {
     "name": "stdout",
     "output_type": "stream",
     "text": [
      "Running BPTI_genvel2 rep 1\n",
      "Replicate number:  1\n",
      "Trial directory temporary:  temporary/MD/5PTI/BPTI_genvel2\n",
      "Trial directory logs:  logs/MD/5PTI/BPTI_genvel2\n",
      "Trial directory data:  data/MD/5PTI/BPTI_genvel2\n",
      "Trial directory visualisation:  visualisation/MD/5PTI/BPTI_genvel2\n",
      "Trial directory analysis:  analysis/MD/5PTI/BPTI_genvel2\n",
      "Environment variables set:  GMXLIB /home/alexi/Documents/xMD\n",
      "Trial directory temporary:  temporary/MD/5PTI/BPTI_genvel2\n",
      "Trial directory logs:  logs/MD/5PTI/BPTI_genvel2\n",
      "Trial directory data:  data/MD/5PTI/BPTI_genvel2\n",
      "Trial directory visualisation:  visualisation/MD/5PTI/BPTI_genvel2\n",
      "Trial directory analysis:  analysis/MD/5PTI/BPTI_genvel2\n",
      "Running BPTI_genvel3 rep 1\n",
      "Replicate number:  1\n",
      "Trial directory temporary:  temporary/MD/5PTI/BPTI_genvel3\n",
      "Trial directory logs:  logs/MD/5PTI/BPTI_genvel3\n",
      "Trial directory data:  data/MD/5PTI/BPTI_genvel3\n",
      "Trial directory visualisation:  visualisation/MD/5PTI/BPTI_genvel3\n",
      "Trial directory analysis:  analysis/MD/5PTI/BPTI_genvel3\n",
      "Environment variables set:  GMXLIB /home/alexi/Documents/xMD\n",
      "Trial directory temporary:  temporary/MD/5PTI/BPTI_genvel3\n",
      "Trial directory logs:  logs/MD/5PTI/BPTI_genvel3\n",
      "Trial directory data:  data/MD/5PTI/BPTI_genvel3\n",
      "Trial directory visualisation:  visualisation/MD/5PTI/BPTI_genvel3\n",
      "Trial directory analysis:  analysis/MD/5PTI/BPTI_genvel3\n",
      "Running BPTI_genvel4 rep 1\n",
      "Replicate number:  1\n",
      "Trial directory temporary:  temporary/MD/5PTI/BPTI_genvel4\n",
      "Trial directory logs:  logs/MD/5PTI/BPTI_genvel4\n",
      "Trial directory data:  data/MD/5PTI/BPTI_genvel4\n",
      "Trial directory visualisation:  visualisation/MD/5PTI/BPTI_genvel4\n",
      "Trial directory analysis:  analysis/MD/5PTI/BPTI_genvel4\n",
      "Environment variables set:  GMXLIB /home/alexi/Documents/xMD\n",
      "Trial directory temporary:  temporary/MD/5PTI/BPTI_genvel4\n",
      "Trial directory logs:  logs/MD/5PTI/BPTI_genvel4\n",
      "Trial directory data:  data/MD/5PTI/BPTI_genvel4\n",
      "Trial directory visualisation:  visualisation/MD/5PTI/BPTI_genvel4\n",
      "Trial directory analysis:  analysis/MD/5PTI/BPTI_genvel4\n",
      "  pdbcode          name frame      rmsd PCA1 PCA2 tSNE1 tSNE2\n",
      "0    5PTI  BPTI_genvel2     0  0.000000    0    0   NaN   NaN\n",
      "1    5PTI  BPTI_genvel2     1  0.248398    0    0   NaN   NaN\n",
      "2    5PTI  BPTI_genvel2     2  0.251201    0    0   NaN   NaN\n",
      "3    5PTI  BPTI_genvel2     3  0.260589    0    0   NaN   NaN\n",
      "4    5PTI  BPTI_genvel2     4  0.268593    0    0   NaN   NaN\n",
      "    pdbcode          name frame      rmsd PCA1 PCA2 tSNE1 tSNE2\n",
      "118    5PTI  BPTI_genvel4    36  0.278532    0    0   NaN   NaN\n",
      "119    5PTI  BPTI_genvel4    37  0.269906    0    0   NaN   NaN\n",
      "120    5PTI  BPTI_genvel4    38  0.246053    0    0   NaN   NaN\n",
      "121    5PTI  BPTI_genvel4    39  0.291843    0    0   NaN   NaN\n",
      "122    5PTI  BPTI_genvel4    40  0.236325    0    0   NaN   NaN\n"
     ]
    },
    {
     "name": "stderr",
     "output_type": "stream",
     "text": [
      "/home/alexi/miniconda3/envs/xMD/lib/python3.10/site-packages/MDAnalysis/analysis/rms.py:722: DeprecationWarning:\n",
      "\n",
      "The `rmsd` attribute was deprecated in MDAnalysis 2.0.0 and will be removed in MDAnalysis 3.0.0. Please use `results.rmsd` instead.\n",
      "\n",
      "/tmp/ipykernel_450419/3625344603.py:29: FutureWarning:\n",
      "\n",
      "The behavior of DataFrame concatenation with empty or all-NA entries is deprecated. In a future version, this will no longer exclude empty or all-NA columns when determining the result dtypes. To retain the old behavior, exclude the relevant entries before the concat operation.\n",
      "\n",
      "/tmp/ipykernel_450419/3971819421.py:30: FutureWarning:\n",
      "\n",
      "The behavior of DataFrame concatenation with empty or all-NA entries is deprecated. In a future version, this will no longer exclude empty or all-NA columns when determining the result dtypes. To retain the old behavior, exclude the relevant entries before the concat operation.\n",
      "\n",
      "/home/alexi/miniconda3/envs/xMD/lib/python3.10/site-packages/MDAnalysis/analysis/rms.py:722: DeprecationWarning:\n",
      "\n",
      "The `rmsd` attribute was deprecated in MDAnalysis 2.0.0 and will be removed in MDAnalysis 3.0.0. Please use `results.rmsd` instead.\n",
      "\n",
      "/tmp/ipykernel_450419/3625344603.py:29: FutureWarning:\n",
      "\n",
      "The behavior of DataFrame concatenation with empty or all-NA entries is deprecated. In a future version, this will no longer exclude empty or all-NA columns when determining the result dtypes. To retain the old behavior, exclude the relevant entries before the concat operation.\n",
      "\n",
      "/home/alexi/miniconda3/envs/xMD/lib/python3.10/site-packages/MDAnalysis/analysis/rms.py:722: DeprecationWarning:\n",
      "\n",
      "The `rmsd` attribute was deprecated in MDAnalysis 2.0.0 and will be removed in MDAnalysis 3.0.0. Please use `results.rmsd` instead.\n",
      "\n",
      "/tmp/ipykernel_450419/3625344603.py:29: FutureWarning:\n",
      "\n",
      "The behavior of DataFrame concatenation with empty or all-NA entries is deprecated. In a future version, this will no longer exclude empty or all-NA columns when determining the result dtypes. To retain the old behavior, exclude the relevant entries before the concat operation.\n",
      "\n"
     ]
    },
    {
     "name": "stdout",
     "output_type": "stream",
     "text": [
      "(123, 2676)\n"
     ]
    }
   ],
   "source": [
    "test_df = run_multi_analysis(\"5PTI\", [\"BPTI_genvel2\",\"BPTI_genvel3\",\"BPTI_genvel4\"], 1)"
   ]
  },
  {
   "cell_type": "code",
   "execution_count": 13,
   "metadata": {},
   "outputs": [
    {
     "data": {
      "text/html": [
       "<div>\n",
       "<style scoped>\n",
       "    .dataframe tbody tr th:only-of-type {\n",
       "        vertical-align: middle;\n",
       "    }\n",
       "\n",
       "    .dataframe tbody tr th {\n",
       "        vertical-align: top;\n",
       "    }\n",
       "\n",
       "    .dataframe thead th {\n",
       "        text-align: right;\n",
       "    }\n",
       "</style>\n",
       "<table border=\"1\" class=\"dataframe\">\n",
       "  <thead>\n",
       "    <tr style=\"text-align: right;\">\n",
       "      <th></th>\n",
       "      <th>pdbcode</th>\n",
       "      <th>name</th>\n",
       "      <th>frame</th>\n",
       "      <th>rmsd</th>\n",
       "      <th>PCA1</th>\n",
       "      <th>PCA2</th>\n",
       "      <th>tSNE1</th>\n",
       "      <th>tSNE2</th>\n",
       "    </tr>\n",
       "  </thead>\n",
       "  <tbody>\n",
       "    <tr>\n",
       "      <th>0</th>\n",
       "      <td>5PTI</td>\n",
       "      <td>BPTI_genvel2</td>\n",
       "      <td>0</td>\n",
       "      <td>0.000000</td>\n",
       "      <td>-17.520348</td>\n",
       "      <td>1.819369</td>\n",
       "      <td>1.206478</td>\n",
       "      <td>-6.307302</td>\n",
       "    </tr>\n",
       "    <tr>\n",
       "      <th>1</th>\n",
       "      <td>5PTI</td>\n",
       "      <td>BPTI_genvel2</td>\n",
       "      <td>1</td>\n",
       "      <td>0.248398</td>\n",
       "      <td>-13.331205</td>\n",
       "      <td>6.057720</td>\n",
       "      <td>2.549990</td>\n",
       "      <td>-6.758071</td>\n",
       "    </tr>\n",
       "    <tr>\n",
       "      <th>2</th>\n",
       "      <td>5PTI</td>\n",
       "      <td>BPTI_genvel2</td>\n",
       "      <td>2</td>\n",
       "      <td>0.251201</td>\n",
       "      <td>-7.972039</td>\n",
       "      <td>4.018529</td>\n",
       "      <td>3.439582</td>\n",
       "      <td>-4.383727</td>\n",
       "    </tr>\n",
       "    <tr>\n",
       "      <th>3</th>\n",
       "      <td>5PTI</td>\n",
       "      <td>BPTI_genvel2</td>\n",
       "      <td>3</td>\n",
       "      <td>0.260589</td>\n",
       "      <td>-11.164202</td>\n",
       "      <td>2.399386</td>\n",
       "      <td>-3.213284</td>\n",
       "      <td>-3.418370</td>\n",
       "    </tr>\n",
       "    <tr>\n",
       "      <th>4</th>\n",
       "      <td>5PTI</td>\n",
       "      <td>BPTI_genvel2</td>\n",
       "      <td>4</td>\n",
       "      <td>0.268593</td>\n",
       "      <td>-7.535991</td>\n",
       "      <td>-3.426680</td>\n",
       "      <td>-6.653988</td>\n",
       "      <td>-0.653764</td>\n",
       "    </tr>\n",
       "  </tbody>\n",
       "</table>\n",
       "</div>"
      ],
      "text/plain": [
       "  pdbcode          name frame      rmsd       PCA1      PCA2     tSNE1  \\\n",
       "0    5PTI  BPTI_genvel2     0  0.000000 -17.520348  1.819369  1.206478   \n",
       "1    5PTI  BPTI_genvel2     1  0.248398 -13.331205  6.057720  2.549990   \n",
       "2    5PTI  BPTI_genvel2     2  0.251201  -7.972039  4.018529  3.439582   \n",
       "3    5PTI  BPTI_genvel2     3  0.260589 -11.164202  2.399386 -3.213284   \n",
       "4    5PTI  BPTI_genvel2     4  0.268593  -7.535991 -3.426680 -6.653988   \n",
       "\n",
       "      tSNE2  \n",
       "0 -6.307302  \n",
       "1 -6.758071  \n",
       "2 -4.383727  \n",
       "3 -3.418370  \n",
       "4 -0.653764  "
      ]
     },
     "execution_count": 13,
     "metadata": {},
     "output_type": "execute_result"
    }
   ],
   "source": [
    "test_df.head()"
   ]
  },
  {
   "cell_type": "code",
   "execution_count": 14,
   "metadata": {},
   "outputs": [
    {
     "data": {
      "application/vnd.plotly.v1+json": {
       "config": {
        "plotlyServerURL": "https://plot.ly"
       },
       "data": [
        {
         "hovertemplate": "name=BPTI_genvel2<br>frame=%{x}<br>rmsd=%{y}<extra></extra>",
         "legendgroup": "BPTI_genvel2",
         "line": {
          "color": "#636efa",
          "dash": "solid"
         },
         "marker": {
          "symbol": "circle"
         },
         "mode": "lines",
         "name": "BPTI_genvel2",
         "orientation": "v",
         "showlegend": true,
         "type": "scatter",
         "x": [
          0,
          1,
          2,
          3,
          4,
          5,
          6,
          7,
          8,
          9,
          10,
          11,
          12,
          13,
          14,
          15,
          16,
          17,
          18,
          19,
          20,
          21,
          22,
          23,
          24,
          25,
          26,
          27,
          28,
          29,
          30,
          31,
          32,
          33,
          34,
          35,
          36,
          37,
          38,
          39,
          40
         ],
         "xaxis": "x",
         "y": [
          0,
          0.24839807630704283,
          0.2512011861663571,
          0.26058948510338764,
          0.2685930188325683,
          0.24747261954624142,
          0.32374190428736827,
          0.2540985166043248,
          0.27654915126288365,
          0.2646210315848377,
          0.29228248839710497,
          0.30583854653760556,
          0.2538535386664646,
          0.2445426076289961,
          0.24733767143730093,
          0.28494177059065134,
          0.2686093145532993,
          0.28780783526970805,
          0.26719255524522184,
          0.2679777436925138,
          0.23681948500145164,
          0.2890553599492698,
          0.25395250271572195,
          0.2640054433150645,
          0.2764344254207502,
          0.25378208554483517,
          0.2681550892182161,
          0.2754122093652923,
          0.28621323871565213,
          0.2767700571483163,
          0.24323760200891728,
          0.28040732497127974,
          0.2901738539665384,
          0.24574181340494827,
          0.24259913833484542,
          0.2789613706710114,
          0.2381481628111548,
          0.24538413198920406,
          0.2735098340216293,
          0.2839707289395866,
          0.2778579802371539
         ],
         "yaxis": "y"
        },
        {
         "hovertemplate": "name=BPTI_genvel3<br>frame=%{x}<br>rmsd=%{y}<extra></extra>",
         "legendgroup": "BPTI_genvel3",
         "line": {
          "color": "#EF553B",
          "dash": "solid"
         },
         "marker": {
          "symbol": "circle"
         },
         "mode": "lines",
         "name": "BPTI_genvel3",
         "orientation": "v",
         "showlegend": true,
         "type": "scatter",
         "x": [
          0,
          1,
          2,
          3,
          4,
          5,
          6,
          7,
          8,
          9,
          10,
          11,
          12,
          13,
          14,
          15,
          16,
          17,
          18,
          19,
          20,
          21,
          22,
          23,
          24,
          25,
          26,
          27,
          28,
          29,
          30,
          31,
          32,
          33,
          34,
          35,
          36,
          37,
          38,
          39,
          40
         ],
         "xaxis": "x",
         "y": [
          0,
          0.6425108163283466,
          0.6708783361010543,
          0.7251903693491835,
          0.7188543546741628,
          0.8842419015529476,
          0.8109883976736637,
          0.9647419201204033,
          0.9558806381281933,
          0.9815811316322177,
          0.9849931005371187,
          0.9222380174634319,
          0.9968833688764817,
          0.9840559049228887,
          0.8646270854650226,
          0.9579522850246769,
          0.9072031876222189,
          0.9627859993429337,
          0.9491849400301173,
          0.9926606246893613,
          0.9457890540631126,
          0.9573555378271775,
          0.8557061229015782,
          0.9391253323828648,
          0.9824059733665245,
          1.015395164352348,
          0.9985368204902221,
          0.9818516240602098,
          0.9143717730928452,
          0.9919301631178451,
          0.9480810710118972,
          1.007291804453959,
          1.010226852678499,
          1.0886758324698853,
          1.1586297137224442,
          1.1115590685938102,
          1.1503452981617732,
          1.0652969746983791,
          0.9852910037079252,
          0.9357018268219252,
          0.789362456106244
         ],
         "yaxis": "y"
        },
        {
         "hovertemplate": "name=BPTI_genvel4<br>frame=%{x}<br>rmsd=%{y}<extra></extra>",
         "legendgroup": "BPTI_genvel4",
         "line": {
          "color": "#00cc96",
          "dash": "solid"
         },
         "marker": {
          "symbol": "circle"
         },
         "mode": "lines",
         "name": "BPTI_genvel4",
         "orientation": "v",
         "showlegend": true,
         "type": "scatter",
         "x": [
          0,
          1,
          2,
          3,
          4,
          5,
          6,
          7,
          8,
          9,
          10,
          11,
          12,
          13,
          14,
          15,
          16,
          17,
          18,
          19,
          20,
          21,
          22,
          23,
          24,
          25,
          26,
          27,
          28,
          29,
          30,
          31,
          32,
          33,
          34,
          35,
          36,
          37,
          38,
          39,
          40
         ],
         "xaxis": "x",
         "y": [
          2.504471451944781e-7,
          0.24530408584608876,
          0.2615917422644347,
          0.24779419456005794,
          0.25745551893408414,
          0.2692593962199196,
          0.30705904396383643,
          0.24622605697593436,
          0.27122293125269764,
          0.2767682085210277,
          0.25206145897052024,
          0.276676255523506,
          0.260314248990469,
          0.27268230061817644,
          0.2777974197896159,
          0.28208101143499714,
          0.2525890931050538,
          0.271949527633616,
          0.27405806133377175,
          0.27612183964359244,
          0.2717916148702902,
          0.24301693441385272,
          0.267265589011867,
          0.2607921299119941,
          0.2672758024161827,
          0.233286402621244,
          0.2671666049854302,
          0.26218937701065087,
          0.2644690761021927,
          0.27839926134156834,
          0.27295277875170554,
          0.31689495882321594,
          0.2769769036616264,
          0.2739744461146827,
          0.3004080756767294,
          0.29067848937937363,
          0.2785317850817263,
          0.26990639109379144,
          0.2460525427764074,
          0.2918430776560535,
          0.2363245347214828
         ],
         "yaxis": "y"
        }
       ],
       "layout": {
        "legend": {
         "title": {
          "text": "name"
         },
         "tracegroupgap": 0
        },
        "margin": {
         "t": 60
        },
        "template": {
         "data": {
          "bar": [
           {
            "error_x": {
             "color": "#2a3f5f"
            },
            "error_y": {
             "color": "#2a3f5f"
            },
            "marker": {
             "line": {
              "color": "#E5ECF6",
              "width": 0.5
             },
             "pattern": {
              "fillmode": "overlay",
              "size": 10,
              "solidity": 0.2
             }
            },
            "type": "bar"
           }
          ],
          "barpolar": [
           {
            "marker": {
             "line": {
              "color": "#E5ECF6",
              "width": 0.5
             },
             "pattern": {
              "fillmode": "overlay",
              "size": 10,
              "solidity": 0.2
             }
            },
            "type": "barpolar"
           }
          ],
          "carpet": [
           {
            "aaxis": {
             "endlinecolor": "#2a3f5f",
             "gridcolor": "white",
             "linecolor": "white",
             "minorgridcolor": "white",
             "startlinecolor": "#2a3f5f"
            },
            "baxis": {
             "endlinecolor": "#2a3f5f",
             "gridcolor": "white",
             "linecolor": "white",
             "minorgridcolor": "white",
             "startlinecolor": "#2a3f5f"
            },
            "type": "carpet"
           }
          ],
          "choropleth": [
           {
            "colorbar": {
             "outlinewidth": 0,
             "ticks": ""
            },
            "type": "choropleth"
           }
          ],
          "contour": [
           {
            "colorbar": {
             "outlinewidth": 0,
             "ticks": ""
            },
            "colorscale": [
             [
              0,
              "#0d0887"
             ],
             [
              0.1111111111111111,
              "#46039f"
             ],
             [
              0.2222222222222222,
              "#7201a8"
             ],
             [
              0.3333333333333333,
              "#9c179e"
             ],
             [
              0.4444444444444444,
              "#bd3786"
             ],
             [
              0.5555555555555556,
              "#d8576b"
             ],
             [
              0.6666666666666666,
              "#ed7953"
             ],
             [
              0.7777777777777778,
              "#fb9f3a"
             ],
             [
              0.8888888888888888,
              "#fdca26"
             ],
             [
              1,
              "#f0f921"
             ]
            ],
            "type": "contour"
           }
          ],
          "contourcarpet": [
           {
            "colorbar": {
             "outlinewidth": 0,
             "ticks": ""
            },
            "type": "contourcarpet"
           }
          ],
          "heatmap": [
           {
            "colorbar": {
             "outlinewidth": 0,
             "ticks": ""
            },
            "colorscale": [
             [
              0,
              "#0d0887"
             ],
             [
              0.1111111111111111,
              "#46039f"
             ],
             [
              0.2222222222222222,
              "#7201a8"
             ],
             [
              0.3333333333333333,
              "#9c179e"
             ],
             [
              0.4444444444444444,
              "#bd3786"
             ],
             [
              0.5555555555555556,
              "#d8576b"
             ],
             [
              0.6666666666666666,
              "#ed7953"
             ],
             [
              0.7777777777777778,
              "#fb9f3a"
             ],
             [
              0.8888888888888888,
              "#fdca26"
             ],
             [
              1,
              "#f0f921"
             ]
            ],
            "type": "heatmap"
           }
          ],
          "heatmapgl": [
           {
            "colorbar": {
             "outlinewidth": 0,
             "ticks": ""
            },
            "colorscale": [
             [
              0,
              "#0d0887"
             ],
             [
              0.1111111111111111,
              "#46039f"
             ],
             [
              0.2222222222222222,
              "#7201a8"
             ],
             [
              0.3333333333333333,
              "#9c179e"
             ],
             [
              0.4444444444444444,
              "#bd3786"
             ],
             [
              0.5555555555555556,
              "#d8576b"
             ],
             [
              0.6666666666666666,
              "#ed7953"
             ],
             [
              0.7777777777777778,
              "#fb9f3a"
             ],
             [
              0.8888888888888888,
              "#fdca26"
             ],
             [
              1,
              "#f0f921"
             ]
            ],
            "type": "heatmapgl"
           }
          ],
          "histogram": [
           {
            "marker": {
             "pattern": {
              "fillmode": "overlay",
              "size": 10,
              "solidity": 0.2
             }
            },
            "type": "histogram"
           }
          ],
          "histogram2d": [
           {
            "colorbar": {
             "outlinewidth": 0,
             "ticks": ""
            },
            "colorscale": [
             [
              0,
              "#0d0887"
             ],
             [
              0.1111111111111111,
              "#46039f"
             ],
             [
              0.2222222222222222,
              "#7201a8"
             ],
             [
              0.3333333333333333,
              "#9c179e"
             ],
             [
              0.4444444444444444,
              "#bd3786"
             ],
             [
              0.5555555555555556,
              "#d8576b"
             ],
             [
              0.6666666666666666,
              "#ed7953"
             ],
             [
              0.7777777777777778,
              "#fb9f3a"
             ],
             [
              0.8888888888888888,
              "#fdca26"
             ],
             [
              1,
              "#f0f921"
             ]
            ],
            "type": "histogram2d"
           }
          ],
          "histogram2dcontour": [
           {
            "colorbar": {
             "outlinewidth": 0,
             "ticks": ""
            },
            "colorscale": [
             [
              0,
              "#0d0887"
             ],
             [
              0.1111111111111111,
              "#46039f"
             ],
             [
              0.2222222222222222,
              "#7201a8"
             ],
             [
              0.3333333333333333,
              "#9c179e"
             ],
             [
              0.4444444444444444,
              "#bd3786"
             ],
             [
              0.5555555555555556,
              "#d8576b"
             ],
             [
              0.6666666666666666,
              "#ed7953"
             ],
             [
              0.7777777777777778,
              "#fb9f3a"
             ],
             [
              0.8888888888888888,
              "#fdca26"
             ],
             [
              1,
              "#f0f921"
             ]
            ],
            "type": "histogram2dcontour"
           }
          ],
          "mesh3d": [
           {
            "colorbar": {
             "outlinewidth": 0,
             "ticks": ""
            },
            "type": "mesh3d"
           }
          ],
          "parcoords": [
           {
            "line": {
             "colorbar": {
              "outlinewidth": 0,
              "ticks": ""
             }
            },
            "type": "parcoords"
           }
          ],
          "pie": [
           {
            "automargin": true,
            "type": "pie"
           }
          ],
          "scatter": [
           {
            "fillpattern": {
             "fillmode": "overlay",
             "size": 10,
             "solidity": 0.2
            },
            "type": "scatter"
           }
          ],
          "scatter3d": [
           {
            "line": {
             "colorbar": {
              "outlinewidth": 0,
              "ticks": ""
             }
            },
            "marker": {
             "colorbar": {
              "outlinewidth": 0,
              "ticks": ""
             }
            },
            "type": "scatter3d"
           }
          ],
          "scattercarpet": [
           {
            "marker": {
             "colorbar": {
              "outlinewidth": 0,
              "ticks": ""
             }
            },
            "type": "scattercarpet"
           }
          ],
          "scattergeo": [
           {
            "marker": {
             "colorbar": {
              "outlinewidth": 0,
              "ticks": ""
             }
            },
            "type": "scattergeo"
           }
          ],
          "scattergl": [
           {
            "marker": {
             "colorbar": {
              "outlinewidth": 0,
              "ticks": ""
             }
            },
            "type": "scattergl"
           }
          ],
          "scattermapbox": [
           {
            "marker": {
             "colorbar": {
              "outlinewidth": 0,
              "ticks": ""
             }
            },
            "type": "scattermapbox"
           }
          ],
          "scatterpolar": [
           {
            "marker": {
             "colorbar": {
              "outlinewidth": 0,
              "ticks": ""
             }
            },
            "type": "scatterpolar"
           }
          ],
          "scatterpolargl": [
           {
            "marker": {
             "colorbar": {
              "outlinewidth": 0,
              "ticks": ""
             }
            },
            "type": "scatterpolargl"
           }
          ],
          "scatterternary": [
           {
            "marker": {
             "colorbar": {
              "outlinewidth": 0,
              "ticks": ""
             }
            },
            "type": "scatterternary"
           }
          ],
          "surface": [
           {
            "colorbar": {
             "outlinewidth": 0,
             "ticks": ""
            },
            "colorscale": [
             [
              0,
              "#0d0887"
             ],
             [
              0.1111111111111111,
              "#46039f"
             ],
             [
              0.2222222222222222,
              "#7201a8"
             ],
             [
              0.3333333333333333,
              "#9c179e"
             ],
             [
              0.4444444444444444,
              "#bd3786"
             ],
             [
              0.5555555555555556,
              "#d8576b"
             ],
             [
              0.6666666666666666,
              "#ed7953"
             ],
             [
              0.7777777777777778,
              "#fb9f3a"
             ],
             [
              0.8888888888888888,
              "#fdca26"
             ],
             [
              1,
              "#f0f921"
             ]
            ],
            "type": "surface"
           }
          ],
          "table": [
           {
            "cells": {
             "fill": {
              "color": "#EBF0F8"
             },
             "line": {
              "color": "white"
             }
            },
            "header": {
             "fill": {
              "color": "#C8D4E3"
             },
             "line": {
              "color": "white"
             }
            },
            "type": "table"
           }
          ]
         },
         "layout": {
          "annotationdefaults": {
           "arrowcolor": "#2a3f5f",
           "arrowhead": 0,
           "arrowwidth": 1
          },
          "autotypenumbers": "strict",
          "coloraxis": {
           "colorbar": {
            "outlinewidth": 0,
            "ticks": ""
           }
          },
          "colorscale": {
           "diverging": [
            [
             0,
             "#8e0152"
            ],
            [
             0.1,
             "#c51b7d"
            ],
            [
             0.2,
             "#de77ae"
            ],
            [
             0.3,
             "#f1b6da"
            ],
            [
             0.4,
             "#fde0ef"
            ],
            [
             0.5,
             "#f7f7f7"
            ],
            [
             0.6,
             "#e6f5d0"
            ],
            [
             0.7,
             "#b8e186"
            ],
            [
             0.8,
             "#7fbc41"
            ],
            [
             0.9,
             "#4d9221"
            ],
            [
             1,
             "#276419"
            ]
           ],
           "sequential": [
            [
             0,
             "#0d0887"
            ],
            [
             0.1111111111111111,
             "#46039f"
            ],
            [
             0.2222222222222222,
             "#7201a8"
            ],
            [
             0.3333333333333333,
             "#9c179e"
            ],
            [
             0.4444444444444444,
             "#bd3786"
            ],
            [
             0.5555555555555556,
             "#d8576b"
            ],
            [
             0.6666666666666666,
             "#ed7953"
            ],
            [
             0.7777777777777778,
             "#fb9f3a"
            ],
            [
             0.8888888888888888,
             "#fdca26"
            ],
            [
             1,
             "#f0f921"
            ]
           ],
           "sequentialminus": [
            [
             0,
             "#0d0887"
            ],
            [
             0.1111111111111111,
             "#46039f"
            ],
            [
             0.2222222222222222,
             "#7201a8"
            ],
            [
             0.3333333333333333,
             "#9c179e"
            ],
            [
             0.4444444444444444,
             "#bd3786"
            ],
            [
             0.5555555555555556,
             "#d8576b"
            ],
            [
             0.6666666666666666,
             "#ed7953"
            ],
            [
             0.7777777777777778,
             "#fb9f3a"
            ],
            [
             0.8888888888888888,
             "#fdca26"
            ],
            [
             1,
             "#f0f921"
            ]
           ]
          },
          "colorway": [
           "#636efa",
           "#EF553B",
           "#00cc96",
           "#ab63fa",
           "#FFA15A",
           "#19d3f3",
           "#FF6692",
           "#B6E880",
           "#FF97FF",
           "#FECB52"
          ],
          "font": {
           "color": "#2a3f5f"
          },
          "geo": {
           "bgcolor": "white",
           "lakecolor": "white",
           "landcolor": "#E5ECF6",
           "showlakes": true,
           "showland": true,
           "subunitcolor": "white"
          },
          "hoverlabel": {
           "align": "left"
          },
          "hovermode": "closest",
          "mapbox": {
           "style": "light"
          },
          "paper_bgcolor": "white",
          "plot_bgcolor": "#E5ECF6",
          "polar": {
           "angularaxis": {
            "gridcolor": "white",
            "linecolor": "white",
            "ticks": ""
           },
           "bgcolor": "#E5ECF6",
           "radialaxis": {
            "gridcolor": "white",
            "linecolor": "white",
            "ticks": ""
           }
          },
          "scene": {
           "xaxis": {
            "backgroundcolor": "#E5ECF6",
            "gridcolor": "white",
            "gridwidth": 2,
            "linecolor": "white",
            "showbackground": true,
            "ticks": "",
            "zerolinecolor": "white"
           },
           "yaxis": {
            "backgroundcolor": "#E5ECF6",
            "gridcolor": "white",
            "gridwidth": 2,
            "linecolor": "white",
            "showbackground": true,
            "ticks": "",
            "zerolinecolor": "white"
           },
           "zaxis": {
            "backgroundcolor": "#E5ECF6",
            "gridcolor": "white",
            "gridwidth": 2,
            "linecolor": "white",
            "showbackground": true,
            "ticks": "",
            "zerolinecolor": "white"
           }
          },
          "shapedefaults": {
           "line": {
            "color": "#2a3f5f"
           }
          },
          "ternary": {
           "aaxis": {
            "gridcolor": "white",
            "linecolor": "white",
            "ticks": ""
           },
           "baxis": {
            "gridcolor": "white",
            "linecolor": "white",
            "ticks": ""
           },
           "bgcolor": "#E5ECF6",
           "caxis": {
            "gridcolor": "white",
            "linecolor": "white",
            "ticks": ""
           }
          },
          "title": {
           "x": 0.05
          },
          "xaxis": {
           "automargin": true,
           "gridcolor": "white",
           "linecolor": "white",
           "ticks": "",
           "title": {
            "standoff": 15
           },
           "zerolinecolor": "white",
           "zerolinewidth": 2
          },
          "yaxis": {
           "automargin": true,
           "gridcolor": "white",
           "linecolor": "white",
           "ticks": "",
           "title": {
            "standoff": 15
           },
           "zerolinecolor": "white",
           "zerolinewidth": 2
          }
         }
        },
        "xaxis": {
         "anchor": "y",
         "domain": [
          0,
          1
         ],
         "title": {
          "text": "frame"
         }
        },
        "yaxis": {
         "anchor": "x",
         "domain": [
          0,
          1
         ],
         "title": {
          "text": "rmsd"
         }
        }
       }
      }
     },
     "metadata": {},
     "output_type": "display_data"
    }
   ],
   "source": [
    "# plot rmsd using plotly\n",
    "import plotly.express as px\n"
   ]
  },
  {
   "cell_type": "code",
   "execution_count": null,
   "metadata": {},
   "outputs": [],
   "source": [
    "#plot pca\n",
    "\n"
   ]
  },
  {
   "cell_type": "code",
   "execution_count": 7,
   "metadata": {},
   "outputs": [
    {
     "name": "stdout",
     "output_type": "stream",
     "text": [
      "Replicate number:  1\n",
      "Trial directory temporary:  temporary/MD/5PTI/BPTI_genvel1\n",
      "Trial directory logs:  logs/MD/5PTI/BPTI_genvel1\n",
      "Trial directory data:  data/MD/5PTI/BPTI_genvel1\n",
      "Trial directory visualisation:  visualisation/MD/5PTI/BPTI_genvel1\n",
      "Trial directory analysis:  analysis/MD/5PTI/BPTI_genvel1\n",
      "Environment variables set:  GMXLIB /home/alexi/Documents/xMD\n"
     ]
    }
   ],
   "source": [
    "md = xMD(settings, 'BPTI_genvel1', \"5PTI\", 1)\n"
   ]
  },
  {
   "cell_type": "code",
   "execution_count": 8,
   "metadata": {},
   "outputs": [
    {
     "name": "stdout",
     "output_type": "stream",
     "text": [
      "Trial directory temporary:  temporary/MD/5PTI/BPTI_genvel1\n",
      "Trial directory logs:  logs/MD/5PTI/BPTI_genvel1\n",
      "Trial directory data:  data/MD/5PTI/BPTI_genvel1\n",
      "Trial directory visualisation:  visualisation/MD/5PTI/BPTI_genvel1\n",
      "Trial directory analysis:  analysis/MD/5PTI/BPTI_genvel1\n"
     ]
    },
    {
     "data": {
      "text/plain": [
       "'data/MD/5PTI/BPTI_genvel1'"
      ]
     },
     "execution_count": 8,
     "metadata": {},
     "output_type": "execute_result"
    }
   ],
   "source": [
    "md.generate_path_structure()"
   ]
  }
 ],
 "metadata": {
  "kernelspec": {
   "display_name": "xMD",
   "language": "python",
   "name": "python3"
  },
  "language_info": {
   "codemirror_mode": {
    "name": "ipython",
    "version": 3
   },
   "file_extension": ".py",
   "mimetype": "text/x-python",
   "name": "python",
   "nbconvert_exporter": "python",
   "pygments_lexer": "ipython3",
   "version": "3.10.13"
  }
 },
 "nbformat": 4,
 "nbformat_minor": 2
}
