{
 "cells": [
  {
   "cell_type": "code",
   "execution_count": 1,
   "metadata": {},
   "outputs": [
    {
     "name": "stderr",
     "output_type": "stream",
     "text": [
      "/home/alexi/miniconda3/envs/xMD/lib/python3.10/site-packages/tqdm/auto.py:21: TqdmWarning: IProgress not found. Please update jupyter and ipywidgets. See https://ipywidgets.readthedocs.io/en/stable/user_install.html\n",
      "  from .autonotebook import tqdm as notebook_tqdm\n",
      "/home/alexi/miniconda3/envs/xMD/lib/python3.10/site-packages/Bio/Application/__init__.py:40: BiopythonDeprecationWarning: The Bio.Application modules and modules relying on it have been deprecated.\n",
      "\n",
      "Due to the on going maintenance burden of keeping command line application\n",
      "wrappers up to date, we have decided to deprecate and eventually remove these\n",
      "modules.\n",
      "\n",
      "We instead now recommend building your command line and invoking it directly\n",
      "with the subprocess module.\n",
      "  warnings.warn(\n"
     ]
    },
    {
     "name": "stdout",
     "output_type": "stream",
     "text": [
      "/home/alexi/Documents/xMD\n",
      "config\n",
      "topology/BPTI\n"
     ]
    }
   ],
   "source": [
    "# BPTI Gen Vel analysis\n",
    "import MDAnalysis as mda\n",
    "import numpy as np\n",
    "from MDAnalysis.analysis import align, rms,pca\n",
    "import copy\n",
    "\n",
    "# import pca from scikit-learn\n",
    "\n",
    "from sklearn.decomposition import PCA\n",
    "# import tsne\n",
    "from sklearn.manifold import TSNE\n",
    "\n",
    "# xMD testing\n",
    "import pandas as pd\n",
    "import os\n",
    "from xMD.xMD import xMD\n",
    "from xMD.MD_Settings import GROMACS_Settings\n",
    "\n",
    "settings = GROMACS_Settings()\n",
    "\n",
    "\n",
    "amber14sb_ff_path = os.path.join(os.getcwd())\n",
    "\n",
    "# Set the GMXLIB environment variable\n",
    "os.environ[\"GMXLIB\"] = amber14sb_ff_path\n",
    "\n",
    "\n",
    "\n",
    "settings = GROMACS_Settings()\n",
    "settings.suffix = \"APO_amber99\"\n",
    "# settings.search = \"APO\"\n",
    "\n",
    "print(settings.config)\n",
    "\n",
    "settings.topology = os.path.join(settings.topology,\"BPTI\")\n",
    "print(settings.topology)\n",
    "# make sure to turn on MPI for HPC \n",
    "settings.gmx_mpi_on = False\n",
    "\n"
   ]
  },
  {
   "cell_type": "code",
   "execution_count": 2,
   "metadata": {},
   "outputs": [],
   "source": [
    "def load_cattraj_to_mda(cattraj, top_path:str):\n",
    "    \n",
    "    if top_path is None:\n",
    "        top_path = cattraj.replace(\".xtc\", \".pdb\")\n",
    "\n",
    "    u = mda.Universe(top_path, cattraj)\n",
    "\n",
    "\n",
    "    return u\n",
    "\n",
    "\n",
    "def rmsd_to_df(u: mda.Universe, pdbcode:str, name:str, rep:int):\n",
    "\n",
    "    df = pd.DataFrame(columns=[\"pdbcode\", \"name\", \"frame\", \"rmsd\", \"rep\"])\n",
    "\n",
    "    # Reference for RMSD (first frame)\n",
    "    ref = u.copy()\n",
    "    ref.trajectory[0]\n",
    "\n",
    "    # Calculate RMSD\n",
    "    rmsd_analysis = rms.RMSD(u, ref, select=\"name CA\")\n",
    "    rmsd_analysis.run()\n",
    "\n",
    "\n",
    "    # Populate DataFrame\n",
    "    for i, frame in enumerate(u.trajectory):\n",
    "        frame_rmsd = rmsd_analysis.rmsd[i, 2]  # RMSD value\n",
    "        df_to_add = pd.DataFrame([[pdbcode, name, i, frame_rmsd, rep]], columns=df.columns)\n",
    "        df = pd.concat([df, df_to_add], ignore_index=True)\n",
    "    \n",
    "    return df"
   ]
  },
  {
   "cell_type": "code",
   "execution_count": 16,
   "metadata": {},
   "outputs": [],
   "source": [
    "def run_multi_analysis(pdbcode: str, names: list, num_reps: int):\n",
    "\n",
    "    df = pd.DataFrame(columns=[\"pdbcode\", \"name\", \"frame\", \"rmsd\", \"rep\"])\n",
    "\n",
    "    paths = []\n",
    "    lengths = []\n",
    "    reps = []\n",
    "\n",
    "    for name in names:\n",
    "        for rep in range(1,num_reps+1):\n",
    "            print(f\"Running {name} rep {rep}\")\n",
    "            \n",
    "            md = xMD(settings, name, pdbcode, rep)\n",
    "            \n",
    "            data_dir = md.generate_path_structure()\n",
    "            viz_dir = data_dir.replace(\"data\", \"visualisation\")\n",
    "\n",
    "            rep_dir = \"R_\" + str(rep)\n",
    "\n",
    "\n",
    "            top_name = \"_\".join([md.settings.suffix,\n",
    "                                        md.settings.pdbcode,\n",
    "                                        str(1)]) + \"-nojump\" + \".pdb\"\n",
    "            \n",
    "\n",
    "            cat_traj_name = \"_\".join([md.settings.suffix,\n",
    "                                        md.settings.pdbcode]) + \"_cat_\"+str(rep) + \".xtc\"\n",
    "\n",
    "            cat_traj_path = os.path.join(data_dir, rep_dir, cat_traj_name)\n",
    "            paths.append(cat_traj_path)\n",
    "            print(cat_traj_path)\n",
    "            top_path = os.path.join(data_dir, rep_dir, top_name)\n",
    "\n",
    "            u = load_cattraj_to_mda(cat_traj_path, top_path)\n",
    "            \n",
    "            lengths.append(u.trajectory.n_frames)\n",
    "            reps.append(rep)\n",
    "\n",
    "            df_to_add = rmsd_to_df(u, pdbcode, name, rep)\n",
    "\n",
    "            print(df_to_add)\n",
    "\n",
    "\n",
    "            df = pd.concat([df, df_to_add], ignore_index=True)\n",
    "\n",
    "\n",
    "\n",
    "\n",
    "    print(df)\n",
    "    print(df.tail())\n",
    "\n",
    "    dim_u = mda.Universe(top_path, *paths)\n",
    "    ref_frame = dim_u.trajectory[0]\n",
    "    ref_atoms = dim_u.select_atoms(\"name CA\") \n",
    "    #align to first frame\n",
    "    align.alignto(dim_u, ref_atoms, select=\"name CA\")\n",
    "\n",
    "    # Get coordinates\n",
    "    coordinates = np.zeros((dim_u.trajectory.n_frames, dim_u.atoms.n_atoms, 3))\n",
    "    for i, frame in enumerate(dim_u.trajectory):\n",
    "        coordinates[i] = frame.positions\n",
    "    n_frames = coordinates.shape[0]\n",
    "    n_atoms = coordinates.shape[1]\n",
    "\n",
    "\n",
    "    # find average coordinates\n",
    "    average_coordinates = np.mean(coordinates, axis=0)\n",
    "\n",
    "    # find distance from average\n",
    "    distance_from_average = np.zeros((n_frames, n_atoms))\n",
    "    for i in range(n_frames):\n",
    "        distance_from_average[i] = np.sqrt(np.sum((coordinates[i] - average_coordinates)**2, axis=1))\n",
    "\n",
    "    \n",
    "\n",
    "    print(coordinates.shape)\n",
    "    print(distance_from_average.shape)\n",
    "\n",
    "    pca = PCA(n_components=2)\n",
    "    pca_results = pca.fit_transform(distance_from_average)\n",
    "\n",
    "    # Add the PCA results to the DataFrame\n",
    "    # Ensure df has the same number of rows as there are frames in the MD trajectory\n",
    "    df[\"PCA1\"] = pca_results[:, 0]\n",
    "    df[\"PCA2\"] = pca_results[:, 1]\n",
    "\n",
    "    tsne = TSNE(n_components=2)\n",
    "\n",
    "    tsne_results = tsne.fit_transform(distance_from_average)\n",
    "\n",
    "    df[\"tSNE1\"] = tsne_results[:, 0]\n",
    "    df[\"tSNE2\"] = tsne_results[:, 1]  \n",
    "\n",
    "    frames_per_rep = [frame for length in lengths for frame in range(1, length + 1)]\n",
    "    reps_per_frame = [rep for rep, length in zip(reps, lengths) for _ in range(length)]\n",
    "\n",
    "    df[\"frame\"] = frames_per_rep\n",
    "    df[\"rep\"] = reps_per_frame\n",
    "\n",
    "\n",
    "\n",
    "    return df\n"
   ]
  },
  {
   "cell_type": "code",
   "execution_count": 17,
   "metadata": {},
   "outputs": [
    {
     "name": "stdout",
     "output_type": "stream",
     "text": [
      "Running BPTI_genvel1 rep 1\n",
      "Replicate number:  1\n",
      "Trial directory temporary:  temporary/MD/5PTI/BPTI_genvel1\n",
      "Trial directory logs:  logs/MD/5PTI/BPTI_genvel1\n",
      "Trial directory data:  data/MD/5PTI/BPTI_genvel1\n",
      "Trial directory visualisation:  visualisation/MD/5PTI/BPTI_genvel1\n",
      "Trial directory analysis:  analysis/MD/5PTI/BPTI_genvel1\n",
      "Environment variables set:  GMXLIB /home/alexi/Documents/xMD\n",
      "Trial directory temporary:  temporary/MD/5PTI/BPTI_genvel1\n",
      "Trial directory logs:  logs/MD/5PTI/BPTI_genvel1\n",
      "Trial directory data:  data/MD/5PTI/BPTI_genvel1\n",
      "Trial directory visualisation:  visualisation/MD/5PTI/BPTI_genvel1\n",
      "Trial directory analysis:  analysis/MD/5PTI/BPTI_genvel1\n",
      "data/MD/5PTI/BPTI_genvel1/R_1/APO_amber99_5PTI_cat_1.xtc\n",
      "    pdbcode          name frame          rmsd rep\n",
      "0      5PTI  BPTI_genvel1     0  1.770929e-07   1\n",
      "1      5PTI  BPTI_genvel1     1  3.133262e-01   1\n",
      "2      5PTI  BPTI_genvel1     2  3.275709e-01   1\n",
      "3      5PTI  BPTI_genvel1     3  4.289775e-01   1\n",
      "4      5PTI  BPTI_genvel1     4  2.695421e-01   1\n",
      "..      ...           ...   ...           ...  ..\n",
      "221    5PTI  BPTI_genvel1   221  1.495693e+00   1\n",
      "222    5PTI  BPTI_genvel1   222  1.557594e+00   1\n",
      "223    5PTI  BPTI_genvel1   223  1.307083e+00   1\n",
      "224    5PTI  BPTI_genvel1   224  1.226532e+00   1\n",
      "225    5PTI  BPTI_genvel1   225  1.479354e+00   1\n",
      "\n",
      "[226 rows x 5 columns]\n",
      "Running BPTI_genvel1 rep 2\n",
      "Replicate number:  2\n",
      "Trial directory temporary:  temporary/MD/5PTI/BPTI_genvel1\n",
      "Trial directory logs:  logs/MD/5PTI/BPTI_genvel1\n",
      "Trial directory data:  data/MD/5PTI/BPTI_genvel1\n",
      "Trial directory visualisation:  visualisation/MD/5PTI/BPTI_genvel1\n",
      "Trial directory analysis:  analysis/MD/5PTI/BPTI_genvel1\n",
      "Environment variables set:  GMXLIB /home/alexi/Documents/xMD\n",
      "Trial directory temporary:  temporary/MD/5PTI/BPTI_genvel1\n",
      "Trial directory logs:  logs/MD/5PTI/BPTI_genvel1\n",
      "Trial directory data:  data/MD/5PTI/BPTI_genvel1\n",
      "Trial directory visualisation:  visualisation/MD/5PTI/BPTI_genvel1\n",
      "Trial directory analysis:  analysis/MD/5PTI/BPTI_genvel1\n",
      "data/MD/5PTI/BPTI_genvel1/R_2/APO_amber99_5PTI_cat_2.xtc\n",
      "    pdbcode          name frame          rmsd rep\n",
      "0      5PTI  BPTI_genvel1     0  1.770929e-07   2\n",
      "1      5PTI  BPTI_genvel1     1  2.830205e-01   2\n",
      "2      5PTI  BPTI_genvel1     2  3.065644e-01   2\n",
      "3      5PTI  BPTI_genvel1     3  3.451692e-01   2\n",
      "4      5PTI  BPTI_genvel1     4  2.934226e-01   2\n",
      "..      ...           ...   ...           ...  ..\n",
      "221    5PTI  BPTI_genvel1   221  1.176813e+00   2\n",
      "222    5PTI  BPTI_genvel1   222  1.200123e+00   2\n",
      "223    5PTI  BPTI_genvel1   223  1.385550e+00   2\n",
      "224    5PTI  BPTI_genvel1   224  1.357428e+00   2\n",
      "225    5PTI  BPTI_genvel1   225  1.450360e+00   2\n",
      "\n",
      "[226 rows x 5 columns]\n",
      "    pdbcode          name frame          rmsd rep\n",
      "0      5PTI  BPTI_genvel1     0  1.770929e-07   1\n",
      "1      5PTI  BPTI_genvel1     1  3.133262e-01   1\n",
      "2      5PTI  BPTI_genvel1     2  3.275709e-01   1\n",
      "3      5PTI  BPTI_genvel1     3  4.289775e-01   1\n",
      "4      5PTI  BPTI_genvel1     4  2.695421e-01   1\n",
      "..      ...           ...   ...           ...  ..\n",
      "447    5PTI  BPTI_genvel1   221  1.176813e+00   2\n",
      "448    5PTI  BPTI_genvel1   222  1.200123e+00   2\n",
      "449    5PTI  BPTI_genvel1   223  1.385550e+00   2\n",
      "450    5PTI  BPTI_genvel1   224  1.357428e+00   2\n",
      "451    5PTI  BPTI_genvel1   225  1.450360e+00   2\n",
      "\n",
      "[452 rows x 5 columns]\n",
      "    pdbcode          name frame      rmsd rep\n",
      "447    5PTI  BPTI_genvel1   221  1.176813   2\n",
      "448    5PTI  BPTI_genvel1   222  1.200123   2\n",
      "449    5PTI  BPTI_genvel1   223  1.385550   2\n",
      "450    5PTI  BPTI_genvel1   224  1.357428   2\n",
      "451    5PTI  BPTI_genvel1   225  1.450360   2\n"
     ]
    },
    {
     "name": "stderr",
     "output_type": "stream",
     "text": [
      "/home/alexi/miniconda3/envs/xMD/lib/python3.10/site-packages/MDAnalysis/analysis/rms.py:722: DeprecationWarning:\n",
      "\n",
      "The `rmsd` attribute was deprecated in MDAnalysis 2.0.0 and will be removed in MDAnalysis 3.0.0. Please use `results.rmsd` instead.\n",
      "\n",
      "/tmp/ipykernel_871411/2819361091.py:29: FutureWarning:\n",
      "\n",
      "The behavior of DataFrame concatenation with empty or all-NA entries is deprecated. In a future version, this will no longer exclude empty or all-NA columns when determining the result dtypes. To retain the old behavior, exclude the relevant entries before the concat operation.\n",
      "\n",
      "/tmp/ipykernel_871411/1348024226.py:44: FutureWarning:\n",
      "\n",
      "The behavior of DataFrame concatenation with empty or all-NA entries is deprecated. In a future version, this will no longer exclude empty or all-NA columns when determining the result dtypes. To retain the old behavior, exclude the relevant entries before the concat operation.\n",
      "\n",
      "/home/alexi/miniconda3/envs/xMD/lib/python3.10/site-packages/MDAnalysis/analysis/rms.py:722: DeprecationWarning:\n",
      "\n",
      "The `rmsd` attribute was deprecated in MDAnalysis 2.0.0 and will be removed in MDAnalysis 3.0.0. Please use `results.rmsd` instead.\n",
      "\n",
      "/tmp/ipykernel_871411/2819361091.py:29: FutureWarning:\n",
      "\n",
      "The behavior of DataFrame concatenation with empty or all-NA entries is deprecated. In a future version, this will no longer exclude empty or all-NA columns when determining the result dtypes. To retain the old behavior, exclude the relevant entries before the concat operation.\n",
      "\n"
     ]
    },
    {
     "name": "stdout",
     "output_type": "stream",
     "text": [
      "(452, 892, 3)\n",
      "(452, 892)\n"
     ]
    }
   ],
   "source": [
    "test_df = run_multi_analysis(\"5PTI\", [\"BPTI_genvel1\"],2)"
   ]
  },
  {
   "cell_type": "code",
   "execution_count": 18,
   "metadata": {},
   "outputs": [
    {
     "name": "stdout",
     "output_type": "stream",
     "text": [
      "    pdbcode          name  frame          rmsd  rep        PCA1       PCA2      tSNE1      tSNE2\n",
      "0      5PTI  BPTI_genvel1      1  1.770929e-07    1  -49.068100  -6.772464 -21.464037   2.254404\n",
      "1      5PTI  BPTI_genvel1      2  3.133262e-01    1  -43.538061  -4.031072 -20.825464   4.577092\n",
      "2      5PTI  BPTI_genvel1      3  3.275709e-01    1  -42.629133  -4.814345 -21.626104   4.474173\n",
      "3      5PTI  BPTI_genvel1      4  4.289775e-01    1  -50.624237  -6.897990 -25.370796   1.611624\n",
      "4      5PTI  BPTI_genvel1      5  2.695421e-01    1  -49.332834  -6.067375 -23.739828   2.883743\n",
      "5      5PTI  BPTI_genvel1      6  2.856357e-01    1  -49.769955  -5.049591 -23.970898   1.743317\n",
      "6      5PTI  BPTI_genvel1      7  2.905204e-01    1  -48.024407  -6.803191 -21.905741   0.843939\n",
      "7      5PTI  BPTI_genvel1      8  2.522663e-01    1  -48.093776  -8.102637 -22.392462   1.387125\n",
      "8      5PTI  BPTI_genvel1      9  2.347927e-01    1  -52.237400  -8.500922 -24.498739  -0.696119\n",
      "9      5PTI  BPTI_genvel1     10  2.399327e-01    1  -53.897620  -9.979065 -25.055893  -9.362979\n",
      "10     5PTI  BPTI_genvel1     11  2.743284e-01    1  -50.425082  -7.248820 -22.898983  -1.002749\n",
      "11     5PTI  BPTI_genvel1     12  2.620787e-01    1  -49.055574  -7.321240 -19.175283  -4.314925\n",
      "12     5PTI  BPTI_genvel1     13  2.520648e-01    1  -51.242834  -7.731816 -22.699223  -0.137620\n",
      "13     5PTI  BPTI_genvel1     14  2.805501e-01    1  -52.180668  -8.172439 -23.538771  -9.443114\n",
      "14     5PTI  BPTI_genvel1     15  2.355809e-01    1  -50.885605  -6.790441 -23.734882   0.299833\n",
      "15     5PTI  BPTI_genvel1     16  2.538355e-01    1  -48.462051  -8.718017 -22.628248   0.545547\n",
      "16     5PTI  BPTI_genvel1     17  3.088998e-01    1  -54.538632  -9.876090 -24.258759  -9.758572\n",
      "17     5PTI  BPTI_genvel1     18  2.560112e-01    1  -54.526586  -9.605162 -24.765562  -9.356713\n",
      "18     5PTI  BPTI_genvel1     19  2.938218e-01    1  -50.563616  -8.654452 -21.177320  -9.628476\n",
      "19     5PTI  BPTI_genvel1     20  2.282854e-01    1  -53.482358  -8.944649 -21.882595  -9.363433\n",
      "20     5PTI  BPTI_genvel1     21  2.645874e-01    1  -46.723482  -6.351183 -18.603228  -3.866972\n",
      "21     5PTI  BPTI_genvel1     22  2.453596e-01    1  -53.313123  -8.936881 -21.078686 -11.247083\n",
      "22     5PTI  BPTI_genvel1     23  2.749578e-01    1  -50.411880  -7.117455 -21.215496  -2.827862\n",
      "23     5PTI  BPTI_genvel1     24  2.610210e-01    1  -48.375475  -8.727412 -20.370468  -2.275231\n",
      "24     5PTI  BPTI_genvel1     25  2.811804e-01    1  -51.204310  -8.623631 -22.664530  -1.892170\n",
      "25     5PTI  BPTI_genvel1     26  2.700328e-01    1  -50.272976 -10.452113 -20.469614 -10.429098\n",
      "26     5PTI  BPTI_genvel1     27  2.738134e-01    1  -50.556065 -12.239377 -19.991312 -12.183650\n",
      "27     5PTI  BPTI_genvel1     28  2.286579e-01    1  -54.621789  -7.406199 -22.857872  -9.199507\n",
      "28     5PTI  BPTI_genvel1     29  2.344765e-01    1  -48.685287  -7.009161 -20.386187  -3.416589\n",
      "29     5PTI  BPTI_genvel1     30  2.741089e-01    1  -51.531288  -6.243662 -20.225422  -4.993060\n",
      "30     5PTI  BPTI_genvel1     31  2.688540e-01    1  -48.859496  -6.028923 -23.637331   1.025289\n",
      "31     5PTI  BPTI_genvel1     32  2.644033e-01    1  -50.374026  -6.008483 -21.095533  -3.902775\n",
      "32     5PTI  BPTI_genvel1     33  2.487629e-01    1  -53.686939  -9.326952 -22.358307 -10.143387\n",
      "33     5PTI  BPTI_genvel1     34  2.787322e-01    1  -51.437809  -7.851985 -21.125572  -4.712276\n",
      "34     5PTI  BPTI_genvel1     35  2.792390e-01    1  -50.587835  -8.456877 -21.917032  -2.738414\n",
      "35     5PTI  BPTI_genvel1     36  2.867334e-01    1  -50.137316  -9.432482 -22.046238  -1.959403\n",
      "36     5PTI  BPTI_genvel1     37  2.655148e-01    1  -49.926828  -6.202092 -20.184587  -6.826979\n",
      "37     5PTI  BPTI_genvel1     38  2.611226e-01    1  -53.070870 -11.101720 -21.426908 -10.695742\n",
      "38     5PTI  BPTI_genvel1     39  2.273673e-01    1  -49.245274  -7.404046 -21.222746   0.099079\n",
      "39     5PTI  BPTI_genvel1     40  2.711837e-01    1  -47.559473  -9.054998 -19.358032  -2.551553\n",
      "40     5PTI  BPTI_genvel1     41  2.950441e-01    1  -51.927879  -8.122899 -21.852180  -7.814184\n",
      "41     5PTI  BPTI_genvel1     42  2.950441e-01    1  -51.929191  -8.122849 -21.852196  -7.814240\n",
      "42     5PTI  BPTI_genvel1     43  5.810870e-01    1  -43.822838  -5.740302 -14.851200  -6.603396\n",
      "43     5PTI  BPTI_genvel1     44  5.971942e-01    1  -44.051831  -3.466170 -14.707226  -6.732448\n",
      "44     5PTI  BPTI_genvel1     45  5.641085e-01    1  -45.937934  -8.341914 -16.403225 -15.712781\n",
      "45     5PTI  BPTI_genvel1     46  5.997328e-01    1  -41.099423  -8.414183 -14.419264  -8.492399\n",
      "46     5PTI  BPTI_genvel1     47  5.778025e-01    1  -52.397440 -15.538532 -16.911026 -10.621816\n",
      "47     5PTI  BPTI_genvel1     48  6.984299e-01    1  -47.038285  -7.642774 -14.580241  -8.444317\n",
      "48     5PTI  BPTI_genvel1     49  6.072637e-01    1  -48.114663 -12.937280 -16.840837 -14.990129\n",
      "49     5PTI  BPTI_genvel1     50  5.604136e-01    1  -52.482016 -16.355356 -18.891012 -14.367674\n",
      "50     5PTI  BPTI_genvel1     51  5.361546e-01    1  -49.250294 -16.740798 -18.314985 -14.227190\n",
      "51     5PTI  BPTI_genvel1     52  6.487036e-01    1  -49.143191 -10.420157 -16.784105  -6.720643\n",
      "52     5PTI  BPTI_genvel1     53  5.605423e-01    1  -51.377258  -5.923274 -15.763128  -8.429168\n",
      "53     5PTI  BPTI_genvel1     54  4.985543e-01    1  -37.053623  -7.113855 -19.824232   4.844739\n",
      "54     5PTI  BPTI_genvel1     55  5.498031e-01    1  -50.690848  -8.300168 -17.967337 -16.150169\n",
      "55     5PTI  BPTI_genvel1     56  6.624815e-01    1  -52.281657 -15.231397 -17.755690 -14.692694\n",
      "56     5PTI  BPTI_genvel1     57  6.058145e-01    1  -53.833831 -15.160127 -19.747206 -14.666659\n",
      "57     5PTI  BPTI_genvel1     58  6.609460e-01    1  -50.267434  -8.122500 -19.159409 -11.593324\n",
      "58     5PTI  BPTI_genvel1     59  5.699522e-01    1  -49.443062 -16.667107 -16.602913 -10.923455\n",
      "59     5PTI  BPTI_genvel1     60  6.101121e-01    1  -40.479599 -13.150264 -13.390060 -12.786654\n",
      "60     5PTI  BPTI_genvel1     61  4.841205e-01    1  -49.695110 -11.790793 -17.646170  -9.121079\n",
      "61     5PTI  BPTI_genvel1     62  5.384801e-01    1  -47.397159 -16.204324 -15.187529 -12.413497\n",
      "62     5PTI  BPTI_genvel1     63  5.384801e-01    1  -47.399041 -16.202614 -15.187689 -12.413552\n",
      "63     5PTI  BPTI_genvel1     64  7.647607e-01    1  -42.157390 -16.721806 -15.728527 -12.821734\n",
      "64     5PTI  BPTI_genvel1     65  9.083841e-01    1  -42.028895 -13.926012 -13.904748 -16.133955\n",
      "65     5PTI  BPTI_genvel1     66  7.965980e-01    1  -40.867590  -7.909137 -13.596110 -15.655005\n",
      "66     5PTI  BPTI_genvel1     67  9.839141e-01    1  -35.338163 -15.528108 -12.580977 -15.601076\n",
      "67     5PTI  BPTI_genvel1     68  8.679440e-01    1  -32.104883 -16.165920 -12.135187 -16.274010\n",
      "68     5PTI  BPTI_genvel1     69  9.214346e-01    1  -47.438158 -14.608382 -14.819326 -16.490612\n",
      "69     5PTI  BPTI_genvel1     70  1.036753e+00    1  -33.663203 -14.222140 -11.327536 -15.292263\n",
      "70     5PTI  BPTI_genvel1     71  1.116785e+00    1  -37.592959 -12.602493 -12.011333 -15.946673\n",
      "71     5PTI  BPTI_genvel1     72  1.199540e+00    1  -24.018051  -9.420397  -9.508681 -13.597276\n",
      "72     5PTI  BPTI_genvel1     73  1.061592e+00    1  -29.240317  -7.171488  -9.090189 -12.196856\n",
      "73     5PTI  BPTI_genvel1     74  1.069854e+00    1  -39.521002  -8.509861 -11.521804 -13.680256\n",
      "74     5PTI  BPTI_genvel1     75  9.019796e-01    1  -32.607509  -2.897065  -8.912469 -12.230129\n",
      "75     5PTI  BPTI_genvel1     76  1.011612e+00    1  -37.703092  -6.577442 -11.811431 -13.798573\n",
      "76     5PTI  BPTI_genvel1     77  1.010109e+00    1  -38.232581  -9.718018 -10.754892 -13.688241\n",
      "77     5PTI  BPTI_genvel1     78  8.870181e-01    1  -26.362443 -13.163937  -9.626766 -13.697922\n",
      "78     5PTI  BPTI_genvel1     79  9.490060e-01    1  -28.731870 -12.569423  -9.835823 -14.450328\n",
      "79     5PTI  BPTI_genvel1     80  7.035575e-01    1  -28.597538 -16.324050  -7.488719 -11.287863\n",
      "80     5PTI  BPTI_genvel1     81  7.830191e-01    1  -26.647216 -10.051275  -8.110405 -13.132768\n",
      "81     5PTI  BPTI_genvel1     82  7.411286e-01    1  -40.182994 -19.098961  -7.698688 -10.388186\n",
      "82     5PTI  BPTI_genvel1     83  8.022303e-01    1  -28.637565 -19.954570  -8.729295 -15.122375\n",
      "83     5PTI  BPTI_genvel1     84  8.022303e-01    1  -28.636332 -19.954910  -8.729290 -15.122363\n",
      "84     5PTI  BPTI_genvel1     85  7.962625e-01    1  -17.465552 -17.088641  -6.700479 -12.914807\n",
      "85     5PTI  BPTI_genvel1     86  1.041914e+00    1   -9.733808 -13.430519  -5.793908 -13.160245\n",
      "86     5PTI  BPTI_genvel1     87  8.191110e-01    1    0.673696  -6.818376   7.666068  -8.930135\n",
      "87     5PTI  BPTI_genvel1     88  9.081860e-01    1   13.283558  -5.419177   8.250884  -8.576946\n",
      "88     5PTI  BPTI_genvel1     89  8.608962e-01    1   19.413086   6.224541   8.738856  -7.765697\n",
      "89     5PTI  BPTI_genvel1     90  9.480104e-01    1    8.045031  13.128584   8.436816  -7.133212\n",
      "90     5PTI  BPTI_genvel1     91  9.435388e-01    1    0.418452   9.260379   7.741991  -7.709274\n",
      "91     5PTI  BPTI_genvel1     92  1.158774e+00    1   -6.281996  -2.402084   6.798654  -8.386281\n",
      "92     5PTI  BPTI_genvel1     93  1.277654e+00    1   -0.528059   2.046295   6.699477  -8.132001\n",
      "93     5PTI  BPTI_genvel1     94  1.241727e+00    1    4.439487   4.292291   6.911583  -7.479259\n",
      "94     5PTI  BPTI_genvel1     95  1.429324e+00    1   15.981998  10.341532   7.480050  -6.668488\n",
      "95     5PTI  BPTI_genvel1     96  1.527691e+00    1    6.736497  -1.665707   6.303162  -5.802853\n",
      "96     5PTI  BPTI_genvel1     97  1.479617e+00    1   -2.246711  10.269770   6.035615  -7.555672\n",
      "97     5PTI  BPTI_genvel1     98  1.448293e+00    1    5.431122   3.086925   6.486591  -7.145192\n",
      "98     5PTI  BPTI_genvel1     99  1.245366e+00    1   15.605470   0.004176   7.284777  -5.789539\n",
      "99     5PTI  BPTI_genvel1    100  1.147208e+00    1   10.221172  -3.026191   7.220719  -5.343913\n",
      "100    5PTI  BPTI_genvel1    101  1.068827e+00    1   22.123266 -10.394435   8.122797  -4.630976\n",
      "101    5PTI  BPTI_genvel1    102  1.180633e+00    1   18.261136 -10.065664   8.340878  -5.097754\n",
      "102    5PTI  BPTI_genvel1    103  1.027486e+00    1   14.754786 -12.570270   8.222953  -3.719486\n",
      "103    5PTI  BPTI_genvel1    104  1.128468e+00    1    3.474817 -10.066417   7.637857  -2.380471\n",
      "104    5PTI  BPTI_genvel1    105  1.128468e+00    1    3.475804 -10.067446   7.637992  -2.380610\n",
      "105    5PTI  BPTI_genvel1    106  1.257091e+00    1   -9.051009  -7.386335   7.514761  -1.529543\n",
      "106    5PTI  BPTI_genvel1    107  1.506356e+00    1  -14.254235 -14.742739   5.554175   1.209401\n",
      "107    5PTI  BPTI_genvel1    108  1.344364e+00    1  -21.180024  -7.711968   0.973218   1.273928\n",
      "108    5PTI  BPTI_genvel1    109  1.218391e+00    1  -31.211389 -10.899608  -0.124325   0.384785\n",
      "109    5PTI  BPTI_genvel1    110  1.433174e+00    1  -26.637402  -9.423635  -0.245443   0.280313\n",
      "110    5PTI  BPTI_genvel1    111  1.079175e+00    1  -18.484876   3.579923  -0.287039   2.631526\n",
      "111    5PTI  BPTI_genvel1    112  1.102421e+00    1  -23.384739   1.578770  -0.088360   2.341461\n",
      "112    5PTI  BPTI_genvel1    113  1.359810e+00    1  -23.096222  -9.736444   0.726322   1.325825\n",
      "113    5PTI  BPTI_genvel1    114  1.122968e+00    1  -11.445062 -16.173490   5.771012   2.152877\n",
      "114    5PTI  BPTI_genvel1    115  1.224469e+00    1   -3.432933 -16.357915   6.593418   1.942715\n",
      "115    5PTI  BPTI_genvel1    116  1.282142e+00    1   -7.757939 -12.007590   5.878537   2.782413\n",
      "116    5PTI  BPTI_genvel1    117  1.338411e+00    1   -8.895326  -7.251826   6.621047   2.431009\n",
      "117    5PTI  BPTI_genvel1    118  1.223367e+00    1   -6.074108 -10.628541   7.480749   2.909952\n",
      "118    5PTI  BPTI_genvel1    119  1.055742e+00    1    3.991677  -8.271063  10.352368   4.266788\n",
      "119    5PTI  BPTI_genvel1    120  1.093463e+00    1    2.781884 -15.960385   9.835204   3.018953\n",
      "120    5PTI  BPTI_genvel1    121  9.308326e-01    1   13.376176 -14.585403  10.204078   2.412797\n",
      "121    5PTI  BPTI_genvel1    122  1.072409e+00    1   24.816316 -17.978348  11.082784   1.820108\n",
      "122    5PTI  BPTI_genvel1    123  1.085988e+00    1   20.872297  -4.098757  11.163389   2.453500\n",
      "123    5PTI  BPTI_genvel1    124  9.653693e-01    1   -4.471964  -1.387620   9.064273   5.553776\n",
      "124    5PTI  BPTI_genvel1    125  1.088271e+00    1    2.112463  -5.006121   9.047296   4.281049\n",
      "125    5PTI  BPTI_genvel1    126  1.088271e+00    1    2.042194  -5.046190   9.045664   4.281999\n",
      "126    5PTI  BPTI_genvel1    127  1.001199e+00    1    4.321794  -0.090529  10.552605   5.051135\n",
      "127    5PTI  BPTI_genvel1    128  9.998856e-01    1   10.740689  10.333631  11.383320   6.251594\n",
      "128    5PTI  BPTI_genvel1    129  1.128090e+00    1    6.546233   4.993810  10.259757   6.847802\n",
      "129    5PTI  BPTI_genvel1    130  1.004752e+00    1   14.038976   3.851217  11.850635   5.786168\n",
      "130    5PTI  BPTI_genvel1    131  1.268903e+00    1   29.464257   3.275457  12.754426   6.433315\n",
      "131    5PTI  BPTI_genvel1    132  1.164437e+00    1   17.232955  11.132741  12.385985   6.422863\n",
      "132    5PTI  BPTI_genvel1    133  1.192136e+00    1   30.798906  18.095281  13.784355   6.140308\n",
      "133    5PTI  BPTI_genvel1    134  1.204792e+00    1   28.636341   7.078558  13.606960   5.829050\n",
      "134    5PTI  BPTI_genvel1    135  1.145498e+00    1    0.832615   3.539948  10.977942   5.280206\n",
      "135    5PTI  BPTI_genvel1    136  8.986361e-01    1    0.178440  13.964782  11.847742   4.975451\n",
      "136    5PTI  BPTI_genvel1    137  1.218588e+00    1    3.892399  -7.573440  11.003034   4.303255\n",
      "137    5PTI  BPTI_genvel1    138  1.144305e+00    1  -11.947537 -10.312677   7.658472   5.311888\n",
      "138    5PTI  BPTI_genvel1    139  1.008638e+00    1  -12.832357  -8.879892   7.394290   5.915668\n",
      "139    5PTI  BPTI_genvel1    140  1.001247e+00    1  -11.666983  -7.845824   6.931828   6.301465\n",
      "140    5PTI  BPTI_genvel1    141  1.257852e+00    1  -14.000674  -8.680568   6.783516   6.600357\n",
      "141    5PTI  BPTI_genvel1    142  1.134716e+00    1  -12.092384  -0.473167   7.680406   6.880309\n",
      "142    5PTI  BPTI_genvel1    143  1.464355e+00    1   16.113344  12.974936  10.661791   8.307114\n",
      "143    5PTI  BPTI_genvel1    144  1.184635e+00    1   12.908412  17.056977  10.333725   8.331388\n",
      "144    5PTI  BPTI_genvel1    145  1.052239e+00    1    9.805421  26.484915  10.203115   8.740751\n",
      "145    5PTI  BPTI_genvel1    146  1.144247e+00    1   -5.897462  12.850443   9.169473   7.620684\n",
      "146    5PTI  BPTI_genvel1    147  1.055356e+00    1   -6.503213   8.493161   8.616237   7.720207\n",
      "147    5PTI  BPTI_genvel1    148  1.178056e+00    1   -2.952318   4.284790   8.428753   7.394517\n",
      "148    5PTI  BPTI_genvel1    149  1.303338e+00    1  -12.337455   7.359975   7.645562   7.823134\n",
      "149    5PTI  BPTI_genvel1    150  1.362650e+00    1  -34.765383  -3.166985 -12.421863  12.541281\n",
      "150    5PTI  BPTI_genvel1    151  1.318369e+00    1  -43.452198  -4.662613 -12.270848  12.631684\n",
      "151    5PTI  BPTI_genvel1    152  1.815174e+00    1  -42.489886   4.621704 -11.940243  14.319750\n",
      "152    5PTI  BPTI_genvel1    153  1.542312e+00    1  -45.604913   6.968176 -11.572340  15.019968\n",
      "153    5PTI  BPTI_genvel1    154  1.570716e+00    1  -45.336972   7.845850 -11.660017  14.954358\n",
      "154    5PTI  BPTI_genvel1    155  1.564521e+00    1  -40.951962   4.918635 -11.601027  14.217417\n",
      "155    5PTI  BPTI_genvel1    156  1.263587e+00    1  -42.550905   4.091080 -11.078863  13.932865\n",
      "156    5PTI  BPTI_genvel1    157  1.302751e+00    1  -45.539158   0.690101 -10.282171  12.441545\n",
      "157    5PTI  BPTI_genvel1    158  1.236823e+00    1  -42.812461   3.455088 -10.190971  12.461536\n",
      "158    5PTI  BPTI_genvel1    159  1.477338e+00    1  -24.188399  10.387033  -7.424949  12.722634\n",
      "159    5PTI  BPTI_genvel1    160  1.621537e+00    1  -23.572063   2.276989  -7.966383  12.460958\n",
      "160    5PTI  BPTI_genvel1    161  1.535526e+00    1  -21.430223  20.419781  -6.448888  12.603063\n",
      "161    5PTI  BPTI_genvel1    162  1.544775e+00    1    1.722398  38.016522   1.858446  31.767708\n",
      "162    5PTI  BPTI_genvel1    163  1.623531e+00    1   12.351425  41.470589   2.292984  32.327648\n",
      "163    5PTI  BPTI_genvel1    164  1.385844e+00    1   11.742289  56.652579   2.966849  32.064087\n",
      "164    5PTI  BPTI_genvel1    165  1.377131e+00    1   26.704028  48.520890   2.916837  33.547802\n",
      "165    5PTI  BPTI_genvel1    166  1.353899e+00    1   22.949841  51.684655   3.010848  34.333042\n",
      "166    5PTI  BPTI_genvel1    167  1.315359e+00    1   33.942569  53.116229   3.511390  34.504955\n",
      "167    5PTI  BPTI_genvel1    168  1.288168e+00    1   36.904833  55.974272   4.079104  34.991737\n",
      "168    5PTI  BPTI_genvel1    169  1.195646e+00    1   22.226190  56.651167   3.895651  34.119141\n",
      "169    5PTI  BPTI_genvel1    170  1.328816e+00    1   24.610581  54.215045   3.869701  33.422001\n",
      "170    5PTI  BPTI_genvel1    171  1.309617e+00    1   36.467445  66.217469   4.806571  33.076973\n",
      "171    5PTI  BPTI_genvel1    172  1.110904e+00    1   38.579704  64.844715   4.675167  33.779236\n",
      "172    5PTI  BPTI_genvel1    173  1.313616e+00    1   19.822690  47.391367   2.947373  32.848560\n",
      "173    5PTI  BPTI_genvel1    174  1.094581e+00    1   18.864679  58.043286   3.919746  32.074459\n",
      "174    5PTI  BPTI_genvel1    175  1.267515e+00    1   16.157360  52.547794   3.680511  31.070560\n",
      "175    5PTI  BPTI_genvel1    176  1.175223e+00    1   22.357818  52.345436   3.872743  29.920532\n",
      "176    5PTI  BPTI_genvel1    177  1.145283e+00    1   16.626137  41.319318   3.125520  29.226828\n",
      "177    5PTI  BPTI_genvel1    178  1.176103e+00    1   21.548346  47.188577   3.970215  29.211117\n",
      "178    5PTI  BPTI_genvel1    179  1.068273e+00    1   24.847374  52.441176   3.924191  28.193514\n",
      "179    5PTI  BPTI_genvel1    180  1.147058e+00    1   26.543564  54.281023   4.483912  29.079184\n",
      "180    5PTI  BPTI_genvel1    181  9.540734e-01    1   26.837751  58.645542   4.874117  30.076786\n",
      "181    5PTI  BPTI_genvel1    182  8.976369e-01    1   38.240982  69.452896   5.826928  30.428085\n",
      "182    5PTI  BPTI_genvel1    183  1.084293e+00    1   40.126821  68.575932   6.216846  30.831379\n",
      "183    5PTI  BPTI_genvel1    184  1.047996e+00    1   30.151182  63.224819   5.462422  29.815870\n",
      "184    5PTI  BPTI_genvel1    185  1.427223e+00    1   35.955920  55.719547   5.964818  29.409752\n",
      "185    5PTI  BPTI_genvel1    186  1.463867e+00    1   30.308760  59.294697   5.746809  28.823353\n",
      "186    5PTI  BPTI_genvel1    187  1.478062e+00    1   37.162804  63.809167   6.708486  29.231461\n",
      "187    5PTI  BPTI_genvel1    188  1.634463e+00    1   31.239581  62.517530   6.165454  28.388971\n",
      "188    5PTI  BPTI_genvel1    189  1.672809e+00    1   31.558953  57.300478   5.314636  28.498543\n",
      "189    5PTI  BPTI_genvel1    190  1.437921e+00    1   31.972424  47.310883   4.057511  27.440704\n",
      "190    5PTI  BPTI_genvel1    191  1.473220e+00    1   25.574219  54.069379   5.049720  27.658333\n",
      "191    5PTI  BPTI_genvel1    192  1.594179e+00    1   14.999702  38.152160   3.778485  26.495445\n",
      "192    5PTI  BPTI_genvel1    193  1.449897e+00    1   14.950915  40.058707   3.365369  26.536179\n",
      "193    5PTI  BPTI_genvel1    194  1.490768e+00    1   16.975620  37.140011   2.925079  26.509007\n",
      "194    5PTI  BPTI_genvel1    195  1.530602e+00    1    0.031572  35.357483   2.771972  25.687756\n",
      "195    5PTI  BPTI_genvel1    196  1.557323e+00    1   -3.230492  36.463002   2.472924  25.430960\n",
      "196    5PTI  BPTI_genvel1    197  1.361460e+00    1  -12.728679  21.708606  -5.662183  16.140165\n",
      "197    5PTI  BPTI_genvel1    198  1.353643e+00    1  -15.615294  13.762366  -6.419218  15.765911\n",
      "198    5PTI  BPTI_genvel1    199  1.476804e+00    1  -23.441689  11.208682  -7.228401  15.513916\n",
      "199    5PTI  BPTI_genvel1    200  1.363622e+00    1  -36.861339  13.547387  -9.645119  15.483991\n",
      "200    5PTI  BPTI_genvel1    201  1.401734e+00    1  -39.714345  17.797892  -9.613178  15.892468\n",
      "201    5PTI  BPTI_genvel1    202  1.393751e+00    1  -24.323710  28.724544  -9.099281  16.830214\n",
      "202    5PTI  BPTI_genvel1    203  1.412556e+00    1  -34.965490  12.551766  -8.955001  15.012523\n",
      "203    5PTI  BPTI_genvel1    204  1.432969e+00    1  -38.482924  13.330651  -8.906078  14.840334\n",
      "204    5PTI  BPTI_genvel1    205  1.369344e+00    1  -22.452914  19.861507  -7.348269  14.174545\n",
      "205    5PTI  BPTI_genvel1    206  1.477070e+00    1    2.597838  39.675708   6.452555  24.374319\n",
      "206    5PTI  BPTI_genvel1    207  1.537196e+00    1   -2.390733  37.365582   6.475357  24.193275\n",
      "207    5PTI  BPTI_genvel1    208  1.592985e+00    1    8.713969  40.303617   6.581623  24.869394\n",
      "208    5PTI  BPTI_genvel1    209  1.581331e+00    1    9.808323  38.233172   7.055390  24.630693\n",
      "209    5PTI  BPTI_genvel1    210  1.448066e+00    1    9.828305  35.516108   7.344154  25.082203\n",
      "210    5PTI  BPTI_genvel1    211  1.304970e+00    1   22.440084  40.960458   7.401189  26.074604\n",
      "211    5PTI  BPTI_genvel1    212  1.345911e+00    1   20.905950  43.291185   7.285352  26.194139\n",
      "212    5PTI  BPTI_genvel1    213  1.390917e+00    1   35.777205  51.365509   8.382711  27.556290\n",
      "213    5PTI  BPTI_genvel1    214  1.546970e+00    1   41.548167  58.144188   7.999625  28.897127\n",
      "214    5PTI  BPTI_genvel1    215  1.500060e+00    1   55.994873  67.925267   8.965950  29.172770\n",
      "215    5PTI  BPTI_genvel1    216  1.532970e+00    1   67.530722  57.044476  10.052411  28.953711\n",
      "216    5PTI  BPTI_genvel1    217  1.524289e+00    1   90.879224  76.299309  10.921148  29.534056\n",
      "217    5PTI  BPTI_genvel1    218  1.464410e+00    1   78.356859  78.004306  10.631776  30.018242\n",
      "218    5PTI  BPTI_genvel1    219  1.348362e+00    1   68.936585  73.854635   9.680795  31.282980\n",
      "219    5PTI  BPTI_genvel1    220  1.474262e+00    1   58.485090  72.473483   8.786377  31.127039\n",
      "220    5PTI  BPTI_genvel1    221  1.442219e+00    1   61.176963  67.955385   9.269958  30.435158\n",
      "221    5PTI  BPTI_genvel1    222  1.495693e+00    1   69.548004  72.249745   9.883116  29.898176\n",
      "222    5PTI  BPTI_genvel1    223  1.557594e+00    1   57.338164  72.318160   8.833384  30.126520\n",
      "223    5PTI  BPTI_genvel1    224  1.307083e+00    1   54.265700  73.588874   8.350481  30.443378\n",
      "224    5PTI  BPTI_genvel1    225  1.226532e+00    1   58.960515  63.863953   8.375934  31.940527\n",
      "225    5PTI  BPTI_genvel1    226  1.479354e+00    1   70.546756  70.859047   9.130224  31.762407\n",
      "226    5PTI  BPTI_genvel1      1  1.770929e-07    2  -49.486105  -6.952735 -21.514389   2.201533\n",
      "227    5PTI  BPTI_genvel1      2  2.830205e-01    2  -41.438847  -2.702699 -21.030319   4.924339\n",
      "228    5PTI  BPTI_genvel1      3  3.065644e-01    2  -50.659151  -9.127716 -23.796762  -2.021213\n",
      "229    5PTI  BPTI_genvel1      4  3.451692e-01    2  -52.051907 -10.314984 -24.855019  -2.914503\n",
      "230    5PTI  BPTI_genvel1      5  2.934226e-01    2  -49.468716  -8.601018 -22.337503   2.809134\n",
      "231    5PTI  BPTI_genvel1      6  3.239651e-01    2  -48.443645  -4.338740 -18.886444   1.581610\n",
      "232    5PTI  BPTI_genvel1      7  3.022222e-01    2  -47.340748  -4.874433 -19.590956   2.279351\n",
      "233    5PTI  BPTI_genvel1      8  2.580457e-01    2  -45.374021  -7.933890 -20.158798   2.982501\n",
      "234    5PTI  BPTI_genvel1      9  3.066819e-01    2  -49.005652  -6.872233 -19.916491   1.546330\n",
      "235    5PTI  BPTI_genvel1     10  2.547298e-01    2  -50.595045  -8.147181 -21.291540  -1.358716\n",
      "236    5PTI  BPTI_genvel1     11  2.863107e-01    2  -48.018175  -6.699580 -20.547604   1.741546\n",
      "237    5PTI  BPTI_genvel1     12  2.445467e-01    2  -52.897999  -8.379078 -22.962624  -3.735929\n",
      "238    5PTI  BPTI_genvel1     13  2.795313e-01    2  -51.110781 -11.547748 -22.564466 -11.686988\n",
      "239    5PTI  BPTI_genvel1     14  2.366502e-01    2  -53.186081  -9.740525 -22.789658 -11.170491\n",
      "240    5PTI  BPTI_genvel1     15  2.629876e-01    2  -49.425533  -7.118989 -21.375132  -5.692323\n",
      "241    5PTI  BPTI_genvel1     16  2.588961e-01    2  -49.120583  -6.252982 -20.806499   1.085297\n",
      "242    5PTI  BPTI_genvel1     17  2.435225e-01    2  -49.134802  -5.923426 -22.158585  -4.297008\n",
      "243    5PTI  BPTI_genvel1     18  2.600642e-01    2  -49.802476  -8.444733 -20.478451  -0.793337\n",
      "244    5PTI  BPTI_genvel1     19  2.507596e-01    2  -48.031705  -6.486353 -19.682014  -0.665223\n",
      "245    5PTI  BPTI_genvel1     20  2.991080e-01    2  -49.357743  -6.418321 -21.889009  -6.061330\n",
      "246    5PTI  BPTI_genvel1     21  2.630978e-01    2  -49.915232  -6.131371 -22.752462  -4.971427\n",
      "247    5PTI  BPTI_genvel1     22  2.732430e-01    2  -53.102571 -10.058725 -23.313675  -7.176523\n",
      "248    5PTI  BPTI_genvel1     23  2.377590e-01    2  -51.622275  -6.332809 -23.393705  -4.659920\n",
      "249    5PTI  BPTI_genvel1     24  2.810960e-01    2  -49.965168  -6.769649 -19.681890  -0.355686\n",
      "250    5PTI  BPTI_genvel1     25  2.737980e-01    2  -51.878272  -9.519811 -23.926706  -3.683969\n",
      "251    5PTI  BPTI_genvel1     26  2.426967e-01    2  -52.853436  -9.772492 -21.991798 -11.781964\n",
      "252    5PTI  BPTI_genvel1     27  2.797085e-01    2  -51.067352  -6.794155 -22.761654  -6.440672\n",
      "253    5PTI  BPTI_genvel1     28  2.560305e-01    2  -49.033511 -11.122026 -19.160391  -9.431528\n",
      "254    5PTI  BPTI_genvel1     29  3.057797e-01    2  -51.941171 -12.744709 -21.130991 -12.748744\n",
      "255    5PTI  BPTI_genvel1     30  2.891844e-01    2  -53.560456 -10.031440 -24.285324  -7.988931\n",
      "256    5PTI  BPTI_genvel1     31  3.130704e-01    2  -51.212241  -7.007641 -24.946882  -4.948533\n",
      "257    5PTI  BPTI_genvel1     32  2.827237e-01    2  -53.169654 -11.756742 -22.380648 -12.842099\n",
      "258    5PTI  BPTI_genvel1     33  2.409385e-01    2  -52.245815  -7.796116 -25.469570  -6.567132\n",
      "259    5PTI  BPTI_genvel1     34  2.799249e-01    2  -53.015359 -13.859858 -21.012197 -13.196819\n",
      "260    5PTI  BPTI_genvel1     35  2.645431e-01    2  -52.478533  -9.671148 -24.291342  -6.255092\n",
      "261    5PTI  BPTI_genvel1     36  3.035538e-01    2  -48.079129  -8.039186 -23.974300  -5.792942\n",
      "262    5PTI  BPTI_genvel1     37  3.065762e-01    2  -50.779879  -7.270710 -24.556162  -6.272984\n",
      "263    5PTI  BPTI_genvel1     38  2.677193e-01    2  -52.974262  -8.601313 -24.854412  -7.134257\n",
      "264    5PTI  BPTI_genvel1     39  2.718003e-01    2  -49.576442  -7.095597 -25.322016  -5.531022\n",
      "265    5PTI  BPTI_genvel1     40  2.589257e-01    2  -52.873376  -6.513546 -25.679876  -7.907526\n",
      "266    5PTI  BPTI_genvel1     41  2.737083e-01    2  -54.370614  -7.508465 -21.625008 -14.878372\n",
      "267    5PTI  BPTI_genvel1     42  2.737083e-01    2  -54.369983  -7.507335 -21.624912 -14.878541\n",
      "268    5PTI  BPTI_genvel1     43  5.126909e-01    2  -46.644212  -5.236661 -17.608221  -4.394996\n",
      "269    5PTI  BPTI_genvel1     44  4.867154e-01    2  -46.967909  -1.284827 -28.494387  -7.069332\n",
      "270    5PTI  BPTI_genvel1     45  5.597555e-01    2  -47.475431  -4.517106 -27.509197  -7.349512\n",
      "271    5PTI  BPTI_genvel1     46  5.626458e-01    2  -50.143378 -11.098016 -19.770515  -9.018773\n",
      "272    5PTI  BPTI_genvel1     47  5.833066e-01    2  -50.870325 -12.276432 -19.246761 -13.412191\n",
      "273    5PTI  BPTI_genvel1     48  5.915200e-01    2  -46.759897  -8.632119 -16.604744 -15.879539\n",
      "274    5PTI  BPTI_genvel1     49  5.646048e-01    2  -46.405949  -7.975564 -13.717628  -9.272156\n",
      "275    5PTI  BPTI_genvel1     50  6.202722e-01    2  -45.200119  -7.466690 -13.649125  -9.839004\n",
      "276    5PTI  BPTI_genvel1     51  4.898186e-01    2  -43.509588  -4.240410 -13.110914  -8.317296\n",
      "277    5PTI  BPTI_genvel1     52  5.689005e-01    2  -48.215339  -6.963044 -19.049015  -6.474730\n",
      "278    5PTI  BPTI_genvel1     53  5.650231e-01    2  -53.221598  -8.568811 -26.273287  -3.517002\n",
      "279    5PTI  BPTI_genvel1     54  6.010635e-01    2  -40.908276  -7.512343 -12.822044 -10.702725\n",
      "280    5PTI  BPTI_genvel1     55  5.607117e-01    2  -45.138361  -7.387868 -12.968889 -10.720265\n",
      "281    5PTI  BPTI_genvel1     56  5.733040e-01    2  -47.814778  -6.262083 -17.526340  -2.038446\n",
      "282    5PTI  BPTI_genvel1     57  5.121308e-01    2  -44.259926   2.576851 -28.826994  -6.869760\n",
      "283    5PTI  BPTI_genvel1     58  5.868814e-01    2  -53.130541 -14.403516 -24.332853 -12.644319\n",
      "284    5PTI  BPTI_genvel1     59  4.821648e-01    2  -48.964438  -6.528968 -19.948381  -7.572769\n",
      "285    5PTI  BPTI_genvel1     60  5.217405e-01    2  -47.692312  -3.740901 -16.968216   1.252839\n",
      "286    5PTI  BPTI_genvel1     61  4.788495e-01    2  -54.764180  -9.622146 -24.536783 -11.587554\n",
      "287    5PTI  BPTI_genvel1     62  5.456978e-01    2  -47.194038  -9.361378 -24.755207 -15.856142\n",
      "288    5PTI  BPTI_genvel1     63  5.456978e-01    2  -47.191364  -9.362551 -24.755133 -15.856050\n",
      "289    5PTI  BPTI_genvel1     64  7.760365e-01    2  -50.300257 -11.298778 -26.341469  -2.453299\n",
      "290    5PTI  BPTI_genvel1     65  7.798339e-01    2  -49.780751  -8.645548 -24.409578 -15.050235\n",
      "291    5PTI  BPTI_genvel1     66  7.977034e-01    2  -54.040897  -8.405270 -26.066708 -10.563319\n",
      "292    5PTI  BPTI_genvel1     67  6.911834e-01    2  -38.629528  -5.344011 -14.402126   0.335158\n",
      "293    5PTI  BPTI_genvel1     68  7.703107e-01    2  -42.933257  -8.596943 -14.513424  -0.241365\n",
      "294    5PTI  BPTI_genvel1     69  9.590805e-01    2  -44.598356   2.873062 -16.154169   0.301778\n",
      "295    5PTI  BPTI_genvel1     70  7.735452e-01    2  -53.341757 -10.830251 -25.818829 -12.088597\n",
      "296    5PTI  BPTI_genvel1     71  9.050976e-01    2  -40.525020  -3.164300 -16.623211   1.822097\n",
      "297    5PTI  BPTI_genvel1     72  7.869550e-01    2  -32.413393  -2.990648  -4.330096   3.883811\n",
      "298    5PTI  BPTI_genvel1     73  1.069382e+00    2  -24.037810   3.402033  -3.147654   3.053338\n",
      "299    5PTI  BPTI_genvel1     74  9.289157e-01    2  -19.791689  17.463158  -2.679913   3.807649\n",
      "300    5PTI  BPTI_genvel1     75  1.001501e+00    2  -34.319217   2.801676  -4.703384   4.249315\n",
      "301    5PTI  BPTI_genvel1     76  9.066153e-01    2  -31.746260  -2.815717  -4.924420   3.887058\n",
      "302    5PTI  BPTI_genvel1     77  1.019827e+00    2  -25.410462 -11.384630  -5.185794   1.764010\n",
      "303    5PTI  BPTI_genvel1     78  9.173616e-01    2  -41.006274  -7.436173  -7.527649   1.612471\n",
      "304    5PTI  BPTI_genvel1     79  9.239559e-01    2  -36.393845 -10.229750  -6.316116   1.574766\n",
      "305    5PTI  BPTI_genvel1     80  9.833647e-01    2  -43.597917  -7.285781  -7.369827   1.468575\n",
      "306    5PTI  BPTI_genvel1     81  1.035336e+00    2  -27.227002  -4.248934  -5.039007   2.128247\n",
      "307    5PTI  BPTI_genvel1     82  1.013004e+00    2  -46.495427 -18.089840  -9.338573  -6.853076\n",
      "308    5PTI  BPTI_genvel1     83  9.381540e-01    2  -43.321994 -13.700348  -9.538260   0.903232\n",
      "309    5PTI  BPTI_genvel1     84  9.381540e-01    2  -43.322915 -13.699847  -9.538124   0.903256\n",
      "310    5PTI  BPTI_genvel1     85  9.711056e-01    2  -37.475342  -1.899562  -6.359165   2.401609\n",
      "311    5PTI  BPTI_genvel1     86  1.121033e+00    2  -54.046686  -6.782470 -10.916158   0.972588\n",
      "312    5PTI  BPTI_genvel1     87  1.171169e+00    2  -43.726254   6.227899  -7.149540   9.532713\n",
      "313    5PTI  BPTI_genvel1     88  1.004417e+00    2  -36.211744  10.348899  -5.009810   8.871219\n",
      "314    5PTI  BPTI_genvel1     89  8.676461e-01    2  -28.393357  17.382527  -4.483498   8.596255\n",
      "315    5PTI  BPTI_genvel1     90  1.145598e+00    2  -27.747454  20.262865  -4.797265   9.357209\n",
      "316    5PTI  BPTI_genvel1     91  9.145915e-01    2  -38.814039  15.986812  -6.480465  10.564610\n",
      "317    5PTI  BPTI_genvel1     92  1.088699e+00    2  -33.412062  20.473746  -5.547127  10.774088\n",
      "318    5PTI  BPTI_genvel1     93  1.070819e+00    2  -45.256402  11.747225  -6.409490   9.889778\n",
      "319    5PTI  BPTI_genvel1     94  1.106305e+00    2  -37.149486  19.644261  -5.914012  10.906713\n",
      "320    5PTI  BPTI_genvel1     95  1.127025e+00    2  -39.702742  18.882028  -5.819789   9.898981\n",
      "321    5PTI  BPTI_genvel1     96  1.101397e+00    2  -32.873538  10.984611  -9.136170   9.917387\n",
      "322    5PTI  BPTI_genvel1     97  1.070647e+00    2  -37.108357   9.675685  -9.551435  10.161853\n",
      "323    5PTI  BPTI_genvel1     98  1.027412e+00    2  -26.708008   7.137545 -10.003523   9.169857\n",
      "324    5PTI  BPTI_genvel1     99  9.888783e-01    2  -41.152131   2.035255 -11.089346   9.182689\n",
      "325    5PTI  BPTI_genvel1    100  1.190567e+00    2  -46.062440   1.393287 -12.051270   8.473665\n",
      "326    5PTI  BPTI_genvel1    101  1.045779e+00    2  -46.819070   2.124534 -12.029703   8.463401\n",
      "327    5PTI  BPTI_genvel1    102  1.045014e+00    2  -46.374969  -0.459387 -12.095626   8.080013\n",
      "328    5PTI  BPTI_genvel1    103  1.122861e+00    2  -27.286583   6.042405 -10.531627   7.498693\n",
      "329    5PTI  BPTI_genvel1    104  1.045663e+00    2  -44.015440  -3.893627 -12.213010   6.497993\n",
      "330    5PTI  BPTI_genvel1    105  1.045663e+00    2  -44.017119  -3.893761 -12.213141   6.498033\n",
      "331    5PTI  BPTI_genvel1    106  1.062611e+00    2  -38.689621  -5.247586 -12.409972   4.003625\n",
      "332    5PTI  BPTI_genvel1    107  9.324411e-01    2  -40.683415  -5.552501 -12.009770   4.100774\n",
      "333    5PTI  BPTI_genvel1    108  9.441660e-01    2  -44.532546  -3.056912 -11.780927   4.402379\n",
      "334    5PTI  BPTI_genvel1    109  9.129330e-01    2  -41.668367  -6.465394 -11.088502   4.012497\n",
      "335    5PTI  BPTI_genvel1    110  9.956661e-01    2  -42.073027 -12.397306  -9.974147   3.657647\n",
      "336    5PTI  BPTI_genvel1    111  1.294967e+00    2  -42.096445  -9.853046 -10.002687   3.817161\n",
      "337    5PTI  BPTI_genvel1    112  1.195490e+00    2  -37.493869  -8.453466  -8.728742   3.518336\n",
      "338    5PTI  BPTI_genvel1    113  1.238449e+00    2  -33.546601  -2.885818  -7.931079   3.327991\n",
      "339    5PTI  BPTI_genvel1    114  1.348908e+00    2  -13.595285   0.029775  -3.334385   1.167149\n",
      "340    5PTI  BPTI_genvel1    115  1.087421e+00    2   -7.555046   1.395746  -3.139149  -0.045232\n",
      "341    5PTI  BPTI_genvel1    116  1.101516e+00    2  -26.372211  -2.021615  -4.746512   0.363691\n",
      "342    5PTI  BPTI_genvel1    117  9.746348e-01    2  -28.446075  -3.393163  -5.189521  -0.065247\n",
      "343    5PTI  BPTI_genvel1    118  8.934428e-01    2  -43.830263 -14.627250  -8.581798  -2.056170\n",
      "344    5PTI  BPTI_genvel1    119  9.802590e-01    2  -35.204009  -6.105405  -6.121471  -0.648115\n",
      "345    5PTI  BPTI_genvel1    120  8.741722e-01    2  -20.682380  -2.438769  -4.642036  -0.381080\n",
      "346    5PTI  BPTI_genvel1    121  1.053279e+00    2  -15.354248   5.978794  -2.803014   1.474784\n",
      "347    5PTI  BPTI_genvel1    122  1.018180e+00    2  -40.710236  -8.687153  -7.441703  -1.916231\n",
      "348    5PTI  BPTI_genvel1    123  9.711036e-01    2  -47.810193 -13.908262  -8.288292  -2.452828\n",
      "349    5PTI  BPTI_genvel1    124  1.096501e+00    2  -45.760833 -16.057067  -8.750813  -3.039771\n",
      "350    5PTI  BPTI_genvel1    125  9.774663e-01    2  -37.924241 -10.814171  -9.930910  -2.391804\n",
      "351    5PTI  BPTI_genvel1    126  9.774663e-01    2  -37.926045 -10.813916  -9.931054  -2.391872\n",
      "352    5PTI  BPTI_genvel1    127  9.964357e-01    2  -37.306208  -7.787188 -10.841616  -2.834269\n",
      "353    5PTI  BPTI_genvel1    128  1.027091e+00    2  -35.285648  -6.145905 -10.353714  -0.922404\n",
      "354    5PTI  BPTI_genvel1    129  9.849773e-01    2  -49.164679 -12.188136  -7.892559  -6.328433\n",
      "355    5PTI  BPTI_genvel1    130  8.728604e-01    2  -46.401021  -6.044659  -7.599411  -5.792306\n",
      "356    5PTI  BPTI_genvel1    131  9.099254e-01    2  -41.433426  -8.415945  -7.253423  -5.382980\n",
      "357    5PTI  BPTI_genvel1    132  1.045618e+00    2  -26.506140 -10.341436   1.330772  -1.710076\n",
      "358    5PTI  BPTI_genvel1    133  9.619023e-01    2  -22.160357  -4.592297   2.486866  -1.593861\n",
      "359    5PTI  BPTI_genvel1    134  1.054765e+00    2  -11.685968  -8.142887   3.542744  -2.095420\n",
      "360    5PTI  BPTI_genvel1    135  9.333030e-01    2    9.152135  -5.203765   5.762545  -4.264767\n",
      "361    5PTI  BPTI_genvel1    136  9.265903e-01    2   12.292955  -3.100643   6.024694  -4.098061\n",
      "362    5PTI  BPTI_genvel1    137  1.074820e+00    2   -5.953035 -10.990960   4.834138  -2.524070\n",
      "363    5PTI  BPTI_genvel1    138  1.160673e+00    2    2.861131 -11.371822   6.232302  -2.505366\n",
      "364    5PTI  BPTI_genvel1    139  1.075117e+00    2   13.388818 -10.913019   6.745843  -3.265715\n",
      "365    5PTI  BPTI_genvel1    140  9.754746e-01    2   25.558956 -11.017293   7.002165  -4.141519\n",
      "366    5PTI  BPTI_genvel1    141  9.279990e-01    2   12.032023  -6.188755   6.127184  -3.425537\n",
      "367    5PTI  BPTI_genvel1    142  9.289556e-01    2   -5.128462  -7.906637   5.624969  -0.813263\n",
      "368    5PTI  BPTI_genvel1    143  9.604167e-01    2   -1.735606 -14.968949   6.971602   0.493394\n",
      "369    5PTI  BPTI_genvel1    144  8.985282e-01    2   -1.644592 -15.523377   6.944568   0.395075\n",
      "370    5PTI  BPTI_genvel1    145  9.129697e-01    2  -11.474604  -8.805203   5.648952  -0.125104\n",
      "371    5PTI  BPTI_genvel1    146  9.218209e-01    2  -18.881668 -14.931722  -0.213905  -4.891895\n",
      "372    5PTI  BPTI_genvel1    147  9.736609e-01    2  -33.163317 -15.973048  -1.918990  -3.582944\n",
      "373    5PTI  BPTI_genvel1    148  1.216636e+00    2  -28.123057 -18.251957  -1.873589  -4.160301\n",
      "374    5PTI  BPTI_genvel1    149  1.279867e+00    2  -33.455755 -16.919388  -1.868206  -5.657217\n",
      "375    5PTI  BPTI_genvel1    150  1.133560e+00    2  -34.046770 -14.415511  -1.889630  -5.678295\n",
      "376    5PTI  BPTI_genvel1    151  1.247104e+00    2  -21.122532 -10.336227  -0.986147  -5.553772\n",
      "377    5PTI  BPTI_genvel1    152  1.238374e+00    2   -2.566213  -7.991376  17.714779  -1.060727\n",
      "378    5PTI  BPTI_genvel1    153  1.208941e+00    2   -5.695980  -4.902218  17.788851  -1.120564\n",
      "379    5PTI  BPTI_genvel1    154  1.316618e+00    2    6.400324 -10.588556  18.337208  -1.313299\n",
      "380    5PTI  BPTI_genvel1    155  1.338401e+00    2   13.028741 -10.940418  18.728231  -1.471038\n",
      "381    5PTI  BPTI_genvel1    156  1.252908e+00    2   30.151101 -23.329925  20.783640  -2.192316\n",
      "382    5PTI  BPTI_genvel1    157  1.211739e+00    2   38.183115 -21.002179  21.149912  -3.040177\n",
      "383    5PTI  BPTI_genvel1    158  1.110785e+00    2   44.512971 -24.516452  21.851694  -3.167196\n",
      "384    5PTI  BPTI_genvel1    159  1.219079e+00    2   37.370121 -18.091587  21.365608  -2.515717\n",
      "385    5PTI  BPTI_genvel1    160  1.309686e+00    2   38.293072 -21.191569  21.714642  -2.021502\n",
      "386    5PTI  BPTI_genvel1    161  1.275939e+00    2   40.160240 -22.722008  22.049156  -2.535723\n",
      "387    5PTI  BPTI_genvel1    162  1.168527e+00    2   43.310606 -23.367557  22.509954  -2.406641\n",
      "388    5PTI  BPTI_genvel1    163  1.222283e+00    2   51.482716 -25.066881  22.965731  -3.109806\n",
      "389    5PTI  BPTI_genvel1    164  1.333684e+00    2   46.808899 -21.777910  23.583141  -2.833165\n",
      "390    5PTI  BPTI_genvel1    165  1.344314e+00    2   60.397316 -21.079834  24.680914  -3.416699\n",
      "391    5PTI  BPTI_genvel1    166  1.212267e+00    2   64.732790 -21.695609  25.447226  -3.194025\n",
      "392    5PTI  BPTI_genvel1    167  1.141983e+00    2   83.274980 -24.524560  27.696280  -3.094612\n",
      "393    5PTI  BPTI_genvel1    168  1.182847e+00    2   87.013146 -14.741475  27.354464  -4.865120\n",
      "394    5PTI  BPTI_genvel1    169  1.226150e+00    2   90.366993 -20.606231  28.113535  -3.728266\n",
      "395    5PTI  BPTI_genvel1    170  1.184143e+00    2   82.928668 -10.339667  26.704203  -4.755184\n",
      "396    5PTI  BPTI_genvel1    171  1.149689e+00    2   71.758380 -12.221862  25.730846  -4.649794\n",
      "397    5PTI  BPTI_genvel1    172  1.191573e+00    2   70.644435  -9.686243  25.891123  -4.088119\n",
      "398    5PTI  BPTI_genvel1    173  1.214427e+00    2   81.222108 -15.758031  26.988079  -4.009177\n",
      "399    5PTI  BPTI_genvel1    174  1.302658e+00    2   68.688468 -17.885232  26.069660  -2.999942\n",
      "400    5PTI  BPTI_genvel1    175  1.147334e+00    2   75.113709 -15.569773  26.442636  -3.713865\n",
      "401    5PTI  BPTI_genvel1    176  1.264280e+00    2   78.635523 -14.404509  26.991188  -3.267722\n",
      "402    5PTI  BPTI_genvel1    177  1.059359e+00    2   89.653959 -15.884977  27.840240  -4.363152\n",
      "403    5PTI  BPTI_genvel1    178  1.139222e+00    2  111.714239 -10.572752  29.236839  -5.272752\n",
      "404    5PTI  BPTI_genvel1    179  1.242938e+00    2  109.884158 -13.944358  28.444950  -5.514776\n",
      "405    5PTI  BPTI_genvel1    180  1.238278e+00    2   98.573197 -18.658225  28.912718  -4.414698\n",
      "406    5PTI  BPTI_genvel1    181  1.174675e+00    2  121.092658 -25.274603  30.781523  -5.728012\n",
      "407    5PTI  BPTI_genvel1    182  1.325201e+00    2  111.732262 -22.902762  30.721869  -4.952749\n",
      "408    5PTI  BPTI_genvel1    183  1.079022e+00    2  120.835816 -18.331161  31.545431  -5.682828\n",
      "409    5PTI  BPTI_genvel1    184  1.155136e+00    2  136.131041 -26.109378  33.008823  -6.886842\n",
      "410    5PTI  BPTI_genvel1    185  1.278106e+00    2  143.227224 -23.863378  33.901875  -7.042722\n",
      "411    5PTI  BPTI_genvel1    186  1.192264e+00    2  137.240957 -20.695555  33.888527  -6.043633\n",
      "412    5PTI  BPTI_genvel1    187  1.204871e+00    2  122.537091 -13.938072  33.195747  -5.356524\n",
      "413    5PTI  BPTI_genvel1    188  1.182881e+00    2  113.525121 -21.752116  33.519939  -4.027958\n",
      "414    5PTI  BPTI_genvel1    189  1.086953e+00    2  121.046783 -18.709335  34.159969  -3.760795\n",
      "415    5PTI  BPTI_genvel1    190  1.126745e+00    2  118.226269 -11.932453  32.549934  -4.737360\n",
      "416    5PTI  BPTI_genvel1    191  1.246089e+00    2  117.208864 -16.190649  32.915195  -4.401425\n",
      "417    5PTI  BPTI_genvel1    192  1.158728e+00    2  103.898161 -15.032878  32.301304  -3.568682\n",
      "418    5PTI  BPTI_genvel1    193  1.177250e+00    2  109.957803 -21.368393  31.904060  -4.007719\n",
      "419    5PTI  BPTI_genvel1    194  1.315133e+00    2  101.536086 -18.308129  32.575325  -2.903641\n",
      "420    5PTI  BPTI_genvel1    195  1.157340e+00    2  115.352991 -15.832561  33.329227  -3.271476\n",
      "421    5PTI  BPTI_genvel1    196  1.204045e+00    2  128.627400 -14.769580  35.004356  -3.358947\n",
      "422    5PTI  BPTI_genvel1    197  1.216671e+00    2  137.171535 -21.808862  34.379536  -5.861324\n",
      "423    5PTI  BPTI_genvel1    198  1.358398e+00    2  148.415208 -20.489593  36.520393  -4.331529\n",
      "424    5PTI  BPTI_genvel1    199  1.385976e+00    2  139.672586 -25.616035  35.479824  -5.302259\n",
      "425    5PTI  BPTI_genvel1    200  1.361205e+00    2  125.890108 -21.609802  34.176357  -4.726904\n",
      "426    5PTI  BPTI_genvel1    201  1.388097e+00    2  133.110116 -24.484193  33.700871  -8.080277\n",
      "427    5PTI  BPTI_genvel1    202  1.247779e+00    2  160.812248 -30.512386  34.761555  -8.893810\n",
      "428    5PTI  BPTI_genvel1    203  1.163628e+00    2  162.694880 -25.545136  36.379105  -6.903076\n",
      "429    5PTI  BPTI_genvel1    204  1.304091e+00    2  156.423576 -20.584689  36.391338  -5.313033\n",
      "430    5PTI  BPTI_genvel1    205  1.143109e+00    2  135.947050 -17.998283  35.631104  -4.473544\n",
      "431    5PTI  BPTI_genvel1    206  1.271394e+00    2  133.880698 -18.032630  35.240326  -4.236631\n",
      "432    5PTI  BPTI_genvel1    207  1.162419e+00    2  133.413043 -17.500575  34.753849  -4.921531\n",
      "433    5PTI  BPTI_genvel1    208  1.308179e+00    2  138.653926 -29.180803  34.151146  -7.733750\n",
      "434    5PTI  BPTI_genvel1    209  1.190988e+00    2  147.852803 -31.796760  36.830910  -6.026821\n",
      "435    5PTI  BPTI_genvel1    210  1.139099e+00    2  148.295855 -20.330861  35.658936  -6.358024\n",
      "436    5PTI  BPTI_genvel1    211  1.247839e+00    2  149.132054 -26.092101  35.699360  -7.508400\n",
      "437    5PTI  BPTI_genvel1    212  1.387977e+00    2  151.275808 -26.182955  35.388943  -7.965737\n",
      "438    5PTI  BPTI_genvel1    213  1.289098e+00    2  167.308818 -25.936910  36.380833  -8.622890\n",
      "439    5PTI  BPTI_genvel1    214  1.184975e+00    2  173.817190 -25.336449  36.985752  -9.019629\n",
      "440    5PTI  BPTI_genvel1    215  1.304576e+00    2  172.828194 -23.717416  36.171780  -9.490471\n",
      "441    5PTI  BPTI_genvel1    216  1.210385e+00    2  173.125003 -26.164603  36.567051  -9.694715\n",
      "442    5PTI  BPTI_genvel1    217  1.072535e+00    2  183.384296 -17.173862  36.436256 -11.001877\n",
      "443    5PTI  BPTI_genvel1    218  1.222443e+00    2  183.751316 -19.686562  36.955353 -10.735188\n",
      "444    5PTI  BPTI_genvel1    219  1.283874e+00    2  205.659932 -20.748173  38.162750 -11.360184\n",
      "445    5PTI  BPTI_genvel1    220  1.364815e+00    2  206.810235 -22.169377  38.640774 -10.560880\n",
      "446    5PTI  BPTI_genvel1    221  1.178303e+00    2  196.446859 -18.275966  37.413170 -11.307244\n",
      "447    5PTI  BPTI_genvel1    222  1.176813e+00    2  195.327946 -25.351066  38.199474  -9.887665\n",
      "448    5PTI  BPTI_genvel1    223  1.200123e+00    2  191.521130 -26.978776  37.807041 -10.646851\n",
      "449    5PTI  BPTI_genvel1    224  1.385550e+00    2  189.722082 -25.778478  37.459885  -9.993092\n",
      "450    5PTI  BPTI_genvel1    225  1.357428e+00    2  186.555334 -24.538259  37.812153  -9.228806\n",
      "451    5PTI  BPTI_genvel1    226  1.450360e+00    2  199.127651 -12.442499  38.697605  -9.061210\n"
     ]
    }
   ],
   "source": [
    "print(test_df.to_string())"
   ]
  },
  {
   "cell_type": "code",
   "execution_count": 19,
   "metadata": {},
   "outputs": [],
   "source": [
    "# plot rmsd using plotly\n",
    "import plotly.express as px\n"
   ]
  },
  {
   "cell_type": "code",
   "execution_count": 20,
   "metadata": {},
   "outputs": [
    {
     "data": {
      "application/vnd.plotly.v1+json": {
       "config": {
        "plotlyServerURL": "https://plot.ly"
       },
       "data": [
        {
         "hovertemplate": "rep=1<br>name=BPTI_genvel1<br>frame=%{x}<br>rmsd=%{y}<extra></extra>",
         "legendgroup": "1",
         "line": {
          "color": "#636efa",
          "dash": "solid"
         },
         "marker": {
          "symbol": "circle"
         },
         "mode": "lines",
         "name": "1",
         "orientation": "v",
         "showlegend": true,
         "type": "scatter",
         "x": [
          1,
          2,
          3,
          4,
          5,
          6,
          7,
          8,
          9,
          10,
          11,
          12,
          13,
          14,
          15,
          16,
          17,
          18,
          19,
          20,
          21,
          22,
          23,
          24,
          25,
          26,
          27,
          28,
          29,
          30,
          31,
          32,
          33,
          34,
          35,
          36,
          37,
          38,
          39,
          40,
          41,
          42,
          43,
          44,
          45,
          46,
          47,
          48,
          49,
          50,
          51,
          52,
          53,
          54,
          55,
          56,
          57,
          58,
          59,
          60,
          61,
          62,
          63,
          64,
          65,
          66,
          67,
          68,
          69,
          70,
          71,
          72,
          73,
          74,
          75,
          76,
          77,
          78,
          79,
          80,
          81,
          82,
          83,
          84,
          85,
          86,
          87,
          88,
          89,
          90,
          91,
          92,
          93,
          94,
          95,
          96,
          97,
          98,
          99,
          100,
          101,
          102,
          103,
          104,
          105,
          106,
          107,
          108,
          109,
          110,
          111,
          112,
          113,
          114,
          115,
          116,
          117,
          118,
          119,
          120,
          121,
          122,
          123,
          124,
          125,
          126,
          127,
          128,
          129,
          130,
          131,
          132,
          133,
          134,
          135,
          136,
          137,
          138,
          139,
          140,
          141,
          142,
          143,
          144,
          145,
          146,
          147,
          148,
          149,
          150,
          151,
          152,
          153,
          154,
          155,
          156,
          157,
          158,
          159,
          160,
          161,
          162,
          163,
          164,
          165,
          166,
          167,
          168,
          169,
          170,
          171,
          172,
          173,
          174,
          175,
          176,
          177,
          178,
          179,
          180,
          181,
          182,
          183,
          184,
          185,
          186,
          187,
          188,
          189,
          190,
          191,
          192,
          193,
          194,
          195,
          196,
          197,
          198,
          199,
          200,
          201,
          202,
          203,
          204,
          205,
          206,
          207,
          208,
          209,
          210,
          211,
          212,
          213,
          214,
          215,
          216,
          217,
          218,
          219,
          220,
          221,
          222,
          223,
          224,
          225,
          226
         ],
         "xaxis": "x",
         "y": [
          1.7709287469582735e-7,
          0.31332616064593244,
          0.3275709261563363,
          0.42897750214540026,
          0.2695420907216988,
          0.28563571333693594,
          0.2905204251010625,
          0.25226629250868093,
          0.23479269249772308,
          0.23993271424169188,
          0.27432839495995576,
          0.26207872459786774,
          0.25206480047723173,
          0.2805501295610274,
          0.23558092394435773,
          0.2538355154409054,
          0.30889977647085154,
          0.25601116228465814,
          0.29382178011647897,
          0.22828536604270772,
          0.26458737897494944,
          0.24535960189462486,
          0.27495779273893545,
          0.2610210493713933,
          0.28118044800897135,
          0.2700327752922219,
          0.2738134343426017,
          0.2286579388093952,
          0.234476549411007,
          0.2741089239382988,
          0.26885397351991586,
          0.2644032519916345,
          0.24876294560587975,
          0.2787322419253594,
          0.27923900921553824,
          0.28673340140594283,
          0.2655148442270643,
          0.2611225553136378,
          0.22736734751135426,
          0.2711836779259699,
          0.29504414915308874,
          0.29504414915308874,
          0.5810869946277876,
          0.5971941634589157,
          0.5641085134159702,
          0.5997328452546548,
          0.5778025162775206,
          0.6984299401380899,
          0.6072637437621203,
          0.560413643276675,
          0.5361546019992981,
          0.648703593969048,
          0.5605422819516364,
          0.49855427533029045,
          0.5498031037867042,
          0.6624815358436437,
          0.6058144944587769,
          0.6609459837610284,
          0.5699521814445788,
          0.6101120568854966,
          0.48412049720317485,
          0.5384801002124902,
          0.5384801002124902,
          0.7647607416040177,
          0.908384148806924,
          0.7965979565501619,
          0.9839141241733528,
          0.8679439992319842,
          0.921434597993461,
          1.0367528441814036,
          1.116784595259439,
          1.1995404310952904,
          1.061592409977046,
          1.0698544901132865,
          0.9019796196536731,
          1.0116118228288724,
          1.0101094835737838,
          0.8870180587810598,
          0.9490060062918337,
          0.7035575314990293,
          0.7830191281761879,
          0.7411285910352302,
          0.802230319232714,
          0.802230319232714,
          0.79626247344482,
          1.0419139958037797,
          0.8191110296935656,
          0.9081859558478809,
          0.8608961744565914,
          0.9480103587448432,
          0.9435387763023235,
          1.158773904655064,
          1.277653762519581,
          1.2417268966610921,
          1.429324215964636,
          1.5276905940441359,
          1.4796170757908675,
          1.4482929346720204,
          1.2453664100928548,
          1.14720758127613,
          1.068826898513426,
          1.1806330383733723,
          1.027486492160083,
          1.1284683815144845,
          1.1284683815144845,
          1.2570911435012346,
          1.50635577459122,
          1.3443636843341271,
          1.2183911167356334,
          1.4331737591244982,
          1.0791745996545663,
          1.102420742329101,
          1.3598099364341325,
          1.1229683463046138,
          1.2244686308082118,
          1.2821424764237621,
          1.3384109842766028,
          1.2233674214573924,
          1.0557417705396326,
          1.0934631226044527,
          0.9308325709320049,
          1.072409405139252,
          1.085987604771854,
          0.9653693033338622,
          1.088270793587555,
          1.0882709918807547,
          1.0011985643954897,
          0.9998856217974705,
          1.128089930929446,
          1.004751831291641,
          1.2689030858679022,
          1.1644373704967184,
          1.1921364425092968,
          1.2047922622052196,
          1.1454977082138167,
          0.8986361069237077,
          1.2185876515457803,
          1.1443046257799159,
          1.008637716838863,
          1.0012466437268333,
          1.2578516369200385,
          1.1347161817669182,
          1.4643546118719213,
          1.184634704504234,
          1.0522391210355948,
          1.1442474362370805,
          1.0553558005009929,
          1.1780555705969464,
          1.3033376813199076,
          1.3626503180918703,
          1.3183691158806337,
          1.8151743003098635,
          1.5423122809955534,
          1.5707158984573406,
          1.5645207905644543,
          1.2635868594604494,
          1.3027510024264162,
          1.2368233268552948,
          1.477338280351774,
          1.6215369606713896,
          1.5355258507154816,
          1.5447754437635308,
          1.623531205494125,
          1.3858438763007699,
          1.3771307700243884,
          1.3538990730485332,
          1.3153594595203848,
          1.2881681041415831,
          1.1956458822748204,
          1.3288163308103385,
          1.3096165893266134,
          1.1109038105625104,
          1.313616240930607,
          1.0945813143412944,
          1.26751514987896,
          1.1752234548739635,
          1.145283481291587,
          1.1761026457806645,
          1.068273432186225,
          1.147058031326551,
          0.9540734449582644,
          0.8976368597999911,
          1.0842926079170863,
          1.0479957862132947,
          1.4272234150142173,
          1.4638672735804714,
          1.478061902290466,
          1.634462882454473,
          1.6728085081260906,
          1.4379212594208834,
          1.4732202859105827,
          1.5941788081438262,
          1.4498966203296288,
          1.4907678412094947,
          1.530602269033689,
          1.557323113185572,
          1.3614596100426222,
          1.353642831398398,
          1.4768039380603066,
          1.363622031849252,
          1.401734319863047,
          1.3937514160954827,
          1.4125561556198194,
          1.4329693099742702,
          1.3693438939324862,
          1.4770695714255067,
          1.5371956606995076,
          1.5929847283424798,
          1.5813314703085275,
          1.4480663489779861,
          1.3049697469445842,
          1.3459109102375524,
          1.3909169313928207,
          1.546970098906632,
          1.5000595854950982,
          1.5329696414094003,
          1.5242888191138402,
          1.4644095043503444,
          1.348362304457241,
          1.474261987261323,
          1.442219470051074,
          1.4956933561972892,
          1.5575941744088055,
          1.3070833080351778,
          1.2265324678998768,
          1.4793536929961577
         ],
         "yaxis": "y"
        },
        {
         "hovertemplate": "rep=2<br>name=BPTI_genvel1<br>frame=%{x}<br>rmsd=%{y}<extra></extra>",
         "legendgroup": "2",
         "line": {
          "color": "#EF553B",
          "dash": "solid"
         },
         "marker": {
          "symbol": "circle"
         },
         "mode": "lines",
         "name": "2",
         "orientation": "v",
         "showlegend": true,
         "type": "scatter",
         "x": [
          1,
          2,
          3,
          4,
          5,
          6,
          7,
          8,
          9,
          10,
          11,
          12,
          13,
          14,
          15,
          16,
          17,
          18,
          19,
          20,
          21,
          22,
          23,
          24,
          25,
          26,
          27,
          28,
          29,
          30,
          31,
          32,
          33,
          34,
          35,
          36,
          37,
          38,
          39,
          40,
          41,
          42,
          43,
          44,
          45,
          46,
          47,
          48,
          49,
          50,
          51,
          52,
          53,
          54,
          55,
          56,
          57,
          58,
          59,
          60,
          61,
          62,
          63,
          64,
          65,
          66,
          67,
          68,
          69,
          70,
          71,
          72,
          73,
          74,
          75,
          76,
          77,
          78,
          79,
          80,
          81,
          82,
          83,
          84,
          85,
          86,
          87,
          88,
          89,
          90,
          91,
          92,
          93,
          94,
          95,
          96,
          97,
          98,
          99,
          100,
          101,
          102,
          103,
          104,
          105,
          106,
          107,
          108,
          109,
          110,
          111,
          112,
          113,
          114,
          115,
          116,
          117,
          118,
          119,
          120,
          121,
          122,
          123,
          124,
          125,
          126,
          127,
          128,
          129,
          130,
          131,
          132,
          133,
          134,
          135,
          136,
          137,
          138,
          139,
          140,
          141,
          142,
          143,
          144,
          145,
          146,
          147,
          148,
          149,
          150,
          151,
          152,
          153,
          154,
          155,
          156,
          157,
          158,
          159,
          160,
          161,
          162,
          163,
          164,
          165,
          166,
          167,
          168,
          169,
          170,
          171,
          172,
          173,
          174,
          175,
          176,
          177,
          178,
          179,
          180,
          181,
          182,
          183,
          184,
          185,
          186,
          187,
          188,
          189,
          190,
          191,
          192,
          193,
          194,
          195,
          196,
          197,
          198,
          199,
          200,
          201,
          202,
          203,
          204,
          205,
          206,
          207,
          208,
          209,
          210,
          211,
          212,
          213,
          214,
          215,
          216,
          217,
          218,
          219,
          220,
          221,
          222,
          223,
          224,
          225,
          226
         ],
         "xaxis": "x",
         "y": [
          1.7709287469582735e-7,
          0.28302054712592134,
          0.3065643874913671,
          0.3451692418545276,
          0.2934226368331177,
          0.3239651138325807,
          0.30222221081036643,
          0.25804565415407715,
          0.3066819007851287,
          0.2547297774952897,
          0.28631072393831597,
          0.24454668523624462,
          0.27953134704438254,
          0.2366501942187466,
          0.2629875955623412,
          0.2588960955740095,
          0.24352252117752712,
          0.26006421893553394,
          0.25075961768800553,
          0.29910802781802637,
          0.26309782144149113,
          0.27324304938532457,
          0.23775895264975763,
          0.281095961948061,
          0.2737979552673556,
          0.2426967300083767,
          0.27970851094193716,
          0.256030538035136,
          0.30577968096716635,
          0.289184436811287,
          0.3130704130648321,
          0.2827237375175575,
          0.24093846023535292,
          0.2799248774300518,
          0.2645430974556843,
          0.30355378360035007,
          0.3065761912176151,
          0.2677192624292622,
          0.27180032701995666,
          0.25892573806887004,
          0.2737082635356474,
          0.2737082635356474,
          0.5126909470391582,
          0.48671544265336764,
          0.5597554580773979,
          0.5626457610667875,
          0.583306599361343,
          0.5915199983870512,
          0.5646047694351369,
          0.6202721573588332,
          0.4898186162445295,
          0.5689004989943333,
          0.5650230774622382,
          0.6010635141078801,
          0.5607117404055925,
          0.5733039590349088,
          0.5121307898129422,
          0.586881432612325,
          0.48216477087116366,
          0.5217405080731274,
          0.47884954527460466,
          0.5456978225720227,
          0.5456978225720227,
          0.7760365482366857,
          0.7798338868736152,
          0.7977034088122981,
          0.6911833965612865,
          0.7703106632436956,
          0.9590805046060497,
          0.7735452277723194,
          0.9050975644948936,
          0.7869549872619152,
          1.0693821568320605,
          0.9289157319410332,
          1.0015007665749385,
          0.9066152994367378,
          1.0198269064460261,
          0.9173615815387209,
          0.9239559404696641,
          0.9833646793679551,
          1.0353361388204378,
          1.0130036444761301,
          0.9381540434611068,
          0.9381540434611068,
          0.9711056452945217,
          1.1210332203707394,
          1.171168955470188,
          1.0044172344984355,
          0.8676460570464605,
          1.1455982853435192,
          0.9145915382828878,
          1.0886987485733568,
          1.0708193604012608,
          1.1063052488155576,
          1.1270247666392867,
          1.1013972654802529,
          1.07064731466157,
          1.027412471374296,
          0.9888783373004818,
          1.190566828328434,
          1.0457793976906102,
          1.0450137361241292,
          1.12286073107029,
          1.0456633440456415,
          1.0456633440456415,
          1.0626107754376002,
          0.9324411033455083,
          0.9441659571529604,
          0.9129330019223209,
          0.9956661366559194,
          1.29496655417063,
          1.1954900093363616,
          1.2384493035284594,
          1.3489078067419036,
          1.0874213911357433,
          1.101516305385508,
          0.9746347880258572,
          0.8934427957668045,
          0.980258951904986,
          0.8741722000225167,
          1.0532785737319248,
          1.0181804547985511,
          0.97110356401828,
          1.0965014252106036,
          0.9774662787828559,
          0.9774662787828559,
          0.9964357227180363,
          1.0270908820079296,
          0.9849773297774503,
          0.872860382216726,
          0.9099253958004786,
          1.0456184090446268,
          0.9619023390679271,
          1.0547646320615556,
          0.9333030039280171,
          0.9265903070019545,
          1.074820219281323,
          1.160672843393161,
          1.0751171815570735,
          0.9754745946971581,
          0.9279989838552046,
          0.928955625375149,
          0.9604166884632969,
          0.8985282121782093,
          0.9129696568674363,
          0.9218209012644871,
          0.9736609371915296,
          1.216635563907603,
          1.279866855398664,
          1.1335601938851554,
          1.247103845451623,
          1.2383739734925938,
          1.2089407947720185,
          1.3166179497785861,
          1.3384014235455701,
          1.2529078915754022,
          1.2117386299809856,
          1.1107852366774533,
          1.2190785824323227,
          1.3096856936556045,
          1.2759389605814293,
          1.1685271867656137,
          1.2222829125054997,
          1.333684230791146,
          1.3443137503688147,
          1.2122671853723748,
          1.1419828567726706,
          1.182846696730674,
          1.2261498680026355,
          1.1841426093727279,
          1.1496885833746382,
          1.1915730273763723,
          1.2144271642472229,
          1.3026578774233264,
          1.1473336596828223,
          1.2642804309368703,
          1.0593593315452816,
          1.1392219021360421,
          1.2429375212370763,
          1.2382777042304238,
          1.1746748353662606,
          1.3252013902639224,
          1.0790217788123573,
          1.1551356941722044,
          1.2781060541788352,
          1.1922640641407591,
          1.2048706112841252,
          1.1828809229873491,
          1.086953255026612,
          1.1267447935300865,
          1.2460887624399337,
          1.1587281718934708,
          1.1772498317685707,
          1.3151328303977123,
          1.1573404708644353,
          1.2040445769347194,
          1.2166711379341268,
          1.3583983136253766,
          1.3859764318110748,
          1.3612054297276455,
          1.3880968616903715,
          1.2477787683381876,
          1.1636277208121026,
          1.3040909487249426,
          1.1431085809137829,
          1.2713938703841159,
          1.1624190908032481,
          1.3081785687330072,
          1.1909882561705167,
          1.139098728533805,
          1.2478393174977547,
          1.3879769035960594,
          1.2890976307991315,
          1.1849750664830143,
          1.3045759628782883,
          1.2103853906257382,
          1.0725348839302988,
          1.2224428727000711,
          1.2838743063192164,
          1.3648149973161348,
          1.178302741306448,
          1.176813097104972,
          1.2001234921776056,
          1.3855499578859438,
          1.3574278296523223,
          1.4503599410665349
         ],
         "yaxis": "y"
        }
       ],
       "layout": {
        "annotations": [
         {
          "font": {},
          "showarrow": false,
          "text": "name=BPTI_genvel1",
          "x": 0.5,
          "xanchor": "center",
          "xref": "paper",
          "y": 1,
          "yanchor": "bottom",
          "yref": "paper"
         }
        ],
        "legend": {
         "title": {
          "text": "rep"
         },
         "tracegroupgap": 0
        },
        "margin": {
         "t": 60
        },
        "template": {
         "data": {
          "bar": [
           {
            "error_x": {
             "color": "#2a3f5f"
            },
            "error_y": {
             "color": "#2a3f5f"
            },
            "marker": {
             "line": {
              "color": "#E5ECF6",
              "width": 0.5
             },
             "pattern": {
              "fillmode": "overlay",
              "size": 10,
              "solidity": 0.2
             }
            },
            "type": "bar"
           }
          ],
          "barpolar": [
           {
            "marker": {
             "line": {
              "color": "#E5ECF6",
              "width": 0.5
             },
             "pattern": {
              "fillmode": "overlay",
              "size": 10,
              "solidity": 0.2
             }
            },
            "type": "barpolar"
           }
          ],
          "carpet": [
           {
            "aaxis": {
             "endlinecolor": "#2a3f5f",
             "gridcolor": "white",
             "linecolor": "white",
             "minorgridcolor": "white",
             "startlinecolor": "#2a3f5f"
            },
            "baxis": {
             "endlinecolor": "#2a3f5f",
             "gridcolor": "white",
             "linecolor": "white",
             "minorgridcolor": "white",
             "startlinecolor": "#2a3f5f"
            },
            "type": "carpet"
           }
          ],
          "choropleth": [
           {
            "colorbar": {
             "outlinewidth": 0,
             "ticks": ""
            },
            "type": "choropleth"
           }
          ],
          "contour": [
           {
            "colorbar": {
             "outlinewidth": 0,
             "ticks": ""
            },
            "colorscale": [
             [
              0,
              "#0d0887"
             ],
             [
              0.1111111111111111,
              "#46039f"
             ],
             [
              0.2222222222222222,
              "#7201a8"
             ],
             [
              0.3333333333333333,
              "#9c179e"
             ],
             [
              0.4444444444444444,
              "#bd3786"
             ],
             [
              0.5555555555555556,
              "#d8576b"
             ],
             [
              0.6666666666666666,
              "#ed7953"
             ],
             [
              0.7777777777777778,
              "#fb9f3a"
             ],
             [
              0.8888888888888888,
              "#fdca26"
             ],
             [
              1,
              "#f0f921"
             ]
            ],
            "type": "contour"
           }
          ],
          "contourcarpet": [
           {
            "colorbar": {
             "outlinewidth": 0,
             "ticks": ""
            },
            "type": "contourcarpet"
           }
          ],
          "heatmap": [
           {
            "colorbar": {
             "outlinewidth": 0,
             "ticks": ""
            },
            "colorscale": [
             [
              0,
              "#0d0887"
             ],
             [
              0.1111111111111111,
              "#46039f"
             ],
             [
              0.2222222222222222,
              "#7201a8"
             ],
             [
              0.3333333333333333,
              "#9c179e"
             ],
             [
              0.4444444444444444,
              "#bd3786"
             ],
             [
              0.5555555555555556,
              "#d8576b"
             ],
             [
              0.6666666666666666,
              "#ed7953"
             ],
             [
              0.7777777777777778,
              "#fb9f3a"
             ],
             [
              0.8888888888888888,
              "#fdca26"
             ],
             [
              1,
              "#f0f921"
             ]
            ],
            "type": "heatmap"
           }
          ],
          "heatmapgl": [
           {
            "colorbar": {
             "outlinewidth": 0,
             "ticks": ""
            },
            "colorscale": [
             [
              0,
              "#0d0887"
             ],
             [
              0.1111111111111111,
              "#46039f"
             ],
             [
              0.2222222222222222,
              "#7201a8"
             ],
             [
              0.3333333333333333,
              "#9c179e"
             ],
             [
              0.4444444444444444,
              "#bd3786"
             ],
             [
              0.5555555555555556,
              "#d8576b"
             ],
             [
              0.6666666666666666,
              "#ed7953"
             ],
             [
              0.7777777777777778,
              "#fb9f3a"
             ],
             [
              0.8888888888888888,
              "#fdca26"
             ],
             [
              1,
              "#f0f921"
             ]
            ],
            "type": "heatmapgl"
           }
          ],
          "histogram": [
           {
            "marker": {
             "pattern": {
              "fillmode": "overlay",
              "size": 10,
              "solidity": 0.2
             }
            },
            "type": "histogram"
           }
          ],
          "histogram2d": [
           {
            "colorbar": {
             "outlinewidth": 0,
             "ticks": ""
            },
            "colorscale": [
             [
              0,
              "#0d0887"
             ],
             [
              0.1111111111111111,
              "#46039f"
             ],
             [
              0.2222222222222222,
              "#7201a8"
             ],
             [
              0.3333333333333333,
              "#9c179e"
             ],
             [
              0.4444444444444444,
              "#bd3786"
             ],
             [
              0.5555555555555556,
              "#d8576b"
             ],
             [
              0.6666666666666666,
              "#ed7953"
             ],
             [
              0.7777777777777778,
              "#fb9f3a"
             ],
             [
              0.8888888888888888,
              "#fdca26"
             ],
             [
              1,
              "#f0f921"
             ]
            ],
            "type": "histogram2d"
           }
          ],
          "histogram2dcontour": [
           {
            "colorbar": {
             "outlinewidth": 0,
             "ticks": ""
            },
            "colorscale": [
             [
              0,
              "#0d0887"
             ],
             [
              0.1111111111111111,
              "#46039f"
             ],
             [
              0.2222222222222222,
              "#7201a8"
             ],
             [
              0.3333333333333333,
              "#9c179e"
             ],
             [
              0.4444444444444444,
              "#bd3786"
             ],
             [
              0.5555555555555556,
              "#d8576b"
             ],
             [
              0.6666666666666666,
              "#ed7953"
             ],
             [
              0.7777777777777778,
              "#fb9f3a"
             ],
             [
              0.8888888888888888,
              "#fdca26"
             ],
             [
              1,
              "#f0f921"
             ]
            ],
            "type": "histogram2dcontour"
           }
          ],
          "mesh3d": [
           {
            "colorbar": {
             "outlinewidth": 0,
             "ticks": ""
            },
            "type": "mesh3d"
           }
          ],
          "parcoords": [
           {
            "line": {
             "colorbar": {
              "outlinewidth": 0,
              "ticks": ""
             }
            },
            "type": "parcoords"
           }
          ],
          "pie": [
           {
            "automargin": true,
            "type": "pie"
           }
          ],
          "scatter": [
           {
            "fillpattern": {
             "fillmode": "overlay",
             "size": 10,
             "solidity": 0.2
            },
            "type": "scatter"
           }
          ],
          "scatter3d": [
           {
            "line": {
             "colorbar": {
              "outlinewidth": 0,
              "ticks": ""
             }
            },
            "marker": {
             "colorbar": {
              "outlinewidth": 0,
              "ticks": ""
             }
            },
            "type": "scatter3d"
           }
          ],
          "scattercarpet": [
           {
            "marker": {
             "colorbar": {
              "outlinewidth": 0,
              "ticks": ""
             }
            },
            "type": "scattercarpet"
           }
          ],
          "scattergeo": [
           {
            "marker": {
             "colorbar": {
              "outlinewidth": 0,
              "ticks": ""
             }
            },
            "type": "scattergeo"
           }
          ],
          "scattergl": [
           {
            "marker": {
             "colorbar": {
              "outlinewidth": 0,
              "ticks": ""
             }
            },
            "type": "scattergl"
           }
          ],
          "scattermapbox": [
           {
            "marker": {
             "colorbar": {
              "outlinewidth": 0,
              "ticks": ""
             }
            },
            "type": "scattermapbox"
           }
          ],
          "scatterpolar": [
           {
            "marker": {
             "colorbar": {
              "outlinewidth": 0,
              "ticks": ""
             }
            },
            "type": "scatterpolar"
           }
          ],
          "scatterpolargl": [
           {
            "marker": {
             "colorbar": {
              "outlinewidth": 0,
              "ticks": ""
             }
            },
            "type": "scatterpolargl"
           }
          ],
          "scatterternary": [
           {
            "marker": {
             "colorbar": {
              "outlinewidth": 0,
              "ticks": ""
             }
            },
            "type": "scatterternary"
           }
          ],
          "surface": [
           {
            "colorbar": {
             "outlinewidth": 0,
             "ticks": ""
            },
            "colorscale": [
             [
              0,
              "#0d0887"
             ],
             [
              0.1111111111111111,
              "#46039f"
             ],
             [
              0.2222222222222222,
              "#7201a8"
             ],
             [
              0.3333333333333333,
              "#9c179e"
             ],
             [
              0.4444444444444444,
              "#bd3786"
             ],
             [
              0.5555555555555556,
              "#d8576b"
             ],
             [
              0.6666666666666666,
              "#ed7953"
             ],
             [
              0.7777777777777778,
              "#fb9f3a"
             ],
             [
              0.8888888888888888,
              "#fdca26"
             ],
             [
              1,
              "#f0f921"
             ]
            ],
            "type": "surface"
           }
          ],
          "table": [
           {
            "cells": {
             "fill": {
              "color": "#EBF0F8"
             },
             "line": {
              "color": "white"
             }
            },
            "header": {
             "fill": {
              "color": "#C8D4E3"
             },
             "line": {
              "color": "white"
             }
            },
            "type": "table"
           }
          ]
         },
         "layout": {
          "annotationdefaults": {
           "arrowcolor": "#2a3f5f",
           "arrowhead": 0,
           "arrowwidth": 1
          },
          "autotypenumbers": "strict",
          "coloraxis": {
           "colorbar": {
            "outlinewidth": 0,
            "ticks": ""
           }
          },
          "colorscale": {
           "diverging": [
            [
             0,
             "#8e0152"
            ],
            [
             0.1,
             "#c51b7d"
            ],
            [
             0.2,
             "#de77ae"
            ],
            [
             0.3,
             "#f1b6da"
            ],
            [
             0.4,
             "#fde0ef"
            ],
            [
             0.5,
             "#f7f7f7"
            ],
            [
             0.6,
             "#e6f5d0"
            ],
            [
             0.7,
             "#b8e186"
            ],
            [
             0.8,
             "#7fbc41"
            ],
            [
             0.9,
             "#4d9221"
            ],
            [
             1,
             "#276419"
            ]
           ],
           "sequential": [
            [
             0,
             "#0d0887"
            ],
            [
             0.1111111111111111,
             "#46039f"
            ],
            [
             0.2222222222222222,
             "#7201a8"
            ],
            [
             0.3333333333333333,
             "#9c179e"
            ],
            [
             0.4444444444444444,
             "#bd3786"
            ],
            [
             0.5555555555555556,
             "#d8576b"
            ],
            [
             0.6666666666666666,
             "#ed7953"
            ],
            [
             0.7777777777777778,
             "#fb9f3a"
            ],
            [
             0.8888888888888888,
             "#fdca26"
            ],
            [
             1,
             "#f0f921"
            ]
           ],
           "sequentialminus": [
            [
             0,
             "#0d0887"
            ],
            [
             0.1111111111111111,
             "#46039f"
            ],
            [
             0.2222222222222222,
             "#7201a8"
            ],
            [
             0.3333333333333333,
             "#9c179e"
            ],
            [
             0.4444444444444444,
             "#bd3786"
            ],
            [
             0.5555555555555556,
             "#d8576b"
            ],
            [
             0.6666666666666666,
             "#ed7953"
            ],
            [
             0.7777777777777778,
             "#fb9f3a"
            ],
            [
             0.8888888888888888,
             "#fdca26"
            ],
            [
             1,
             "#f0f921"
            ]
           ]
          },
          "colorway": [
           "#636efa",
           "#EF553B",
           "#00cc96",
           "#ab63fa",
           "#FFA15A",
           "#19d3f3",
           "#FF6692",
           "#B6E880",
           "#FF97FF",
           "#FECB52"
          ],
          "font": {
           "color": "#2a3f5f"
          },
          "geo": {
           "bgcolor": "white",
           "lakecolor": "white",
           "landcolor": "#E5ECF6",
           "showlakes": true,
           "showland": true,
           "subunitcolor": "white"
          },
          "hoverlabel": {
           "align": "left"
          },
          "hovermode": "closest",
          "mapbox": {
           "style": "light"
          },
          "paper_bgcolor": "white",
          "plot_bgcolor": "#E5ECF6",
          "polar": {
           "angularaxis": {
            "gridcolor": "white",
            "linecolor": "white",
            "ticks": ""
           },
           "bgcolor": "#E5ECF6",
           "radialaxis": {
            "gridcolor": "white",
            "linecolor": "white",
            "ticks": ""
           }
          },
          "scene": {
           "xaxis": {
            "backgroundcolor": "#E5ECF6",
            "gridcolor": "white",
            "gridwidth": 2,
            "linecolor": "white",
            "showbackground": true,
            "ticks": "",
            "zerolinecolor": "white"
           },
           "yaxis": {
            "backgroundcolor": "#E5ECF6",
            "gridcolor": "white",
            "gridwidth": 2,
            "linecolor": "white",
            "showbackground": true,
            "ticks": "",
            "zerolinecolor": "white"
           },
           "zaxis": {
            "backgroundcolor": "#E5ECF6",
            "gridcolor": "white",
            "gridwidth": 2,
            "linecolor": "white",
            "showbackground": true,
            "ticks": "",
            "zerolinecolor": "white"
           }
          },
          "shapedefaults": {
           "line": {
            "color": "#2a3f5f"
           }
          },
          "ternary": {
           "aaxis": {
            "gridcolor": "white",
            "linecolor": "white",
            "ticks": ""
           },
           "baxis": {
            "gridcolor": "white",
            "linecolor": "white",
            "ticks": ""
           },
           "bgcolor": "#E5ECF6",
           "caxis": {
            "gridcolor": "white",
            "linecolor": "white",
            "ticks": ""
           }
          },
          "title": {
           "x": 0.05
          },
          "xaxis": {
           "automargin": true,
           "gridcolor": "white",
           "linecolor": "white",
           "ticks": "",
           "title": {
            "standoff": 15
           },
           "zerolinecolor": "white",
           "zerolinewidth": 2
          },
          "yaxis": {
           "automargin": true,
           "gridcolor": "white",
           "linecolor": "white",
           "ticks": "",
           "title": {
            "standoff": 15
           },
           "zerolinecolor": "white",
           "zerolinewidth": 2
          }
         }
        },
        "xaxis": {
         "anchor": "y",
         "domain": [
          0,
          1
         ],
         "title": {
          "text": "frame"
         }
        },
        "yaxis": {
         "anchor": "x",
         "domain": [
          0,
          1
         ],
         "title": {
          "text": "rmsd"
         }
        }
       }
      }
     },
     "metadata": {},
     "output_type": "display_data"
    }
   ],
   "source": [
    "#plot split by name  \n",
    "\n",
    "fig = px.line(test_df, x=\"frame\", y=\"rmsd\", color=\"rep\", facet_col=\"name\", facet_col_wrap=2)\n",
    "fig.show()"
   ]
  },
  {
   "cell_type": "code",
   "execution_count": 9,
   "metadata": {},
   "outputs": [
    {
     "data": {
      "application/vnd.plotly.v1+json": {
       "config": {
        "plotlyServerURL": "https://plot.ly"
       },
       "data": [
        {
         "hovertemplate": "name=BPTI_genvel1<br>PCA1=%{x}<br>PCA2=%{y}<br>rep=%{marker.color}<extra></extra>",
         "legendgroup": "",
         "marker": {
          "color": [
           1,
           1,
           1,
           1,
           1,
           1,
           1,
           1,
           1,
           1,
           1,
           1,
           1,
           1,
           1,
           1,
           1,
           1,
           1,
           1,
           1,
           1,
           1,
           1,
           1,
           1,
           1,
           1,
           1,
           1,
           1,
           1,
           1,
           1,
           1,
           1,
           1,
           1,
           1,
           1,
           1,
           2,
           2,
           2,
           2,
           2,
           2,
           2,
           2,
           2,
           2,
           2,
           2,
           2,
           2,
           2,
           2,
           2,
           2,
           2,
           2,
           2
          ],
          "coloraxis": "coloraxis",
          "symbol": "circle"
         },
         "mode": "markers",
         "name": "",
         "orientation": "v",
         "showlegend": false,
         "type": "scatter",
         "x": [
          -1.032385110947052,
          9.325760600412625,
          14.0478441275923,
          3.288143701584479,
          2.869808389771658,
          -1.5524368857280806,
          -2.761220096719121,
          -0.21279680376335738,
          -5.806301306396682,
          -3.535218624346132,
          -6.526541121359023,
          -6.348222975615027,
          -2.011255777435923,
          -5.613784230109335,
          -3.207684378329442,
          -3.20375064185271,
          -4.90233972027962,
          -4.18878517737172,
          -5.600042848275245,
          -7.985133888681267,
          -2.7946830527185753,
          -4.256460426302016,
          -8.268958441596801,
          -6.751573825530909,
          -6.709379741466688,
          -5.096720183753853,
          2.866276779410784,
          -4.354027622385722,
          -7.604530924406148,
          -5.053328337972231,
          -2.4005403348773897,
          -7.2790358625067375,
          -6.45727248199637,
          -8.16470441658731,
          -4.9387734275234125,
          -1.7235735423649554,
          -8.231795597778255,
          -5.610283061639846,
          -3.8355309747984547,
          -3.884907874883432,
          -2.63921364460144,
          5.271487620435657,
          3.078356176278985,
          17.21047006603336,
          5.673681621401779,
          -0.3530764223568431,
          9.950764721585145,
          20.28276676023833,
          11.062858902063518,
          11.423730307356337,
          5.283371154328412,
          -1.7110280996197418,
          0.48704141712589427,
          7.500650392863108,
          7.939443924822328,
          4.177964475403786,
          15.939381119940919,
          6.122041104927398,
          2.067587723640167,
          4.565525122157426,
          0.18289029324800324,
          1.989451382254496
         ],
         "xaxis": "x",
         "y": [
          -1.349170064145985,
          -2.509557941313336,
          -4.4785594494442735,
          -2.1954715691491518,
          -1.384445050711395,
          -0.7195802821783094,
          -1.283742483229078,
          -2.762710199284086,
          -0.3987689953169778,
          -1.623494821761953,
          0.08284368718427763,
          -1.104655639147712,
          -1.8933202396851758,
          0.27626806167364387,
          -0.875076712268463,
          -0.6081310988039395,
          -1.6284693039181481,
          -1.0065937982300392,
          -0.12602946536801748,
          -0.128177643494108,
          -1.6603620845721134,
          -1.2865555744976083,
          0.6086623356942383,
          0.3982925102353014,
          -0.5678460209375576,
          -0.844812809002974,
          -2.1292536114365737,
          -0.8365962768665793,
          -0.0229521326819371,
          -1.07305242269213,
          -1.0755442552668644,
          1.091857595364013,
          0.14608147527930906,
          -0.13864080291246844,
          0.1242372897591727,
          -0.6497431457092885,
          -0.8204066744852108,
          -0.8735595367546372,
          0.25967297296931086,
          -0.8020593892732988,
          -1.0004459426096797,
          -2.660004662037604,
          0.1044605354260917,
          -3.656135370107633,
          0.40361700390608474,
          6.493430472541029,
          0.4440458426991528,
          -1.4593930408245432,
          1.833240012917237,
          8.282926237610393,
          4.700229143487227,
          4.279955209264728,
          4.009916814375267,
          1.2047028277669303,
          0.30396925833616334,
          -0.043322638569378596,
          -3.58940464409804,
          2.015564715124991,
          2.7316263428210212,
          3.827121359994428,
          4.023906369742377,
          3.619417718613884
         ],
         "yaxis": "y"
        }
       ],
       "layout": {
        "annotations": [
         {
          "font": {},
          "showarrow": false,
          "text": "name=BPTI_genvel1",
          "x": 0.5,
          "xanchor": "center",
          "xref": "paper",
          "y": 1,
          "yanchor": "bottom",
          "yref": "paper"
         }
        ],
        "coloraxis": {
         "colorbar": {
          "title": {
           "text": "rep"
          }
         },
         "colorscale": [
          [
           0,
           "#440154"
          ],
          [
           0.1111111111111111,
           "#482878"
          ],
          [
           0.2222222222222222,
           "#3e4989"
          ],
          [
           0.3333333333333333,
           "#31688e"
          ],
          [
           0.4444444444444444,
           "#26828e"
          ],
          [
           0.5555555555555556,
           "#1f9e89"
          ],
          [
           0.6666666666666666,
           "#35b779"
          ],
          [
           0.7777777777777778,
           "#6ece58"
          ],
          [
           0.8888888888888888,
           "#b5de2b"
          ],
          [
           1,
           "#fde725"
          ]
         ]
        },
        "legend": {
         "tracegroupgap": 0
        },
        "margin": {
         "t": 60
        },
        "template": {
         "data": {
          "bar": [
           {
            "error_x": {
             "color": "#2a3f5f"
            },
            "error_y": {
             "color": "#2a3f5f"
            },
            "marker": {
             "line": {
              "color": "#E5ECF6",
              "width": 0.5
             },
             "pattern": {
              "fillmode": "overlay",
              "size": 10,
              "solidity": 0.2
             }
            },
            "type": "bar"
           }
          ],
          "barpolar": [
           {
            "marker": {
             "line": {
              "color": "#E5ECF6",
              "width": 0.5
             },
             "pattern": {
              "fillmode": "overlay",
              "size": 10,
              "solidity": 0.2
             }
            },
            "type": "barpolar"
           }
          ],
          "carpet": [
           {
            "aaxis": {
             "endlinecolor": "#2a3f5f",
             "gridcolor": "white",
             "linecolor": "white",
             "minorgridcolor": "white",
             "startlinecolor": "#2a3f5f"
            },
            "baxis": {
             "endlinecolor": "#2a3f5f",
             "gridcolor": "white",
             "linecolor": "white",
             "minorgridcolor": "white",
             "startlinecolor": "#2a3f5f"
            },
            "type": "carpet"
           }
          ],
          "choropleth": [
           {
            "colorbar": {
             "outlinewidth": 0,
             "ticks": ""
            },
            "type": "choropleth"
           }
          ],
          "contour": [
           {
            "colorbar": {
             "outlinewidth": 0,
             "ticks": ""
            },
            "colorscale": [
             [
              0,
              "#0d0887"
             ],
             [
              0.1111111111111111,
              "#46039f"
             ],
             [
              0.2222222222222222,
              "#7201a8"
             ],
             [
              0.3333333333333333,
              "#9c179e"
             ],
             [
              0.4444444444444444,
              "#bd3786"
             ],
             [
              0.5555555555555556,
              "#d8576b"
             ],
             [
              0.6666666666666666,
              "#ed7953"
             ],
             [
              0.7777777777777778,
              "#fb9f3a"
             ],
             [
              0.8888888888888888,
              "#fdca26"
             ],
             [
              1,
              "#f0f921"
             ]
            ],
            "type": "contour"
           }
          ],
          "contourcarpet": [
           {
            "colorbar": {
             "outlinewidth": 0,
             "ticks": ""
            },
            "type": "contourcarpet"
           }
          ],
          "heatmap": [
           {
            "colorbar": {
             "outlinewidth": 0,
             "ticks": ""
            },
            "colorscale": [
             [
              0,
              "#0d0887"
             ],
             [
              0.1111111111111111,
              "#46039f"
             ],
             [
              0.2222222222222222,
              "#7201a8"
             ],
             [
              0.3333333333333333,
              "#9c179e"
             ],
             [
              0.4444444444444444,
              "#bd3786"
             ],
             [
              0.5555555555555556,
              "#d8576b"
             ],
             [
              0.6666666666666666,
              "#ed7953"
             ],
             [
              0.7777777777777778,
              "#fb9f3a"
             ],
             [
              0.8888888888888888,
              "#fdca26"
             ],
             [
              1,
              "#f0f921"
             ]
            ],
            "type": "heatmap"
           }
          ],
          "heatmapgl": [
           {
            "colorbar": {
             "outlinewidth": 0,
             "ticks": ""
            },
            "colorscale": [
             [
              0,
              "#0d0887"
             ],
             [
              0.1111111111111111,
              "#46039f"
             ],
             [
              0.2222222222222222,
              "#7201a8"
             ],
             [
              0.3333333333333333,
              "#9c179e"
             ],
             [
              0.4444444444444444,
              "#bd3786"
             ],
             [
              0.5555555555555556,
              "#d8576b"
             ],
             [
              0.6666666666666666,
              "#ed7953"
             ],
             [
              0.7777777777777778,
              "#fb9f3a"
             ],
             [
              0.8888888888888888,
              "#fdca26"
             ],
             [
              1,
              "#f0f921"
             ]
            ],
            "type": "heatmapgl"
           }
          ],
          "histogram": [
           {
            "marker": {
             "pattern": {
              "fillmode": "overlay",
              "size": 10,
              "solidity": 0.2
             }
            },
            "type": "histogram"
           }
          ],
          "histogram2d": [
           {
            "colorbar": {
             "outlinewidth": 0,
             "ticks": ""
            },
            "colorscale": [
             [
              0,
              "#0d0887"
             ],
             [
              0.1111111111111111,
              "#46039f"
             ],
             [
              0.2222222222222222,
              "#7201a8"
             ],
             [
              0.3333333333333333,
              "#9c179e"
             ],
             [
              0.4444444444444444,
              "#bd3786"
             ],
             [
              0.5555555555555556,
              "#d8576b"
             ],
             [
              0.6666666666666666,
              "#ed7953"
             ],
             [
              0.7777777777777778,
              "#fb9f3a"
             ],
             [
              0.8888888888888888,
              "#fdca26"
             ],
             [
              1,
              "#f0f921"
             ]
            ],
            "type": "histogram2d"
           }
          ],
          "histogram2dcontour": [
           {
            "colorbar": {
             "outlinewidth": 0,
             "ticks": ""
            },
            "colorscale": [
             [
              0,
              "#0d0887"
             ],
             [
              0.1111111111111111,
              "#46039f"
             ],
             [
              0.2222222222222222,
              "#7201a8"
             ],
             [
              0.3333333333333333,
              "#9c179e"
             ],
             [
              0.4444444444444444,
              "#bd3786"
             ],
             [
              0.5555555555555556,
              "#d8576b"
             ],
             [
              0.6666666666666666,
              "#ed7953"
             ],
             [
              0.7777777777777778,
              "#fb9f3a"
             ],
             [
              0.8888888888888888,
              "#fdca26"
             ],
             [
              1,
              "#f0f921"
             ]
            ],
            "type": "histogram2dcontour"
           }
          ],
          "mesh3d": [
           {
            "colorbar": {
             "outlinewidth": 0,
             "ticks": ""
            },
            "type": "mesh3d"
           }
          ],
          "parcoords": [
           {
            "line": {
             "colorbar": {
              "outlinewidth": 0,
              "ticks": ""
             }
            },
            "type": "parcoords"
           }
          ],
          "pie": [
           {
            "automargin": true,
            "type": "pie"
           }
          ],
          "scatter": [
           {
            "fillpattern": {
             "fillmode": "overlay",
             "size": 10,
             "solidity": 0.2
            },
            "type": "scatter"
           }
          ],
          "scatter3d": [
           {
            "line": {
             "colorbar": {
              "outlinewidth": 0,
              "ticks": ""
             }
            },
            "marker": {
             "colorbar": {
              "outlinewidth": 0,
              "ticks": ""
             }
            },
            "type": "scatter3d"
           }
          ],
          "scattercarpet": [
           {
            "marker": {
             "colorbar": {
              "outlinewidth": 0,
              "ticks": ""
             }
            },
            "type": "scattercarpet"
           }
          ],
          "scattergeo": [
           {
            "marker": {
             "colorbar": {
              "outlinewidth": 0,
              "ticks": ""
             }
            },
            "type": "scattergeo"
           }
          ],
          "scattergl": [
           {
            "marker": {
             "colorbar": {
              "outlinewidth": 0,
              "ticks": ""
             }
            },
            "type": "scattergl"
           }
          ],
          "scattermapbox": [
           {
            "marker": {
             "colorbar": {
              "outlinewidth": 0,
              "ticks": ""
             }
            },
            "type": "scattermapbox"
           }
          ],
          "scatterpolar": [
           {
            "marker": {
             "colorbar": {
              "outlinewidth": 0,
              "ticks": ""
             }
            },
            "type": "scatterpolar"
           }
          ],
          "scatterpolargl": [
           {
            "marker": {
             "colorbar": {
              "outlinewidth": 0,
              "ticks": ""
             }
            },
            "type": "scatterpolargl"
           }
          ],
          "scatterternary": [
           {
            "marker": {
             "colorbar": {
              "outlinewidth": 0,
              "ticks": ""
             }
            },
            "type": "scatterternary"
           }
          ],
          "surface": [
           {
            "colorbar": {
             "outlinewidth": 0,
             "ticks": ""
            },
            "colorscale": [
             [
              0,
              "#0d0887"
             ],
             [
              0.1111111111111111,
              "#46039f"
             ],
             [
              0.2222222222222222,
              "#7201a8"
             ],
             [
              0.3333333333333333,
              "#9c179e"
             ],
             [
              0.4444444444444444,
              "#bd3786"
             ],
             [
              0.5555555555555556,
              "#d8576b"
             ],
             [
              0.6666666666666666,
              "#ed7953"
             ],
             [
              0.7777777777777778,
              "#fb9f3a"
             ],
             [
              0.8888888888888888,
              "#fdca26"
             ],
             [
              1,
              "#f0f921"
             ]
            ],
            "type": "surface"
           }
          ],
          "table": [
           {
            "cells": {
             "fill": {
              "color": "#EBF0F8"
             },
             "line": {
              "color": "white"
             }
            },
            "header": {
             "fill": {
              "color": "#C8D4E3"
             },
             "line": {
              "color": "white"
             }
            },
            "type": "table"
           }
          ]
         },
         "layout": {
          "annotationdefaults": {
           "arrowcolor": "#2a3f5f",
           "arrowhead": 0,
           "arrowwidth": 1
          },
          "autotypenumbers": "strict",
          "coloraxis": {
           "colorbar": {
            "outlinewidth": 0,
            "ticks": ""
           }
          },
          "colorscale": {
           "diverging": [
            [
             0,
             "#8e0152"
            ],
            [
             0.1,
             "#c51b7d"
            ],
            [
             0.2,
             "#de77ae"
            ],
            [
             0.3,
             "#f1b6da"
            ],
            [
             0.4,
             "#fde0ef"
            ],
            [
             0.5,
             "#f7f7f7"
            ],
            [
             0.6,
             "#e6f5d0"
            ],
            [
             0.7,
             "#b8e186"
            ],
            [
             0.8,
             "#7fbc41"
            ],
            [
             0.9,
             "#4d9221"
            ],
            [
             1,
             "#276419"
            ]
           ],
           "sequential": [
            [
             0,
             "#0d0887"
            ],
            [
             0.1111111111111111,
             "#46039f"
            ],
            [
             0.2222222222222222,
             "#7201a8"
            ],
            [
             0.3333333333333333,
             "#9c179e"
            ],
            [
             0.4444444444444444,
             "#bd3786"
            ],
            [
             0.5555555555555556,
             "#d8576b"
            ],
            [
             0.6666666666666666,
             "#ed7953"
            ],
            [
             0.7777777777777778,
             "#fb9f3a"
            ],
            [
             0.8888888888888888,
             "#fdca26"
            ],
            [
             1,
             "#f0f921"
            ]
           ],
           "sequentialminus": [
            [
             0,
             "#0d0887"
            ],
            [
             0.1111111111111111,
             "#46039f"
            ],
            [
             0.2222222222222222,
             "#7201a8"
            ],
            [
             0.3333333333333333,
             "#9c179e"
            ],
            [
             0.4444444444444444,
             "#bd3786"
            ],
            [
             0.5555555555555556,
             "#d8576b"
            ],
            [
             0.6666666666666666,
             "#ed7953"
            ],
            [
             0.7777777777777778,
             "#fb9f3a"
            ],
            [
             0.8888888888888888,
             "#fdca26"
            ],
            [
             1,
             "#f0f921"
            ]
           ]
          },
          "colorway": [
           "#636efa",
           "#EF553B",
           "#00cc96",
           "#ab63fa",
           "#FFA15A",
           "#19d3f3",
           "#FF6692",
           "#B6E880",
           "#FF97FF",
           "#FECB52"
          ],
          "font": {
           "color": "#2a3f5f"
          },
          "geo": {
           "bgcolor": "white",
           "lakecolor": "white",
           "landcolor": "#E5ECF6",
           "showlakes": true,
           "showland": true,
           "subunitcolor": "white"
          },
          "hoverlabel": {
           "align": "left"
          },
          "hovermode": "closest",
          "mapbox": {
           "style": "light"
          },
          "paper_bgcolor": "white",
          "plot_bgcolor": "#E5ECF6",
          "polar": {
           "angularaxis": {
            "gridcolor": "white",
            "linecolor": "white",
            "ticks": ""
           },
           "bgcolor": "#E5ECF6",
           "radialaxis": {
            "gridcolor": "white",
            "linecolor": "white",
            "ticks": ""
           }
          },
          "scene": {
           "xaxis": {
            "backgroundcolor": "#E5ECF6",
            "gridcolor": "white",
            "gridwidth": 2,
            "linecolor": "white",
            "showbackground": true,
            "ticks": "",
            "zerolinecolor": "white"
           },
           "yaxis": {
            "backgroundcolor": "#E5ECF6",
            "gridcolor": "white",
            "gridwidth": 2,
            "linecolor": "white",
            "showbackground": true,
            "ticks": "",
            "zerolinecolor": "white"
           },
           "zaxis": {
            "backgroundcolor": "#E5ECF6",
            "gridcolor": "white",
            "gridwidth": 2,
            "linecolor": "white",
            "showbackground": true,
            "ticks": "",
            "zerolinecolor": "white"
           }
          },
          "shapedefaults": {
           "line": {
            "color": "#2a3f5f"
           }
          },
          "ternary": {
           "aaxis": {
            "gridcolor": "white",
            "linecolor": "white",
            "ticks": ""
           },
           "baxis": {
            "gridcolor": "white",
            "linecolor": "white",
            "ticks": ""
           },
           "bgcolor": "#E5ECF6",
           "caxis": {
            "gridcolor": "white",
            "linecolor": "white",
            "ticks": ""
           }
          },
          "title": {
           "x": 0.05
          },
          "xaxis": {
           "automargin": true,
           "gridcolor": "white",
           "linecolor": "white",
           "ticks": "",
           "title": {
            "standoff": 15
           },
           "zerolinecolor": "white",
           "zerolinewidth": 2
          },
          "yaxis": {
           "automargin": true,
           "gridcolor": "white",
           "linecolor": "white",
           "ticks": "",
           "title": {
            "standoff": 15
           },
           "zerolinecolor": "white",
           "zerolinewidth": 2
          }
         }
        },
        "xaxis": {
         "anchor": "y",
         "domain": [
          0,
          1
         ],
         "title": {
          "text": "PCA1"
         }
        },
        "yaxis": {
         "anchor": "x",
         "domain": [
          0,
          1
         ],
         "title": {
          "text": "PCA2"
         }
        }
       }
      }
     },
     "metadata": {},
     "output_type": "display_data"
    }
   ],
   "source": [
    "# plot PCA colour by name and rep\n",
    "\n",
    "fig = px.scatter(test_df, x=\"PCA1\", y=\"PCA2\", color=\"rep\", facet_col=\"name\", facet_col_wrap=2, color_continuous_scale=px.colors.sequential.Viridis)\n",
    "\n",
    "fig.show()"
   ]
  },
  {
   "cell_type": "code",
   "execution_count": 10,
   "metadata": {},
   "outputs": [
    {
     "data": {
      "application/vnd.plotly.v1+json": {
       "config": {
        "plotlyServerURL": "https://plot.ly"
       },
       "data": [
        {
         "hovertemplate": "name=BPTI_genvel1<br>PCA1=%{x}<br>PCA2=%{y}<br>frame=%{marker.color}<extra></extra>",
         "legendgroup": "",
         "marker": {
          "color": [
           1,
           2,
           3,
           4,
           5,
           6,
           7,
           8,
           9,
           10,
           11,
           12,
           13,
           14,
           15,
           16,
           17,
           18,
           19,
           20,
           21,
           22,
           23,
           24,
           25,
           26,
           27,
           28,
           29,
           30,
           31,
           32,
           33,
           34,
           35,
           36,
           37,
           38,
           39,
           40,
           41,
           1,
           2,
           3,
           4,
           5,
           6,
           7,
           8,
           9,
           10,
           11,
           12,
           13,
           14,
           15,
           16,
           17,
           18,
           19,
           20,
           21
          ],
          "coloraxis": "coloraxis",
          "symbol": "circle"
         },
         "mode": "markers",
         "name": "",
         "orientation": "v",
         "showlegend": false,
         "type": "scatter",
         "x": [
          -1.032385110947052,
          9.325760600412625,
          14.0478441275923,
          3.288143701584479,
          2.869808389771658,
          -1.5524368857280806,
          -2.761220096719121,
          -0.21279680376335738,
          -5.806301306396682,
          -3.535218624346132,
          -6.526541121359023,
          -6.348222975615027,
          -2.011255777435923,
          -5.613784230109335,
          -3.207684378329442,
          -3.20375064185271,
          -4.90233972027962,
          -4.18878517737172,
          -5.600042848275245,
          -7.985133888681267,
          -2.7946830527185753,
          -4.256460426302016,
          -8.268958441596801,
          -6.751573825530909,
          -6.709379741466688,
          -5.096720183753853,
          2.866276779410784,
          -4.354027622385722,
          -7.604530924406148,
          -5.053328337972231,
          -2.4005403348773897,
          -7.2790358625067375,
          -6.45727248199637,
          -8.16470441658731,
          -4.9387734275234125,
          -1.7235735423649554,
          -8.231795597778255,
          -5.610283061639846,
          -3.8355309747984547,
          -3.884907874883432,
          -2.63921364460144,
          5.271487620435657,
          3.078356176278985,
          17.21047006603336,
          5.673681621401779,
          -0.3530764223568431,
          9.950764721585145,
          20.28276676023833,
          11.062858902063518,
          11.423730307356337,
          5.283371154328412,
          -1.7110280996197418,
          0.48704141712589427,
          7.500650392863108,
          7.939443924822328,
          4.177964475403786,
          15.939381119940919,
          6.122041104927398,
          2.067587723640167,
          4.565525122157426,
          0.18289029324800324,
          1.989451382254496
         ],
         "xaxis": "x",
         "y": [
          -1.349170064145985,
          -2.509557941313336,
          -4.4785594494442735,
          -2.1954715691491518,
          -1.384445050711395,
          -0.7195802821783094,
          -1.283742483229078,
          -2.762710199284086,
          -0.3987689953169778,
          -1.623494821761953,
          0.08284368718427763,
          -1.104655639147712,
          -1.8933202396851758,
          0.27626806167364387,
          -0.875076712268463,
          -0.6081310988039395,
          -1.6284693039181481,
          -1.0065937982300392,
          -0.12602946536801748,
          -0.128177643494108,
          -1.6603620845721134,
          -1.2865555744976083,
          0.6086623356942383,
          0.3982925102353014,
          -0.5678460209375576,
          -0.844812809002974,
          -2.1292536114365737,
          -0.8365962768665793,
          -0.0229521326819371,
          -1.07305242269213,
          -1.0755442552668644,
          1.091857595364013,
          0.14608147527930906,
          -0.13864080291246844,
          0.1242372897591727,
          -0.6497431457092885,
          -0.8204066744852108,
          -0.8735595367546372,
          0.25967297296931086,
          -0.8020593892732988,
          -1.0004459426096797,
          -2.660004662037604,
          0.1044605354260917,
          -3.656135370107633,
          0.40361700390608474,
          6.493430472541029,
          0.4440458426991528,
          -1.4593930408245432,
          1.833240012917237,
          8.282926237610393,
          4.700229143487227,
          4.279955209264728,
          4.009916814375267,
          1.2047028277669303,
          0.30396925833616334,
          -0.043322638569378596,
          -3.58940464409804,
          2.015564715124991,
          2.7316263428210212,
          3.827121359994428,
          4.023906369742377,
          3.619417718613884
         ],
         "yaxis": "y"
        }
       ],
       "layout": {
        "annotations": [
         {
          "font": {},
          "showarrow": false,
          "text": "name=BPTI_genvel1",
          "x": 0.5,
          "xanchor": "center",
          "xref": "paper",
          "y": 1,
          "yanchor": "bottom",
          "yref": "paper"
         }
        ],
        "coloraxis": {
         "colorbar": {
          "title": {
           "text": "frame"
          }
         },
         "colorscale": [
          [
           0,
           "#0d0887"
          ],
          [
           0.1111111111111111,
           "#46039f"
          ],
          [
           0.2222222222222222,
           "#7201a8"
          ],
          [
           0.3333333333333333,
           "#9c179e"
          ],
          [
           0.4444444444444444,
           "#bd3786"
          ],
          [
           0.5555555555555556,
           "#d8576b"
          ],
          [
           0.6666666666666666,
           "#ed7953"
          ],
          [
           0.7777777777777778,
           "#fb9f3a"
          ],
          [
           0.8888888888888888,
           "#fdca26"
          ],
          [
           1,
           "#f0f921"
          ]
         ]
        },
        "legend": {
         "tracegroupgap": 0
        },
        "margin": {
         "t": 60
        },
        "template": {
         "data": {
          "bar": [
           {
            "error_x": {
             "color": "#2a3f5f"
            },
            "error_y": {
             "color": "#2a3f5f"
            },
            "marker": {
             "line": {
              "color": "#E5ECF6",
              "width": 0.5
             },
             "pattern": {
              "fillmode": "overlay",
              "size": 10,
              "solidity": 0.2
             }
            },
            "type": "bar"
           }
          ],
          "barpolar": [
           {
            "marker": {
             "line": {
              "color": "#E5ECF6",
              "width": 0.5
             },
             "pattern": {
              "fillmode": "overlay",
              "size": 10,
              "solidity": 0.2
             }
            },
            "type": "barpolar"
           }
          ],
          "carpet": [
           {
            "aaxis": {
             "endlinecolor": "#2a3f5f",
             "gridcolor": "white",
             "linecolor": "white",
             "minorgridcolor": "white",
             "startlinecolor": "#2a3f5f"
            },
            "baxis": {
             "endlinecolor": "#2a3f5f",
             "gridcolor": "white",
             "linecolor": "white",
             "minorgridcolor": "white",
             "startlinecolor": "#2a3f5f"
            },
            "type": "carpet"
           }
          ],
          "choropleth": [
           {
            "colorbar": {
             "outlinewidth": 0,
             "ticks": ""
            },
            "type": "choropleth"
           }
          ],
          "contour": [
           {
            "colorbar": {
             "outlinewidth": 0,
             "ticks": ""
            },
            "colorscale": [
             [
              0,
              "#0d0887"
             ],
             [
              0.1111111111111111,
              "#46039f"
             ],
             [
              0.2222222222222222,
              "#7201a8"
             ],
             [
              0.3333333333333333,
              "#9c179e"
             ],
             [
              0.4444444444444444,
              "#bd3786"
             ],
             [
              0.5555555555555556,
              "#d8576b"
             ],
             [
              0.6666666666666666,
              "#ed7953"
             ],
             [
              0.7777777777777778,
              "#fb9f3a"
             ],
             [
              0.8888888888888888,
              "#fdca26"
             ],
             [
              1,
              "#f0f921"
             ]
            ],
            "type": "contour"
           }
          ],
          "contourcarpet": [
           {
            "colorbar": {
             "outlinewidth": 0,
             "ticks": ""
            },
            "type": "contourcarpet"
           }
          ],
          "heatmap": [
           {
            "colorbar": {
             "outlinewidth": 0,
             "ticks": ""
            },
            "colorscale": [
             [
              0,
              "#0d0887"
             ],
             [
              0.1111111111111111,
              "#46039f"
             ],
             [
              0.2222222222222222,
              "#7201a8"
             ],
             [
              0.3333333333333333,
              "#9c179e"
             ],
             [
              0.4444444444444444,
              "#bd3786"
             ],
             [
              0.5555555555555556,
              "#d8576b"
             ],
             [
              0.6666666666666666,
              "#ed7953"
             ],
             [
              0.7777777777777778,
              "#fb9f3a"
             ],
             [
              0.8888888888888888,
              "#fdca26"
             ],
             [
              1,
              "#f0f921"
             ]
            ],
            "type": "heatmap"
           }
          ],
          "heatmapgl": [
           {
            "colorbar": {
             "outlinewidth": 0,
             "ticks": ""
            },
            "colorscale": [
             [
              0,
              "#0d0887"
             ],
             [
              0.1111111111111111,
              "#46039f"
             ],
             [
              0.2222222222222222,
              "#7201a8"
             ],
             [
              0.3333333333333333,
              "#9c179e"
             ],
             [
              0.4444444444444444,
              "#bd3786"
             ],
             [
              0.5555555555555556,
              "#d8576b"
             ],
             [
              0.6666666666666666,
              "#ed7953"
             ],
             [
              0.7777777777777778,
              "#fb9f3a"
             ],
             [
              0.8888888888888888,
              "#fdca26"
             ],
             [
              1,
              "#f0f921"
             ]
            ],
            "type": "heatmapgl"
           }
          ],
          "histogram": [
           {
            "marker": {
             "pattern": {
              "fillmode": "overlay",
              "size": 10,
              "solidity": 0.2
             }
            },
            "type": "histogram"
           }
          ],
          "histogram2d": [
           {
            "colorbar": {
             "outlinewidth": 0,
             "ticks": ""
            },
            "colorscale": [
             [
              0,
              "#0d0887"
             ],
             [
              0.1111111111111111,
              "#46039f"
             ],
             [
              0.2222222222222222,
              "#7201a8"
             ],
             [
              0.3333333333333333,
              "#9c179e"
             ],
             [
              0.4444444444444444,
              "#bd3786"
             ],
             [
              0.5555555555555556,
              "#d8576b"
             ],
             [
              0.6666666666666666,
              "#ed7953"
             ],
             [
              0.7777777777777778,
              "#fb9f3a"
             ],
             [
              0.8888888888888888,
              "#fdca26"
             ],
             [
              1,
              "#f0f921"
             ]
            ],
            "type": "histogram2d"
           }
          ],
          "histogram2dcontour": [
           {
            "colorbar": {
             "outlinewidth": 0,
             "ticks": ""
            },
            "colorscale": [
             [
              0,
              "#0d0887"
             ],
             [
              0.1111111111111111,
              "#46039f"
             ],
             [
              0.2222222222222222,
              "#7201a8"
             ],
             [
              0.3333333333333333,
              "#9c179e"
             ],
             [
              0.4444444444444444,
              "#bd3786"
             ],
             [
              0.5555555555555556,
              "#d8576b"
             ],
             [
              0.6666666666666666,
              "#ed7953"
             ],
             [
              0.7777777777777778,
              "#fb9f3a"
             ],
             [
              0.8888888888888888,
              "#fdca26"
             ],
             [
              1,
              "#f0f921"
             ]
            ],
            "type": "histogram2dcontour"
           }
          ],
          "mesh3d": [
           {
            "colorbar": {
             "outlinewidth": 0,
             "ticks": ""
            },
            "type": "mesh3d"
           }
          ],
          "parcoords": [
           {
            "line": {
             "colorbar": {
              "outlinewidth": 0,
              "ticks": ""
             }
            },
            "type": "parcoords"
           }
          ],
          "pie": [
           {
            "automargin": true,
            "type": "pie"
           }
          ],
          "scatter": [
           {
            "fillpattern": {
             "fillmode": "overlay",
             "size": 10,
             "solidity": 0.2
            },
            "type": "scatter"
           }
          ],
          "scatter3d": [
           {
            "line": {
             "colorbar": {
              "outlinewidth": 0,
              "ticks": ""
             }
            },
            "marker": {
             "colorbar": {
              "outlinewidth": 0,
              "ticks": ""
             }
            },
            "type": "scatter3d"
           }
          ],
          "scattercarpet": [
           {
            "marker": {
             "colorbar": {
              "outlinewidth": 0,
              "ticks": ""
             }
            },
            "type": "scattercarpet"
           }
          ],
          "scattergeo": [
           {
            "marker": {
             "colorbar": {
              "outlinewidth": 0,
              "ticks": ""
             }
            },
            "type": "scattergeo"
           }
          ],
          "scattergl": [
           {
            "marker": {
             "colorbar": {
              "outlinewidth": 0,
              "ticks": ""
             }
            },
            "type": "scattergl"
           }
          ],
          "scattermapbox": [
           {
            "marker": {
             "colorbar": {
              "outlinewidth": 0,
              "ticks": ""
             }
            },
            "type": "scattermapbox"
           }
          ],
          "scatterpolar": [
           {
            "marker": {
             "colorbar": {
              "outlinewidth": 0,
              "ticks": ""
             }
            },
            "type": "scatterpolar"
           }
          ],
          "scatterpolargl": [
           {
            "marker": {
             "colorbar": {
              "outlinewidth": 0,
              "ticks": ""
             }
            },
            "type": "scatterpolargl"
           }
          ],
          "scatterternary": [
           {
            "marker": {
             "colorbar": {
              "outlinewidth": 0,
              "ticks": ""
             }
            },
            "type": "scatterternary"
           }
          ],
          "surface": [
           {
            "colorbar": {
             "outlinewidth": 0,
             "ticks": ""
            },
            "colorscale": [
             [
              0,
              "#0d0887"
             ],
             [
              0.1111111111111111,
              "#46039f"
             ],
             [
              0.2222222222222222,
              "#7201a8"
             ],
             [
              0.3333333333333333,
              "#9c179e"
             ],
             [
              0.4444444444444444,
              "#bd3786"
             ],
             [
              0.5555555555555556,
              "#d8576b"
             ],
             [
              0.6666666666666666,
              "#ed7953"
             ],
             [
              0.7777777777777778,
              "#fb9f3a"
             ],
             [
              0.8888888888888888,
              "#fdca26"
             ],
             [
              1,
              "#f0f921"
             ]
            ],
            "type": "surface"
           }
          ],
          "table": [
           {
            "cells": {
             "fill": {
              "color": "#EBF0F8"
             },
             "line": {
              "color": "white"
             }
            },
            "header": {
             "fill": {
              "color": "#C8D4E3"
             },
             "line": {
              "color": "white"
             }
            },
            "type": "table"
           }
          ]
         },
         "layout": {
          "annotationdefaults": {
           "arrowcolor": "#2a3f5f",
           "arrowhead": 0,
           "arrowwidth": 1
          },
          "autotypenumbers": "strict",
          "coloraxis": {
           "colorbar": {
            "outlinewidth": 0,
            "ticks": ""
           }
          },
          "colorscale": {
           "diverging": [
            [
             0,
             "#8e0152"
            ],
            [
             0.1,
             "#c51b7d"
            ],
            [
             0.2,
             "#de77ae"
            ],
            [
             0.3,
             "#f1b6da"
            ],
            [
             0.4,
             "#fde0ef"
            ],
            [
             0.5,
             "#f7f7f7"
            ],
            [
             0.6,
             "#e6f5d0"
            ],
            [
             0.7,
             "#b8e186"
            ],
            [
             0.8,
             "#7fbc41"
            ],
            [
             0.9,
             "#4d9221"
            ],
            [
             1,
             "#276419"
            ]
           ],
           "sequential": [
            [
             0,
             "#0d0887"
            ],
            [
             0.1111111111111111,
             "#46039f"
            ],
            [
             0.2222222222222222,
             "#7201a8"
            ],
            [
             0.3333333333333333,
             "#9c179e"
            ],
            [
             0.4444444444444444,
             "#bd3786"
            ],
            [
             0.5555555555555556,
             "#d8576b"
            ],
            [
             0.6666666666666666,
             "#ed7953"
            ],
            [
             0.7777777777777778,
             "#fb9f3a"
            ],
            [
             0.8888888888888888,
             "#fdca26"
            ],
            [
             1,
             "#f0f921"
            ]
           ],
           "sequentialminus": [
            [
             0,
             "#0d0887"
            ],
            [
             0.1111111111111111,
             "#46039f"
            ],
            [
             0.2222222222222222,
             "#7201a8"
            ],
            [
             0.3333333333333333,
             "#9c179e"
            ],
            [
             0.4444444444444444,
             "#bd3786"
            ],
            [
             0.5555555555555556,
             "#d8576b"
            ],
            [
             0.6666666666666666,
             "#ed7953"
            ],
            [
             0.7777777777777778,
             "#fb9f3a"
            ],
            [
             0.8888888888888888,
             "#fdca26"
            ],
            [
             1,
             "#f0f921"
            ]
           ]
          },
          "colorway": [
           "#636efa",
           "#EF553B",
           "#00cc96",
           "#ab63fa",
           "#FFA15A",
           "#19d3f3",
           "#FF6692",
           "#B6E880",
           "#FF97FF",
           "#FECB52"
          ],
          "font": {
           "color": "#2a3f5f"
          },
          "geo": {
           "bgcolor": "white",
           "lakecolor": "white",
           "landcolor": "#E5ECF6",
           "showlakes": true,
           "showland": true,
           "subunitcolor": "white"
          },
          "hoverlabel": {
           "align": "left"
          },
          "hovermode": "closest",
          "mapbox": {
           "style": "light"
          },
          "paper_bgcolor": "white",
          "plot_bgcolor": "#E5ECF6",
          "polar": {
           "angularaxis": {
            "gridcolor": "white",
            "linecolor": "white",
            "ticks": ""
           },
           "bgcolor": "#E5ECF6",
           "radialaxis": {
            "gridcolor": "white",
            "linecolor": "white",
            "ticks": ""
           }
          },
          "scene": {
           "xaxis": {
            "backgroundcolor": "#E5ECF6",
            "gridcolor": "white",
            "gridwidth": 2,
            "linecolor": "white",
            "showbackground": true,
            "ticks": "",
            "zerolinecolor": "white"
           },
           "yaxis": {
            "backgroundcolor": "#E5ECF6",
            "gridcolor": "white",
            "gridwidth": 2,
            "linecolor": "white",
            "showbackground": true,
            "ticks": "",
            "zerolinecolor": "white"
           },
           "zaxis": {
            "backgroundcolor": "#E5ECF6",
            "gridcolor": "white",
            "gridwidth": 2,
            "linecolor": "white",
            "showbackground": true,
            "ticks": "",
            "zerolinecolor": "white"
           }
          },
          "shapedefaults": {
           "line": {
            "color": "#2a3f5f"
           }
          },
          "ternary": {
           "aaxis": {
            "gridcolor": "white",
            "linecolor": "white",
            "ticks": ""
           },
           "baxis": {
            "gridcolor": "white",
            "linecolor": "white",
            "ticks": ""
           },
           "bgcolor": "#E5ECF6",
           "caxis": {
            "gridcolor": "white",
            "linecolor": "white",
            "ticks": ""
           }
          },
          "title": {
           "x": 0.05
          },
          "xaxis": {
           "automargin": true,
           "gridcolor": "white",
           "linecolor": "white",
           "ticks": "",
           "title": {
            "standoff": 15
           },
           "zerolinecolor": "white",
           "zerolinewidth": 2
          },
          "yaxis": {
           "automargin": true,
           "gridcolor": "white",
           "linecolor": "white",
           "ticks": "",
           "title": {
            "standoff": 15
           },
           "zerolinecolor": "white",
           "zerolinewidth": 2
          }
         }
        },
        "xaxis": {
         "anchor": "y",
         "domain": [
          0,
          1
         ],
         "title": {
          "text": "PCA1"
         }
        },
        "yaxis": {
         "anchor": "x",
         "domain": [
          0,
          1
         ],
         "title": {
          "text": "PCA2"
         }
        }
       }
      }
     },
     "metadata": {},
     "output_type": "display_data"
    }
   ],
   "source": [
    "#plot PCA colour by frame and name\n",
    "\n",
    "fig = px.scatter(test_df, x=\"PCA1\", y=\"PCA2\", color=\"frame\", facet_col=\"name\", facet_col_wrap=2)\n",
    "\n",
    "fig.show()\n",
    "\n"
   ]
  },
  {
   "cell_type": "code",
   "execution_count": 12,
   "metadata": {},
   "outputs": [
    {
     "name": "stdout",
     "output_type": "stream",
     "text": [
      "Replicate number:  1\n",
      "Trial directory temporary:  temporary/MD/5PTI/BPTI_genvel1\n",
      "Trial directory logs:  logs/MD/5PTI/BPTI_genvel1\n",
      "Trial directory data:  data/MD/5PTI/BPTI_genvel1\n",
      "Trial directory visualisation:  visualisation/MD/5PTI/BPTI_genvel1\n",
      "Trial directory analysis:  analysis/MD/5PTI/BPTI_genvel1\n",
      "Environment variables set:  GMXLIB /home/alexi/Documents/xMD\n"
     ]
    }
   ],
   "source": [
    "md = xMD(settings, 'BPTI_genvel1', \"5PTI\", 1)\n"
   ]
  },
  {
   "cell_type": "code",
   "execution_count": 13,
   "metadata": {},
   "outputs": [
    {
     "name": "stdout",
     "output_type": "stream",
     "text": [
      "Trial directory temporary:  temporary/MD/5PTI/BPTI_genvel1\n",
      "Trial directory logs:  logs/MD/5PTI/BPTI_genvel1\n",
      "Trial directory data:  data/MD/5PTI/BPTI_genvel1\n",
      "Trial directory visualisation:  visualisation/MD/5PTI/BPTI_genvel1\n",
      "Trial directory analysis:  analysis/MD/5PTI/BPTI_genvel1\n"
     ]
    },
    {
     "data": {
      "text/plain": [
       "'data/MD/5PTI/BPTI_genvel1'"
      ]
     },
     "execution_count": 13,
     "metadata": {},
     "output_type": "execute_result"
    }
   ],
   "source": [
    "md.generate_path_structure()"
   ]
  }
 ],
 "metadata": {
  "kernelspec": {
   "display_name": "xMD",
   "language": "python",
   "name": "python3"
  },
  "language_info": {
   "codemirror_mode": {
    "name": "ipython",
    "version": 3
   },
   "file_extension": ".py",
   "mimetype": "text/x-python",
   "name": "python",
   "nbconvert_exporter": "python",
   "pygments_lexer": "ipython3",
   "version": "3.10.13"
  }
 },
 "nbformat": 4,
 "nbformat_minor": 2
}
