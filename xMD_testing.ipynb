{
 "cells": [
  {
   "cell_type": "code",
   "execution_count": 1,
   "metadata": {},
   "outputs": [
    {
     "name": "stdout",
     "output_type": "stream",
     "text": [
      "/home/alexi/Documents/xMD\n"
     ]
    }
   ],
   "source": [
    "# xMD testing\n",
    "import pandas as pd\n",
    "import os\n",
    "from xMD.xMD import xMD\n",
    "from xMD.MD_Settings import GROMACS_Settings\n",
    "\n",
    "settings = GROMACS_Settings()\n"
   ]
  },
  {
   "cell_type": "code",
   "execution_count": 2,
   "metadata": {},
   "outputs": [],
   "source": [
    "\n",
    "\n",
    "\n",
    "\n",
    "amber14sb_ff_path = os.path.join(os.getcwd())\n",
    "\n",
    "# Set the GMXLIB environment variable\n",
    "os.environ[\"GMXLIB\"] = amber14sb_ff_path\n",
    "\n"
   ]
  },
  {
   "cell_type": "code",
   "execution_count": 3,
   "metadata": {},
   "outputs": [
    {
     "name": "stdout",
     "output_type": "stream",
     "text": [
      "config\n",
      "topology/BPTI\n"
     ]
    }
   ],
   "source": [
    "settings = GROMACS_Settings()\n",
    "settings.suffix = \"APO_amber99\"\n",
    "# settings.search = \"APO\"\n",
    "\n",
    "print(settings.config)\n",
    "\n",
    "settings.topology = os.path.join(settings.topology,\"BPTI\")\n",
    "print(settings.topology)\n",
    "# make sure to turn on MPI for HPC \n",
    "settings.gmx_mpi_on = False\n"
   ]
  },
  {
   "cell_type": "code",
   "execution_count": 4,
   "metadata": {},
   "outputs": [
    {
     "name": "stdout",
     "output_type": "stream",
     "text": [
      "['1_minim.mdp', '2_equil.mdp', '3_equil.mdp', '4_equil.mdp', '5_equil.mdp', '6_equil.mdp', '7_prod.mdp', '7_prod_10ps_out.mdp', 'md_short.mdp']\n"
     ]
    }
   ],
   "source": [
    "# list config dir \n",
    "\n",
    "configs = os.listdir(settings.config)\n",
    "\n",
    "configs = [config if (\"_\" in config and \".mdp\" in config) else None for config in configs]\n",
    "configs = [config for config in configs if config is not None]\n",
    "\n",
    "print(sorted(configs))"
   ]
  },
  {
   "cell_type": "code",
   "execution_count": 7,
   "metadata": {},
   "outputs": [
    {
     "name": "stdout",
     "output_type": "stream",
     "text": [
      "Replicate number:  1\n",
      "Trial directory temporary:  temporary/MD/5PTI/BPTI_genvel1\n",
      "Trial directory logs:  logs/MD/5PTI/BPTI_genvel1\n",
      "Trial directory data:  data/MD/5PTI/BPTI_genvel1\n",
      "Trial directory visualisation:  visualisation/MD/5PTI/BPTI_genvel1\n",
      "Trial directory analysis:  analysis/MD/5PTI/BPTI_genvel1\n",
      "Environment variables set:  GMXLIB /home/alexi/Documents/xMD\n",
      "Trial directory temporary:  temporary/MD/5PTI/BPTI_genvel1\n",
      "Trial directory logs:  logs/MD/5PTI/BPTI_genvel1\n",
      "Trial directory data:  data/MD/5PTI/BPTI_genvel1\n",
      "Trial directory visualisation:  visualisation/MD/5PTI/BPTI_genvel1\n",
      "Trial directory analysis:  analysis/MD/5PTI/BPTI_genvel1\n",
      "Trial directory temporary:  temporary/MD/5PTI/BPTI_genvel1\n",
      "Trial directory logs:  logs/MD/5PTI/BPTI_genvel1\n",
      "Trial directory data:  data/MD/5PTI/BPTI_genvel1\n",
      "Trial directory visualisation:  visualisation/MD/5PTI/BPTI_genvel1\n",
      "Trial directory analysis:  analysis/MD/5PTI/BPTI_genvel1\n",
      "Creating directory:  R_1 Creating directory:  R_2 Creating directory:  R_3 Creating directory:  R_4 Creating directory:  R_5 Created directories for trial:  BPTI_genvel1\n",
      "Replicate number:  1\n",
      "Config files: : ['3_equil.mdp', 'md10.mdp', '2_equil.mdp', 'nvt.mdp', '6_equil.mdp', '7_prod.mdp', '7_prod_10ps_out.mdp', 'minim.mdp', 'ions.mdp', '4_equil.mdp', 'SBATCH_md.sh', '5_equil.mdp', 'md.mdp', 'npt.mdp', 'md_short.mdp', '1_minim.mdp']\n",
      "Loading config files:  ['1_minim.mdp', '2_equil.mdp', '3_equil.mdp', '4_equil.mdp', '5_equil.mdp', '6_equil.mdp', '7_prod.mdp']\n",
      "Topology files for 5PTI:  ['5PTI_APO_amber99_H_solv_ions.gro', '5PTI_APO_amber99_H.top', '5PTI_APO_amber99_H.pdb']\n",
      "Loading topology files:  ['5PTI_APO_amber99_H_solv_ions.gro', '5PTI_APO_amber99_H.top']\n",
      "checking input for internal consistency...\n",
      "\n",
      "Setting the LD random seed to -104966539\n",
      "\n",
      "processing topology...\n",
      "\n",
      "Generated 2145 of the 2145 non-bonded parameter combinations\n",
      "\n",
      "Generated 2145 of the 2145 1-4 parameter combinations\n"
     ]
    },
    {
     "name": "stderr",
     "output_type": "stream",
     "text": [
      "                      :-) GROMACS - gmx grompp, 2023.2 (-:\n",
      "\n",
      "Executable:   /usr/local/gromacs/bin/gmx\n",
      "Data prefix:  /usr/local/gromacs\n",
      "Working dir:  /home/alexi/Documents/xMD\n",
      "Command line:\n",
      "  gmx grompp -f config/1_minim.mdp -c data/MD/5PTI/BPTI_genvel1/R_1/5PTI_APO_amber99_H_solv_ions.gro -p data/MD/5PTI/BPTI_genvel1/R_1/5PTI_APO_amber99_H.top -o data/MD/5PTI/BPTI_genvel1/R_1/APO_amber99_5PTI_0.tpr -r data/MD/5PTI/BPTI_genvel1/R_1/5PTI_APO_amber99_H_solv_ions.gro -maxwarn 1 -v\n",
      "\n",
      "Ignoring obsolete mdp entry 'ns-type'\n",
      "\n",
      "NOTE 1 [file config/1_minim.mdp]:\n",
      "  You have set rlist larger than the interaction cut-off, but you also have\n",
      "  verlet-buffer-tolerance > 0. Will set rlist using\n",
      "  verlet-buffer-tolerance.\n",
      "\n",
      "\n",
      "NOTE 2 [file config/1_minim.mdp]:\n",
      "  Setting tcoupl from 'V-rescale' to 'no'. Temperature coupling does not\n",
      "  apply to steep.\n",
      "\n",
      "\n",
      "NOTE 3 [file config/1_minim.mdp]:\n",
      "  Setting pcoupl from 'Parrinello-Rahman' to 'no'. Pressure coupling does\n",
      "  not apply to steep.\n",
      "\n",
      "Generating 1-4 interactions: fudge = 0.5\n",
      "\n",
      "-------------------------------------------------------\n",
      "Program:     gmx grompp, version 2023.2\n",
      "Source file: src/gromacs/gmxpreprocess/gmxcpp.cpp (line 295)\n",
      "\n",
      "Fatal error:\n",
      "Topology include file \"posre.itp\" not found\n",
      "\n",
      "For more information and tips for troubleshooting, please check the GROMACS\n",
      "website at http://www.gromacs.org/Documentation/Errors\n",
      "-------------------------------------------------------\n"
     ]
    },
    {
     "ename": "CalledProcessError",
     "evalue": "Command '['gmx', 'grompp', '-f', 'config/1_minim.mdp', '-c', 'data/MD/5PTI/BPTI_genvel1/R_1/5PTI_APO_amber99_H_solv_ions.gro', '-p', 'data/MD/5PTI/BPTI_genvel1/R_1/5PTI_APO_amber99_H.top', '-o', 'data/MD/5PTI/BPTI_genvel1/R_1/APO_amber99_5PTI_0.tpr', '-r', 'data/MD/5PTI/BPTI_genvel1/R_1/5PTI_APO_amber99_H_solv_ions.gro', '-maxwarn', '1', '-v']' returned non-zero exit status 1.",
     "output_type": "error",
     "traceback": [
      "\u001b[0;31m---------------------------------------------------------------------------\u001b[0m",
      "\u001b[0;31mCalledProcessError\u001b[0m                        Traceback (most recent call last)",
      "Cell \u001b[0;32mIn[7], line 9\u001b[0m\n\u001b[1;32m      7\u001b[0m \u001b[38;5;66;03m# md.check_args()\u001b[39;00m\n\u001b[1;32m      8\u001b[0m md\u001b[38;5;241m.\u001b[39mcreate_directory_structure(overwrite\u001b[38;5;241m=\u001b[39m\u001b[38;5;28;01mTrue\u001b[39;00m)\n\u001b[0;32m----> 9\u001b[0m \u001b[43mmd\u001b[49m\u001b[38;5;241;43m.\u001b[39;49m\u001b[43mrun_experiment\u001b[49m\u001b[43m(\u001b[49m\u001b[43mconfig_files\u001b[49m\u001b[38;5;241;43m=\u001b[39;49m\u001b[43mmdps\u001b[49m\u001b[43m,\u001b[49m\u001b[43mtopology_files\u001b[49m\u001b[38;5;241;43m=\u001b[39;49m\u001b[43mfile_names\u001b[49m\u001b[43m)\u001b[49m\n\u001b[1;32m     11\u001b[0m save_path \u001b[38;5;241m=\u001b[39m md\u001b[38;5;241m.\u001b[39msave_experiment()\n",
      "File \u001b[0;32m~/Documents/xMD/xMD/xMD.py:50\u001b[0m, in \u001b[0;36mxMD.run_experiment\u001b[0;34m(self, search, config_files, topology_files, rep, md_steps)\u001b[0m\n\u001b[1;32m     47\u001b[0m     \u001b[38;5;28mself\u001b[39m\u001b[38;5;241m.\u001b[39mconfig_files \u001b[38;5;241m=\u001b[39m \u001b[38;5;28mself\u001b[39m\u001b[38;5;241m.\u001b[39mconfig_files \u001b[38;5;241m*\u001b[39m md_steps\n\u001b[1;32m     48\u001b[0m \u001b[38;5;28;01massert\u001b[39;00m \u001b[38;5;28mlen\u001b[39m(\u001b[38;5;28mself\u001b[39m\u001b[38;5;241m.\u001b[39mconfig_files) \u001b[38;5;241m==\u001b[39m md_steps, \u001b[38;5;124m\"\u001b[39m\u001b[38;5;124mNumber of config files must match number of steps\u001b[39m\u001b[38;5;124m\"\u001b[39m\n\u001b[0;32m---> 50\u001b[0m tpr_path \u001b[38;5;241m=\u001b[39m \u001b[38;5;28;43mself\u001b[39;49m\u001b[38;5;241;43m.\u001b[39;49m\u001b[43mrun_MD_step\u001b[49m\u001b[43m(\u001b[49m\u001b[43m)\u001b[49m\n\u001b[1;32m     51\u001b[0m traj_file, pdb_top_file \u001b[38;5;241m=\u001b[39m \u001b[38;5;28mself\u001b[39m\u001b[38;5;241m.\u001b[39mprepare_analysis(tpr_path\u001b[38;5;241m=\u001b[39mtpr_path)\n\u001b[1;32m     52\u001b[0m \u001b[38;5;28mself\u001b[39m\u001b[38;5;241m.\u001b[39mrun_analysis(traj_file\u001b[38;5;241m=\u001b[39mtraj_file, tpr_path\u001b[38;5;241m=\u001b[39mtpr_path, pdb_top\u001b[38;5;241m=\u001b[39mpdb_top_file)\n",
      "File \u001b[0;32m~/Documents/xMD/xMD/xMD.py:67\u001b[0m, in \u001b[0;36mxMD.run_MD_step\u001b[0;34m(self)\u001b[0m\n\u001b[1;32m     63\u001b[0m \u001b[38;5;28;01massert\u001b[39;00m \u001b[38;5;28misinstance\u001b[39m(md_mdp, \u001b[38;5;28mlist\u001b[39m), \u001b[38;5;124m\"\u001b[39m\u001b[38;5;124mmd_mdp must be a list of mdp files\u001b[39m\u001b[38;5;124m\"\u001b[39m\n\u001b[1;32m     65\u001b[0m \u001b[38;5;28;01mfor\u001b[39;00m mdp \u001b[38;5;129;01min\u001b[39;00m md_mdp:\n\u001b[0;32m---> 67\u001b[0m     input_path \u001b[38;5;241m=\u001b[39m \u001b[43mrun_MD\u001b[49m\u001b[43m(\u001b[49m\u001b[43mmdp\u001b[49m\u001b[43m,\u001b[49m\u001b[43m \u001b[49m\n\u001b[1;32m     68\u001b[0m \u001b[43m                        \u001b[49m\u001b[43minput_path\u001b[49m\u001b[43m,\u001b[49m\u001b[43m \u001b[49m\n\u001b[1;32m     69\u001b[0m \u001b[43m                        \u001b[49m\u001b[43mtopo_path\u001b[49m\u001b[43m,\u001b[49m\u001b[43m \u001b[49m\n\u001b[1;32m     70\u001b[0m \u001b[43m                        \u001b[49m\u001b[43mtpr_path\u001b[49m\u001b[43m,\u001b[49m\u001b[43m \u001b[49m\n\u001b[1;32m     71\u001b[0m \u001b[43m                        \u001b[49m\u001b[38;5;28;43mself\u001b[39;49m\u001b[38;5;241;43m.\u001b[39;49m\u001b[43mgmx\u001b[49m\u001b[43m[\u001b[49m\u001b[38;5;241;43m0\u001b[39;49m\u001b[43m]\u001b[49m\u001b[43m,\u001b[49m\n\u001b[1;32m     72\u001b[0m \u001b[43m                        \u001b[49m\u001b[38;5;28;43mself\u001b[39;49m\u001b[38;5;241;43m.\u001b[39;49m\u001b[43msettings\u001b[49m\u001b[38;5;241;43m.\u001b[39;49m\u001b[43mgpu\u001b[49m\u001b[43m)\u001b[49m\n\u001b[1;32m     74\u001b[0m     \u001b[38;5;28mself\u001b[39m\u001b[38;5;241m.\u001b[39mset_trajectory_number()\n\u001b[1;32m     76\u001b[0m     _,_,_, tpr_path \u001b[38;5;241m=\u001b[39m \u001b[38;5;28msuper\u001b[39m()\u001b[38;5;241m.\u001b[39mrun_MD_step() \n",
      "File \u001b[0;32m~/Documents/xMD/xMD/AuxMD.py:26\u001b[0m, in \u001b[0;36mrun_MD\u001b[0;34m(md_mdp, input_path, topo_path, tpr_path, gmx, gpu)\u001b[0m\n\u001b[1;32m     11\u001b[0m \u001b[38;5;28;01mdef\u001b[39;00m \u001b[38;5;21mrun_MD\u001b[39m(md_mdp: \u001b[38;5;28mstr\u001b[39m, \n\u001b[1;32m     12\u001b[0m            input_path: \u001b[38;5;28mstr\u001b[39m, \n\u001b[1;32m     13\u001b[0m            topo_path: \u001b[38;5;28mstr\u001b[39m, \n\u001b[1;32m     14\u001b[0m            tpr_path: \u001b[38;5;28mstr\u001b[39m, \n\u001b[1;32m     15\u001b[0m            gmx: \u001b[38;5;28mstr\u001b[39m,\n\u001b[1;32m     16\u001b[0m            gpu: \u001b[38;5;28mbool\u001b[39m \u001b[38;5;241m=\u001b[39m \u001b[38;5;28;01mFalse\u001b[39;00m):\n\u001b[1;32m     18\u001b[0m     grompp_command \u001b[38;5;241m=\u001b[39m [\u001b[38;5;124m\"\u001b[39m\u001b[38;5;124mgmx\u001b[39m\u001b[38;5;124m\"\u001b[39m, \u001b[38;5;124m\"\u001b[39m\u001b[38;5;124mgrompp\u001b[39m\u001b[38;5;124m\"\u001b[39m, \n\u001b[1;32m     19\u001b[0m                     \u001b[38;5;124m\"\u001b[39m\u001b[38;5;124m-f\u001b[39m\u001b[38;5;124m\"\u001b[39m, md_mdp, \n\u001b[1;32m     20\u001b[0m                     \u001b[38;5;124m\"\u001b[39m\u001b[38;5;124m-c\u001b[39m\u001b[38;5;124m\"\u001b[39m, input_path, \n\u001b[0;32m   (...)\u001b[0m\n\u001b[1;32m     24\u001b[0m                     \u001b[38;5;124m\"\u001b[39m\u001b[38;5;124m-maxwarn\u001b[39m\u001b[38;5;124m\"\u001b[39m, \u001b[38;5;124m\"\u001b[39m\u001b[38;5;124m1\u001b[39m\u001b[38;5;124m\"\u001b[39m,\n\u001b[1;32m     25\u001b[0m                     \u001b[38;5;124m\"\u001b[39m\u001b[38;5;124m-v\u001b[39m\u001b[38;5;124m\"\u001b[39m]\n\u001b[0;32m---> 26\u001b[0m     \u001b[43msubprocess\u001b[49m\u001b[38;5;241;43m.\u001b[39;49m\u001b[43mrun\u001b[49m\u001b[43m(\u001b[49m\u001b[43mgrompp_command\u001b[49m\u001b[43m,\u001b[49m\u001b[43m \u001b[49m\u001b[43mcheck\u001b[49m\u001b[38;5;241;43m=\u001b[39;49m\u001b[38;5;28;43;01mTrue\u001b[39;49;00m\u001b[43m)\u001b[49m\n\u001b[1;32m     27\u001b[0m     \u001b[38;5;66;03m### TODO add try except for gmx vs gmx_mpi\u001b[39;00m\n\u001b[1;32m     28\u001b[0m     mdrun_command \u001b[38;5;241m=\u001b[39m [gmx, \u001b[38;5;124m\"\u001b[39m\u001b[38;5;124mmdrun\u001b[39m\u001b[38;5;124m\"\u001b[39m, \u001b[38;5;124m\"\u001b[39m\u001b[38;5;124m-v\u001b[39m\u001b[38;5;124m\"\u001b[39m, \u001b[38;5;124m\"\u001b[39m\u001b[38;5;124m-deffnm\u001b[39m\u001b[38;5;124m\"\u001b[39m, tpr_path\u001b[38;5;241m.\u001b[39mreplace(\u001b[38;5;124m\"\u001b[39m\u001b[38;5;124m.tpr\u001b[39m\u001b[38;5;124m\"\u001b[39m,\u001b[38;5;124m\"\u001b[39m\u001b[38;5;124m\"\u001b[39m)]\n",
      "File \u001b[0;32m~/miniconda3/envs/xMD/lib/python3.10/subprocess.py:526\u001b[0m, in \u001b[0;36mrun\u001b[0;34m(input, capture_output, timeout, check, *popenargs, **kwargs)\u001b[0m\n\u001b[1;32m    524\u001b[0m     retcode \u001b[38;5;241m=\u001b[39m process\u001b[38;5;241m.\u001b[39mpoll()\n\u001b[1;32m    525\u001b[0m     \u001b[38;5;28;01mif\u001b[39;00m check \u001b[38;5;129;01mand\u001b[39;00m retcode:\n\u001b[0;32m--> 526\u001b[0m         \u001b[38;5;28;01mraise\u001b[39;00m CalledProcessError(retcode, process\u001b[38;5;241m.\u001b[39margs,\n\u001b[1;32m    527\u001b[0m                                  output\u001b[38;5;241m=\u001b[39mstdout, stderr\u001b[38;5;241m=\u001b[39mstderr)\n\u001b[1;32m    528\u001b[0m \u001b[38;5;28;01mreturn\u001b[39;00m CompletedProcess(process\u001b[38;5;241m.\u001b[39margs, retcode, stdout, stderr)\n",
      "\u001b[0;31mCalledProcessError\u001b[0m: Command '['gmx', 'grompp', '-f', 'config/1_minim.mdp', '-c', 'data/MD/5PTI/BPTI_genvel1/R_1/5PTI_APO_amber99_H_solv_ions.gro', '-p', 'data/MD/5PTI/BPTI_genvel1/R_1/5PTI_APO_amber99_H.top', '-o', 'data/MD/5PTI/BPTI_genvel1/R_1/APO_amber99_5PTI_0.tpr', '-r', 'data/MD/5PTI/BPTI_genvel1/R_1/5PTI_APO_amber99_H_solv_ions.gro', '-maxwarn', '1', '-v']' returned non-zero exit status 1."
     ]
    }
   ],
   "source": [
    "# specify ARGS: -P, -R, -N\n",
    "md = xMD(settings, 'BPTI_genvel1', \"5PTI\", 1)\n",
    "\n",
    "mdps = ['1_minim.mdp', '2_equil.mdp', '3_equil.mdp', '4_equil.mdp', '5_equil.mdp', '6_equil.mdp', '7_prod.mdp']\n",
    "\n",
    "file_names = [\"5PTI_APO_amber99_H_solv_ions.gro\", \"5PTI_APO_amber99_H.top\", \"5PTI_APO_amber99_H.itp\"]\n",
    "# md.check_args()\n",
    "md.create_directory_structure(overwrite=True)\n",
    "md.run_experiment(config_files=mdps,topology_files=file_names)\n",
    "\n",
    "save_path = md.save_experiment()"
   ]
  },
  {
   "cell_type": "code",
   "execution_count": null,
   "metadata": {},
   "outputs": [],
   "source": [
    "def parse_gromacs_energy_log(filepath):\n",
    "    \"\"\"\n",
    "    Parse a GROMACS log file to extract energy information at each step into a DataFrame.\n",
    "    \"\"\"\n",
    "   # read the file\n",
    "    with open(filepath, 'r') as f:\n",
    "        log = f.readlines()\n",
    "    \n",
    "    # find the start of the energy table\n",
    "\n",
    "        for i, line in enumerate(log):\n",
    "            #split by any whitespace\n",
    "            split = line.split()\n",
    "            # find:            Step           Time\n",
    "            if len(split)==2 and split[0] == \"Step\" and split[1] == \"Time\":\n",
    "                start = i\n",
    "                break\n",
    "            #find end\n",
    "\n",
    "        for i, line in enumerate(log):\n",
    "            #split by any whitespace\n",
    "            split = line.split()\n",
    "            if len(split)>1 and split[0] == \"Statistics\":\n",
    "                end = i\n",
    "                break\n",
    "\n",
    "        # extract the table\n",
    "        table = log[start+1:end]\n",
    "    # extract the headers\n",
    "    df = pd.DataFrame()\n",
    "\n",
    "    return df\n",
    "\n",
    "\n",
    "log_file_path = \"data/MD/1K55/APO_MD60_genvel/R_1/APO_md_1K55_0.log\"\n",
    "# Parse the log file again with the updated function\n",
    "energy_df_updated = parse_gromacs_energy_log(log_file_path)\n"
   ]
  },
  {
   "cell_type": "code",
   "execution_count": null,
   "metadata": {},
   "outputs": [],
   "source": [
    "\n"
   ]
  },
  {
   "cell_type": "code",
   "execution_count": null,
   "metadata": {},
   "outputs": [],
   "source": []
  }
 ],
 "metadata": {
  "kernelspec": {
   "display_name": "xMD",
   "language": "python",
   "name": "python3"
  },
  "language_info": {
   "codemirror_mode": {
    "name": "ipython",
    "version": 3
   },
   "file_extension": ".py",
   "mimetype": "text/x-python",
   "name": "python",
   "nbconvert_exporter": "python",
   "pygments_lexer": "ipython3",
   "version": "3.10.13"
  }
 },
 "nbformat": 4,
 "nbformat_minor": 2
}
